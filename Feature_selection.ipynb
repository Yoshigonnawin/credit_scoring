{
 "cells": [
  {
   "cell_type": "code",
   "execution_count": 1,
   "id": "0ed7f126",
   "metadata": {},
   "outputs": [
    {
     "name": "stdout",
     "output_type": "stream",
     "text": [
      "--2025-10-13 22:33:29--  https://drive.google.com/uc?export=download&id=1QpKPHy4QsIlpgpHaRxGF-aZlGYX_BqIW\n",
      "Resolving drive.google.com (drive.google.com)... 142.250.151.194, 2a00:1450:4009:c13::c2\n",
      "Connecting to drive.google.com (drive.google.com)|142.250.151.194|:443... connected.\n",
      "HTTP request sent, awaiting response... 303 See Other\n",
      "Location: https://drive.usercontent.google.com/download?id=1QpKPHy4QsIlpgpHaRxGF-aZlGYX_BqIW&export=download [following]\n",
      "--2025-10-13 22:33:30--  https://drive.usercontent.google.com/download?id=1QpKPHy4QsIlpgpHaRxGF-aZlGYX_BqIW&export=download\n",
      "Resolving drive.usercontent.google.com (drive.usercontent.google.com)... 142.250.74.129, 2a00:1450:400f:804::2001\n",
      "Connecting to drive.usercontent.google.com (drive.usercontent.google.com)|142.250.74.129|:443... connected.\n",
      "HTTP request sent, awaiting response... 200 OK\n",
      "Length: 12002506 (11M) [application/octet-stream]\n",
      "Saving to: ‘data/dataset.csv’\n",
      "\n",
      "data/dataset.csv    100%[===================>]  11.45M  17.7MB/s    in 0.6s    \n",
      "\n",
      "2025-10-13 22:33:33 (17.7 MB/s) - ‘data/dataset.csv’ saved [12002506/12002506]\n",
      "\n"
     ]
    }
   ],
   "source": [
    "! bash download_data.sh"
   ]
  },
  {
   "cell_type": "code",
   "execution_count": 2,
   "id": "503f7411",
   "metadata": {},
   "outputs": [],
   "source": [
    "import pandas as pd\n",
    "\n",
    "data = pd.read_csv(\"data/dataset.csv\")"
   ]
  },
  {
   "cell_type": "code",
   "execution_count": 3,
   "id": "6bcf0f28",
   "metadata": {},
   "outputs": [
    {
     "data": {
      "text/html": [
       "<div>\n",
       "<style scoped>\n",
       "    .dataframe tbody tr th:only-of-type {\n",
       "        vertical-align: middle;\n",
       "    }\n",
       "\n",
       "    .dataframe tbody tr th {\n",
       "        vertical-align: top;\n",
       "    }\n",
       "\n",
       "    .dataframe thead th {\n",
       "        text-align: right;\n",
       "    }\n",
       "</style>\n",
       "<table border=\"1\" class=\"dataframe\">\n",
       "  <thead>\n",
       "    <tr style=\"text-align: right;\">\n",
       "      <th></th>\n",
       "      <th>id</th>\n",
       "      <th>application_datetime</th>\n",
       "      <th>MTS_score</th>\n",
       "      <th>fraud_score</th>\n",
       "      <th>OKB_score</th>\n",
       "      <th>antibankrupt_score</th>\n",
       "      <th>Unnamed: 0</th>\n",
       "      <th>avg_credit_card_utilization_last_12m</th>\n",
       "      <th>num_late_payments_last_24m</th>\n",
       "      <th>max_loan_amount_past_5y</th>\n",
       "      <th>...</th>\n",
       "      <th>ekapusta_vector_9</th>\n",
       "      <th>Rusinterfinance_vector</th>\n",
       "      <th>gamma_refactor_pod</th>\n",
       "      <th>quanta_latch_jx</th>\n",
       "      <th>hexmux_torque_sr</th>\n",
       "      <th>delta_noise_pin</th>\n",
       "      <th>polysync_emitter_vx</th>\n",
       "      <th>wrangle_bitport_8</th>\n",
       "      <th>trace_mux_qr</th>\n",
       "      <th>scramble_node_5</th>\n",
       "    </tr>\n",
       "  </thead>\n",
       "  <tbody>\n",
       "    <tr>\n",
       "      <th>0</th>\n",
       "      <td>4633210</td>\n",
       "      <td>2024-01-01 00:12:37</td>\n",
       "      <td>0.056</td>\n",
       "      <td>0.324</td>\n",
       "      <td>0.20122</td>\n",
       "      <td>0.75</td>\n",
       "      <td>1088</td>\n",
       "      <td>NaN</td>\n",
       "      <td>0.062</td>\n",
       "      <td>NaN</td>\n",
       "      <td>...</td>\n",
       "      <td>0.886478</td>\n",
       "      <td>-0.810528</td>\n",
       "      <td>-0.442521</td>\n",
       "      <td>-0.138927</td>\n",
       "      <td>-1.203383</td>\n",
       "      <td>-0.707538</td>\n",
       "      <td>-0.975481</td>\n",
       "      <td>0.824046</td>\n",
       "      <td>-0.483414</td>\n",
       "      <td>-0.477379</td>\n",
       "    </tr>\n",
       "    <tr>\n",
       "      <th>1</th>\n",
       "      <td>4633211</td>\n",
       "      <td>2024-01-01 00:44:13</td>\n",
       "      <td>0.575</td>\n",
       "      <td>0.192</td>\n",
       "      <td>0.51945</td>\n",
       "      <td>0.70</td>\n",
       "      <td>-1893</td>\n",
       "      <td>0.0</td>\n",
       "      <td>0.691</td>\n",
       "      <td>NaN</td>\n",
       "      <td>...</td>\n",
       "      <td>-1.197664</td>\n",
       "      <td>-0.501757</td>\n",
       "      <td>-0.677516</td>\n",
       "      <td>-1.389196</td>\n",
       "      <td>-0.419252</td>\n",
       "      <td>-0.403336</td>\n",
       "      <td>-1.856283</td>\n",
       "      <td>0.136344</td>\n",
       "      <td>2.202533</td>\n",
       "      <td>0.511516</td>\n",
       "    </tr>\n",
       "    <tr>\n",
       "      <th>2</th>\n",
       "      <td>4633212</td>\n",
       "      <td>2024-01-01 00:53:24</td>\n",
       "      <td>0.956</td>\n",
       "      <td>0.247</td>\n",
       "      <td>0.24840</td>\n",
       "      <td>0.79</td>\n",
       "      <td>424</td>\n",
       "      <td>0.0</td>\n",
       "      <td>0.776</td>\n",
       "      <td>NaN</td>\n",
       "      <td>...</td>\n",
       "      <td>-0.216561</td>\n",
       "      <td>1.162716</td>\n",
       "      <td>2.237123</td>\n",
       "      <td>-1.446566</td>\n",
       "      <td>-1.557770</td>\n",
       "      <td>-0.533780</td>\n",
       "      <td>1.146970</td>\n",
       "      <td>-0.786685</td>\n",
       "      <td>-0.010330</td>\n",
       "      <td>0.957952</td>\n",
       "    </tr>\n",
       "    <tr>\n",
       "      <th>3</th>\n",
       "      <td>4633213</td>\n",
       "      <td>2024-01-01 01:04:00</td>\n",
       "      <td>0.563</td>\n",
       "      <td>0.452</td>\n",
       "      <td>0.39770</td>\n",
       "      <td>0.70</td>\n",
       "      <td>1822</td>\n",
       "      <td>0.0</td>\n",
       "      <td>0.724</td>\n",
       "      <td>0.0</td>\n",
       "      <td>...</td>\n",
       "      <td>2.174569</td>\n",
       "      <td>0.691166</td>\n",
       "      <td>0.524389</td>\n",
       "      <td>-1.287966</td>\n",
       "      <td>0.064069</td>\n",
       "      <td>-1.728057</td>\n",
       "      <td>-0.357496</td>\n",
       "      <td>-0.162440</td>\n",
       "      <td>0.410391</td>\n",
       "      <td>-1.452951</td>\n",
       "    </tr>\n",
       "    <tr>\n",
       "      <th>4</th>\n",
       "      <td>4633214</td>\n",
       "      <td>2024-01-01 01:55:44</td>\n",
       "      <td>0.650</td>\n",
       "      <td>0.505</td>\n",
       "      <td>0.34203</td>\n",
       "      <td>0.72</td>\n",
       "      <td>-2016</td>\n",
       "      <td>0.0</td>\n",
       "      <td>0.895</td>\n",
       "      <td>0.0</td>\n",
       "      <td>...</td>\n",
       "      <td>0.676933</td>\n",
       "      <td>1.647065</td>\n",
       "      <td>0.316818</td>\n",
       "      <td>-0.382999</td>\n",
       "      <td>0.513072</td>\n",
       "      <td>0.132060</td>\n",
       "      <td>1.333927</td>\n",
       "      <td>-0.002653</td>\n",
       "      <td>-0.131036</td>\n",
       "      <td>-0.054672</td>\n",
       "    </tr>\n",
       "  </tbody>\n",
       "</table>\n",
       "<p>5 rows × 390 columns</p>\n",
       "</div>"
      ],
      "text/plain": [
       "        id application_datetime  MTS_score  fraud_score  OKB_score  \\\n",
       "0  4633210  2024-01-01 00:12:37      0.056        0.324    0.20122   \n",
       "1  4633211  2024-01-01 00:44:13      0.575        0.192    0.51945   \n",
       "2  4633212  2024-01-01 00:53:24      0.956        0.247    0.24840   \n",
       "3  4633213  2024-01-01 01:04:00      0.563        0.452    0.39770   \n",
       "4  4633214  2024-01-01 01:55:44      0.650        0.505    0.34203   \n",
       "\n",
       "   antibankrupt_score  Unnamed: 0  avg_credit_card_utilization_last_12m  \\\n",
       "0                0.75        1088                                   NaN   \n",
       "1                0.70       -1893                                   0.0   \n",
       "2                0.79         424                                   0.0   \n",
       "3                0.70        1822                                   0.0   \n",
       "4                0.72       -2016                                   0.0   \n",
       "\n",
       "   num_late_payments_last_24m  max_loan_amount_past_5y  ...  \\\n",
       "0                       0.062                      NaN  ...   \n",
       "1                       0.691                      NaN  ...   \n",
       "2                       0.776                      NaN  ...   \n",
       "3                       0.724                      0.0  ...   \n",
       "4                       0.895                      0.0  ...   \n",
       "\n",
       "   ekapusta_vector_9  Rusinterfinance_vector  gamma_refactor_pod  \\\n",
       "0           0.886478               -0.810528           -0.442521   \n",
       "1          -1.197664               -0.501757           -0.677516   \n",
       "2          -0.216561                1.162716            2.237123   \n",
       "3           2.174569                0.691166            0.524389   \n",
       "4           0.676933                1.647065            0.316818   \n",
       "\n",
       "   quanta_latch_jx  hexmux_torque_sr  delta_noise_pin  polysync_emitter_vx  \\\n",
       "0        -0.138927         -1.203383        -0.707538            -0.975481   \n",
       "1        -1.389196         -0.419252        -0.403336            -1.856283   \n",
       "2        -1.446566         -1.557770        -0.533780             1.146970   \n",
       "3        -1.287966          0.064069        -1.728057            -0.357496   \n",
       "4        -0.382999          0.513072         0.132060             1.333927   \n",
       "\n",
       "   wrangle_bitport_8  trace_mux_qr  scramble_node_5  \n",
       "0           0.824046     -0.483414        -0.477379  \n",
       "1           0.136344      2.202533         0.511516  \n",
       "2          -0.786685     -0.010330         0.957952  \n",
       "3          -0.162440      0.410391        -1.452951  \n",
       "4          -0.002653     -0.131036        -0.054672  \n",
       "\n",
       "[5 rows x 390 columns]"
      ]
     },
     "execution_count": 3,
     "metadata": {},
     "output_type": "execute_result"
    }
   ],
   "source": [
    "data.head()"
   ]
  },
  {
   "cell_type": "code",
   "execution_count": 4,
   "id": "1719b87b",
   "metadata": {},
   "outputs": [
    {
     "data": {
      "text/html": [
       "<div>\n",
       "<style scoped>\n",
       "    .dataframe tbody tr th:only-of-type {\n",
       "        vertical-align: middle;\n",
       "    }\n",
       "\n",
       "    .dataframe tbody tr th {\n",
       "        vertical-align: top;\n",
       "    }\n",
       "\n",
       "    .dataframe thead th {\n",
       "        text-align: right;\n",
       "    }\n",
       "</style>\n",
       "<table border=\"1\" class=\"dataframe\">\n",
       "  <thead>\n",
       "    <tr style=\"text-align: right;\">\n",
       "      <th></th>\n",
       "      <th>id</th>\n",
       "      <th>MTS_score</th>\n",
       "      <th>fraud_score</th>\n",
       "      <th>OKB_score</th>\n",
       "      <th>antibankrupt_score</th>\n",
       "      <th>Unnamed: 0</th>\n",
       "      <th>avg_credit_card_utilization_last_12m</th>\n",
       "      <th>num_late_payments_last_24m</th>\n",
       "      <th>max_loan_amount_past_5y</th>\n",
       "      <th>num_active_loans</th>\n",
       "      <th>...</th>\n",
       "      <th>ekapusta_vector_9</th>\n",
       "      <th>Rusinterfinance_vector</th>\n",
       "      <th>gamma_refactor_pod</th>\n",
       "      <th>quanta_latch_jx</th>\n",
       "      <th>hexmux_torque_sr</th>\n",
       "      <th>delta_noise_pin</th>\n",
       "      <th>polysync_emitter_vx</th>\n",
       "      <th>wrangle_bitport_8</th>\n",
       "      <th>trace_mux_qr</th>\n",
       "      <th>scramble_node_5</th>\n",
       "    </tr>\n",
       "  </thead>\n",
       "  <tbody>\n",
       "    <tr>\n",
       "      <th>count</th>\n",
       "      <td>1.000000e+04</td>\n",
       "      <td>10000.000000</td>\n",
       "      <td>10000.000000</td>\n",
       "      <td>10000.000000</td>\n",
       "      <td>10000.000000</td>\n",
       "      <td>10000.000000</td>\n",
       "      <td>7.396000e+03</td>\n",
       "      <td>10000.000000</td>\n",
       "      <td>5.633000e+03</td>\n",
       "      <td>9799.000000</td>\n",
       "      <td>...</td>\n",
       "      <td>10000.000000</td>\n",
       "      <td>10000.000000</td>\n",
       "      <td>10000.000000</td>\n",
       "      <td>10000.000000</td>\n",
       "      <td>10000.000000</td>\n",
       "      <td>10000.000000</td>\n",
       "      <td>10000.000000</td>\n",
       "      <td>10000.000000</td>\n",
       "      <td>10000.000000</td>\n",
       "      <td>10000.000000</td>\n",
       "    </tr>\n",
       "    <tr>\n",
       "      <th>mean</th>\n",
       "      <td>4.638210e+06</td>\n",
       "      <td>0.438317</td>\n",
       "      <td>0.345664</td>\n",
       "      <td>0.310985</td>\n",
       "      <td>0.735364</td>\n",
       "      <td>5001.523800</td>\n",
       "      <td>4.951961e+03</td>\n",
       "      <td>0.693172</td>\n",
       "      <td>4.619953e+02</td>\n",
       "      <td>0.731817</td>\n",
       "      <td>...</td>\n",
       "      <td>-0.007441</td>\n",
       "      <td>-0.001546</td>\n",
       "      <td>-0.018764</td>\n",
       "      <td>0.007273</td>\n",
       "      <td>-0.000360</td>\n",
       "      <td>-0.004802</td>\n",
       "      <td>-0.002081</td>\n",
       "      <td>-0.006868</td>\n",
       "      <td>0.005965</td>\n",
       "      <td>-0.002965</td>\n",
       "    </tr>\n",
       "    <tr>\n",
       "      <th>std</th>\n",
       "      <td>2.886896e+03</td>\n",
       "      <td>0.276890</td>\n",
       "      <td>0.247554</td>\n",
       "      <td>0.244432</td>\n",
       "      <td>0.238623</td>\n",
       "      <td>3355.564487</td>\n",
       "      <td>4.397113e+04</td>\n",
       "      <td>0.260902</td>\n",
       "      <td>2.712562e+04</td>\n",
       "      <td>0.322920</td>\n",
       "      <td>...</td>\n",
       "      <td>0.996359</td>\n",
       "      <td>1.002761</td>\n",
       "      <td>0.991414</td>\n",
       "      <td>1.000121</td>\n",
       "      <td>0.989763</td>\n",
       "      <td>0.990975</td>\n",
       "      <td>0.998024</td>\n",
       "      <td>1.008034</td>\n",
       "      <td>1.009242</td>\n",
       "      <td>0.998318</td>\n",
       "    </tr>\n",
       "    <tr>\n",
       "      <th>min</th>\n",
       "      <td>4.633210e+06</td>\n",
       "      <td>0.000000</td>\n",
       "      <td>0.000000</td>\n",
       "      <td>0.000020</td>\n",
       "      <td>0.000000</td>\n",
       "      <td>-2817.000000</td>\n",
       "      <td>-4.531140e+02</td>\n",
       "      <td>0.000000</td>\n",
       "      <td>-2.556220e+02</td>\n",
       "      <td>0.125000</td>\n",
       "      <td>...</td>\n",
       "      <td>-3.511606</td>\n",
       "      <td>-3.728254</td>\n",
       "      <td>-3.705097</td>\n",
       "      <td>-3.807601</td>\n",
       "      <td>-3.708255</td>\n",
       "      <td>-4.082780</td>\n",
       "      <td>-3.663479</td>\n",
       "      <td>-4.039278</td>\n",
       "      <td>-3.934721</td>\n",
       "      <td>-4.632184</td>\n",
       "    </tr>\n",
       "    <tr>\n",
       "      <th>25%</th>\n",
       "      <td>4.635710e+06</td>\n",
       "      <td>0.199000</td>\n",
       "      <td>0.133000</td>\n",
       "      <td>0.118400</td>\n",
       "      <td>0.670000</td>\n",
       "      <td>2432.500000</td>\n",
       "      <td>0.000000e+00</td>\n",
       "      <td>0.600000</td>\n",
       "      <td>0.000000e+00</td>\n",
       "      <td>0.468000</td>\n",
       "      <td>...</td>\n",
       "      <td>-0.663581</td>\n",
       "      <td>-0.690442</td>\n",
       "      <td>-0.676152</td>\n",
       "      <td>-0.666812</td>\n",
       "      <td>-0.658246</td>\n",
       "      <td>-0.655625</td>\n",
       "      <td>-0.673638</td>\n",
       "      <td>-0.689132</td>\n",
       "      <td>-0.667508</td>\n",
       "      <td>-0.678164</td>\n",
       "    </tr>\n",
       "    <tr>\n",
       "      <th>50%</th>\n",
       "      <td>4.638210e+06</td>\n",
       "      <td>0.413000</td>\n",
       "      <td>0.315000</td>\n",
       "      <td>0.252330</td>\n",
       "      <td>0.780000</td>\n",
       "      <td>4999.500000</td>\n",
       "      <td>0.000000e+00</td>\n",
       "      <td>0.773000</td>\n",
       "      <td>0.000000e+00</td>\n",
       "      <td>0.803000</td>\n",
       "      <td>...</td>\n",
       "      <td>-0.012937</td>\n",
       "      <td>0.002429</td>\n",
       "      <td>0.005412</td>\n",
       "      <td>0.010467</td>\n",
       "      <td>-0.003066</td>\n",
       "      <td>-0.001405</td>\n",
       "      <td>0.001079</td>\n",
       "      <td>-0.013649</td>\n",
       "      <td>0.012511</td>\n",
       "      <td>0.007107</td>\n",
       "    </tr>\n",
       "    <tr>\n",
       "      <th>75%</th>\n",
       "      <td>4.640709e+06</td>\n",
       "      <td>0.662000</td>\n",
       "      <td>0.506000</td>\n",
       "      <td>0.434790</td>\n",
       "      <td>0.920000</td>\n",
       "      <td>7568.250000</td>\n",
       "      <td>0.000000e+00</td>\n",
       "      <td>0.875000</td>\n",
       "      <td>0.000000e+00</td>\n",
       "      <td>1.000000</td>\n",
       "      <td>...</td>\n",
       "      <td>0.662001</td>\n",
       "      <td>0.677126</td>\n",
       "      <td>0.641488</td>\n",
       "      <td>0.685175</td>\n",
       "      <td>0.670155</td>\n",
       "      <td>0.662213</td>\n",
       "      <td>0.672627</td>\n",
       "      <td>0.669938</td>\n",
       "      <td>0.690122</td>\n",
       "      <td>0.664774</td>\n",
       "    </tr>\n",
       "    <tr>\n",
       "      <th>max</th>\n",
       "      <td>4.643209e+06</td>\n",
       "      <td>1.000000</td>\n",
       "      <td>1.000000</td>\n",
       "      <td>0.999290</td>\n",
       "      <td>1.000000</td>\n",
       "      <td>12859.000000</td>\n",
       "      <td>1.317003e+06</td>\n",
       "      <td>1.000000</td>\n",
       "      <td>2.032791e+06</td>\n",
       "      <td>2.006000</td>\n",
       "      <td>...</td>\n",
       "      <td>3.883622</td>\n",
       "      <td>3.599831</td>\n",
       "      <td>3.580787</td>\n",
       "      <td>4.298965</td>\n",
       "      <td>4.112596</td>\n",
       "      <td>3.482443</td>\n",
       "      <td>3.489829</td>\n",
       "      <td>3.935071</td>\n",
       "      <td>3.514355</td>\n",
       "      <td>3.944948</td>\n",
       "    </tr>\n",
       "  </tbody>\n",
       "</table>\n",
       "<p>8 rows × 386 columns</p>\n",
       "</div>"
      ],
      "text/plain": [
       "                 id     MTS_score   fraud_score     OKB_score  \\\n",
       "count  1.000000e+04  10000.000000  10000.000000  10000.000000   \n",
       "mean   4.638210e+06      0.438317      0.345664      0.310985   \n",
       "std    2.886896e+03      0.276890      0.247554      0.244432   \n",
       "min    4.633210e+06      0.000000      0.000000      0.000020   \n",
       "25%    4.635710e+06      0.199000      0.133000      0.118400   \n",
       "50%    4.638210e+06      0.413000      0.315000      0.252330   \n",
       "75%    4.640709e+06      0.662000      0.506000      0.434790   \n",
       "max    4.643209e+06      1.000000      1.000000      0.999290   \n",
       "\n",
       "       antibankrupt_score    Unnamed: 0  avg_credit_card_utilization_last_12m  \\\n",
       "count        10000.000000  10000.000000                          7.396000e+03   \n",
       "mean             0.735364   5001.523800                          4.951961e+03   \n",
       "std              0.238623   3355.564487                          4.397113e+04   \n",
       "min              0.000000  -2817.000000                         -4.531140e+02   \n",
       "25%              0.670000   2432.500000                          0.000000e+00   \n",
       "50%              0.780000   4999.500000                          0.000000e+00   \n",
       "75%              0.920000   7568.250000                          0.000000e+00   \n",
       "max              1.000000  12859.000000                          1.317003e+06   \n",
       "\n",
       "       num_late_payments_last_24m  max_loan_amount_past_5y  num_active_loans  \\\n",
       "count                10000.000000             5.633000e+03       9799.000000   \n",
       "mean                     0.693172             4.619953e+02          0.731817   \n",
       "std                      0.260902             2.712562e+04          0.322920   \n",
       "min                      0.000000            -2.556220e+02          0.125000   \n",
       "25%                      0.600000             0.000000e+00          0.468000   \n",
       "50%                      0.773000             0.000000e+00          0.803000   \n",
       "75%                      0.875000             0.000000e+00          1.000000   \n",
       "max                      1.000000             2.032791e+06          2.006000   \n",
       "\n",
       "       ...  ekapusta_vector_9  Rusinterfinance_vector  gamma_refactor_pod  \\\n",
       "count  ...       10000.000000            10000.000000        10000.000000   \n",
       "mean   ...          -0.007441               -0.001546           -0.018764   \n",
       "std    ...           0.996359                1.002761            0.991414   \n",
       "min    ...          -3.511606               -3.728254           -3.705097   \n",
       "25%    ...          -0.663581               -0.690442           -0.676152   \n",
       "50%    ...          -0.012937                0.002429            0.005412   \n",
       "75%    ...           0.662001                0.677126            0.641488   \n",
       "max    ...           3.883622                3.599831            3.580787   \n",
       "\n",
       "       quanta_latch_jx  hexmux_torque_sr  delta_noise_pin  \\\n",
       "count     10000.000000      10000.000000     10000.000000   \n",
       "mean          0.007273         -0.000360        -0.004802   \n",
       "std           1.000121          0.989763         0.990975   \n",
       "min          -3.807601         -3.708255        -4.082780   \n",
       "25%          -0.666812         -0.658246        -0.655625   \n",
       "50%           0.010467         -0.003066        -0.001405   \n",
       "75%           0.685175          0.670155         0.662213   \n",
       "max           4.298965          4.112596         3.482443   \n",
       "\n",
       "       polysync_emitter_vx  wrangle_bitport_8  trace_mux_qr  scramble_node_5  \n",
       "count         10000.000000       10000.000000  10000.000000     10000.000000  \n",
       "mean             -0.002081          -0.006868      0.005965        -0.002965  \n",
       "std               0.998024           1.008034      1.009242         0.998318  \n",
       "min              -3.663479          -4.039278     -3.934721        -4.632184  \n",
       "25%              -0.673638          -0.689132     -0.667508        -0.678164  \n",
       "50%               0.001079          -0.013649      0.012511         0.007107  \n",
       "75%               0.672627           0.669938      0.690122         0.664774  \n",
       "max               3.489829           3.935071      3.514355         3.944948  \n",
       "\n",
       "[8 rows x 386 columns]"
      ]
     },
     "execution_count": 4,
     "metadata": {},
     "output_type": "execute_result"
    }
   ],
   "source": [
    "data.describe()"
   ]
  },
  {
   "cell_type": "markdown",
   "id": "34a77821",
   "metadata": {},
   "source": [
    "Сразу удалим data_leak колонку id "
   ]
  },
  {
   "cell_type": "code",
   "execution_count": 5,
   "id": "b80082d7",
   "metadata": {},
   "outputs": [],
   "source": [
    "data.drop(columns=[\"id\", \"user_id\", \"usbank_runentry_id\"], inplace=True)"
   ]
  },
  {
   "cell_type": "markdown",
   "id": "6ec82f78",
   "metadata": {},
   "source": [
    "### Поделим на train и  и test "
   ]
  },
  {
   "cell_type": "code",
   "execution_count": 6,
   "id": "0208a34b",
   "metadata": {},
   "outputs": [],
   "source": [
    "def split_data(\n",
    "    data: pd.DataFrame, split_column: str, ratio: float = 0.8\n",
    ") -> tuple[\n",
    "    pd.DataFrame,\n",
    "    pd.DataFrame,\n",
    "]:\n",
    "    dates = pd.DataFrame(\n",
    "        pd.to_datetime(data[split_column]).dt.date.unique(), columns=[\"dates\"]\n",
    "    )\n",
    "    cutoff = str(dates.quantile(ratio).values[0])\n",
    "    part_1 = data.query(f\"{split_column}<'{cutoff}'\")\n",
    "    part_2 = data.query(f\"{split_column}>='{cutoff}'\")\n",
    "    return part_1, part_2\n",
    "\n",
    "\n",
    "train, test = split_data(data, \"application_datetime\")"
   ]
  },
  {
   "cell_type": "code",
   "execution_count": 7,
   "id": "10c230fa",
   "metadata": {},
   "outputs": [],
   "source": [
    "del data"
   ]
  },
  {
   "cell_type": "markdown",
   "id": "b2b5d409",
   "metadata": {},
   "source": [
    "План на уменьшение размерности:\n",
    "\n",
    "    1) Проверка на null \n",
    "    2) удалить константные значения\n",
    "    3) Натянем Catboost с регуляризацией\n",
    "    4) Проверим на линейную зависимость по матрице кореляции"
   ]
  },
  {
   "cell_type": "code",
   "execution_count": 8,
   "id": "eb185121",
   "metadata": {},
   "outputs": [],
   "source": [
    "null_thresh = 0.5\n",
    "\n",
    "xnullable_counts = {\n",
    "    col: train[col].isnull().sum()\n",
    "    for col in train.columns\n",
    "    if train[col].isnull().sum() > 0\n",
    "}\n",
    "\n",
    "xnullable_ratio = {col: value / len(train) for col, value in xnullable_counts.items()}\n",
    "\n",
    "xnullable_columns = [\n",
    "    col for col, value in xnullable_ratio.items() if value < null_thresh\n",
    "]"
   ]
  },
  {
   "cell_type": "code",
   "execution_count": 9,
   "id": "24af30c5",
   "metadata": {},
   "outputs": [],
   "source": [
    "train.drop(columns=xnullable_columns, inplace=True, errors=\"ignore\")\n",
    "test.drop(columns=xnullable_columns, inplace=True, errors=\"ignore\")\n",
    "\n",
    "del xnullable_counts, xnullable_ratio, xnullable_columns"
   ]
  },
  {
   "cell_type": "code",
   "execution_count": 10,
   "id": "4d22e2f8",
   "metadata": {},
   "outputs": [
    {
     "data": {
      "text/plain": [
       "[]"
      ]
     },
     "execution_count": 10,
     "metadata": {},
     "output_type": "execute_result"
    }
   ],
   "source": [
    "constant_value_thresh = 1\n",
    "\n",
    "\n",
    "constant_value_counts = {\n",
    "    col: train[col].value_counts(dropna=True).sum() for col in train.columns\n",
    "}\n",
    "\n",
    "constant_value_columns = [\n",
    "    col\n",
    "    for col, value in constant_value_counts.items()\n",
    "    if value == constant_value_thresh\n",
    "]\n",
    "\n",
    "constant_value_columns"
   ]
  },
  {
   "cell_type": "code",
   "execution_count": 11,
   "id": "d87c4daa",
   "metadata": {},
   "outputs": [],
   "source": [
    "del constant_value_counts, constant_value_columns"
   ]
  },
  {
   "cell_type": "code",
   "execution_count": 12,
   "id": "edb6d5d7",
   "metadata": {},
   "outputs": [],
   "source": [
    "def categorize_columns(data: pd.DataFrame) -> dict[str, list[str]]:\n",
    "    \"\"\"\n",
    "    Разделяет колонки DataFrame на числовые, булевые и категориальные.\n",
    "\n",
    "    Returns:\n",
    "        dict с ключами 'numeric', 'boolean', 'categorical'\n",
    "    \"\"\"\n",
    "    numeric_cols = []\n",
    "    boolean_cols = []\n",
    "    categorical_cols = []\n",
    "\n",
    "    for col in data.columns:\n",
    "        # Булевые (bool или содержат только 0/1, True/False)\n",
    "        if data[col].dtype == \"bool\":\n",
    "            boolean_cols.append(col)\n",
    "        # Числовые (int, float)\n",
    "        elif pd.api.types.is_numeric_dtype(data[col]):\n",
    "            # Проверяем, не является ли числовая колонка на самом деле булевой\n",
    "            unique_vals = data[col].dropna().unique()\n",
    "            if len(unique_vals) == 2 and set(unique_vals).issubset({0, 1}):\n",
    "                boolean_cols.append(col)\n",
    "            else:\n",
    "                numeric_cols.append(col)\n",
    "        # Категориальные (object, category, datetime)\n",
    "        else:\n",
    "            categorical_cols.append(col)\n",
    "\n",
    "    return {\n",
    "        \"numeric\": numeric_cols,\n",
    "        \"boolean\": boolean_cols,\n",
    "        \"categorical\": categorical_cols,\n",
    "    }"
   ]
  },
  {
   "cell_type": "code",
   "execution_count": 13,
   "id": "bc2f3e93",
   "metadata": {},
   "outputs": [],
   "source": [
    "excluded_features = [\"application_datetime\", \"def_45\"]\n",
    "\n",
    "columns_types = categorize_columns(train.drop(columns=excluded_features))"
   ]
  },
  {
   "cell_type": "code",
   "execution_count": 14,
   "id": "614b4b23",
   "metadata": {},
   "outputs": [
    {
     "name": "stdout",
     "output_type": "stream",
     "text": [
      "0:\tlearn: 0.8373960\ttotal: 60ms\tremaining: 1m 29s\n",
      "1:\tlearn: 0.9160905\ttotal: 69.3ms\tremaining: 51.9s\n",
      "2:\tlearn: 0.9362729\ttotal: 78.6ms\tremaining: 39.2s\n",
      "3:\tlearn: 0.9365994\ttotal: 87.1ms\tremaining: 32.6s\n",
      "4:\tlearn: 0.9422394\ttotal: 95.3ms\tremaining: 28.5s\n",
      "5:\tlearn: 0.9471808\ttotal: 103ms\tremaining: 25.7s\n",
      "6:\tlearn: 0.9516391\ttotal: 111ms\tremaining: 23.6s\n",
      "7:\tlearn: 0.9518699\ttotal: 119ms\tremaining: 22.1s\n",
      "8:\tlearn: 0.9531097\ttotal: 127ms\tremaining: 21s\n",
      "9:\tlearn: 0.9552872\ttotal: 135ms\tremaining: 20.2s\n",
      "10:\tlearn: 0.9575025\ttotal: 144ms\tremaining: 19.4s\n",
      "11:\tlearn: 0.9578156\ttotal: 153ms\tremaining: 19s\n",
      "12:\tlearn: 0.9575025\ttotal: 161ms\tremaining: 18.5s\n",
      "13:\tlearn: 0.9591370\ttotal: 170ms\tremaining: 18s\n",
      "14:\tlearn: 0.9597776\ttotal: 178ms\tremaining: 17.6s\n",
      "15:\tlearn: 0.9597908\ttotal: 186ms\tremaining: 17.3s\n",
      "16:\tlearn: 0.9622827\ttotal: 195ms\tremaining: 17s\n",
      "17:\tlearn: 0.9632787\ttotal: 205ms\tremaining: 16.8s\n",
      "18:\tlearn: 0.9636066\ttotal: 213ms\tremaining: 16.6s\n",
      "19:\tlearn: 0.9642271\ttotal: 220ms\tremaining: 16.3s\n",
      "20:\tlearn: 0.9652459\ttotal: 229ms\tremaining: 16.2s\n",
      "21:\tlearn: 0.9665025\ttotal: 238ms\tremaining: 16s\n",
      "22:\tlearn: 0.9671161\ttotal: 246ms\tremaining: 15.8s\n",
      "23:\tlearn: 0.9671161\ttotal: 255ms\tremaining: 15.7s\n",
      "24:\tlearn: 0.9668091\ttotal: 264ms\tremaining: 15.6s\n",
      "25:\tlearn: 0.9681131\ttotal: 272ms\tremaining: 15.4s\n",
      "26:\tlearn: 0.9684211\ttotal: 281ms\tremaining: 15.3s\n",
      "27:\tlearn: 0.9677844\ttotal: 294ms\tremaining: 15.5s\n",
      "28:\tlearn: 0.9677844\ttotal: 303ms\tremaining: 15.3s\n",
      "29:\tlearn: 0.9677844\ttotal: 311ms\tremaining: 15.2s\n",
      "30:\tlearn: 0.9697069\ttotal: 320ms\tremaining: 15.2s\n",
      "31:\tlearn: 0.9706755\ttotal: 328ms\tremaining: 15.1s\n",
      "32:\tlearn: 0.9713250\ttotal: 337ms\tremaining: 15s\n",
      "33:\tlearn: 0.9710049\ttotal: 346ms\tremaining: 14.9s\n",
      "34:\tlearn: 0.9713250\ttotal: 353ms\tremaining: 14.8s\n",
      "35:\tlearn: 0.9713061\ttotal: 362ms\tremaining: 14.7s\n",
      "36:\tlearn: 0.9716546\ttotal: 370ms\tremaining: 14.6s\n",
      "37:\tlearn: 0.9719749\ttotal: 379ms\tremaining: 14.6s\n",
      "38:\tlearn: 0.9716733\ttotal: 388ms\tremaining: 14.5s\n",
      "39:\tlearn: 0.9716733\ttotal: 397ms\tremaining: 14.5s\n",
      "40:\tlearn: 0.9716919\ttotal: 406ms\tremaining: 14.4s\n",
      "41:\tlearn: 0.9716919\ttotal: 415ms\tremaining: 14.4s\n",
      "42:\tlearn: 0.9720119\ttotal: 424ms\tremaining: 14.4s\n",
      "43:\tlearn: 0.9717012\ttotal: 432ms\tremaining: 14.3s\n",
      "44:\tlearn: 0.9717012\ttotal: 440ms\tremaining: 14.2s\n",
      "45:\tlearn: 0.9720303\ttotal: 448ms\tremaining: 14.2s\n",
      "46:\tlearn: 0.9720579\ttotal: 457ms\tremaining: 14.1s\n",
      "47:\tlearn: 0.9729908\ttotal: 466ms\tremaining: 14.1s\n",
      "48:\tlearn: 0.9733114\ttotal: 474ms\tremaining: 14s\n",
      "49:\tlearn: 0.9736409\ttotal: 482ms\tremaining: 14s\n",
      "50:\tlearn: 0.9749175\ttotal: 491ms\tremaining: 13.9s\n",
      "51:\tlearn: 0.9752475\ttotal: 499ms\tremaining: 13.9s\n",
      "52:\tlearn: 0.9752475\ttotal: 507ms\tremaining: 13.8s\n",
      "53:\tlearn: 0.9756178\ttotal: 515ms\tremaining: 13.8s\n",
      "54:\tlearn: 0.9756178\ttotal: 524ms\tremaining: 13.8s\n",
      "55:\tlearn: 0.9756338\ttotal: 532ms\tremaining: 13.7s\n",
      "56:\tlearn: 0.9756338\ttotal: 543ms\tremaining: 13.7s\n",
      "57:\tlearn: 0.9756338\ttotal: 552ms\tremaining: 13.7s\n",
      "58:\tlearn: 0.9756338\ttotal: 561ms\tremaining: 13.7s\n",
      "59:\tlearn: 0.9756338\ttotal: 570ms\tremaining: 13.7s\n",
      "60:\tlearn: 0.9756419\ttotal: 579ms\tremaining: 13.7s\n",
      "61:\tlearn: 0.9759631\ttotal: 588ms\tremaining: 13.6s\n",
      "62:\tlearn: 0.9759631\ttotal: 596ms\tremaining: 13.6s\n",
      "63:\tlearn: 0.9766063\ttotal: 605ms\tremaining: 13.6s\n",
      "64:\tlearn: 0.9772652\ttotal: 615ms\tremaining: 13.6s\n",
      "65:\tlearn: 0.9775947\ttotal: 624ms\tremaining: 13.6s\n",
      "66:\tlearn: 0.9775947\ttotal: 633ms\tremaining: 13.5s\n",
      "67:\tlearn: 0.9779169\ttotal: 641ms\tremaining: 13.5s\n",
      "68:\tlearn: 0.9779169\ttotal: 650ms\tremaining: 13.5s\n",
      "69:\tlearn: 0.9782465\ttotal: 660ms\tremaining: 13.5s\n",
      "70:\tlearn: 0.9775947\ttotal: 668ms\tremaining: 13.4s\n",
      "71:\tlearn: 0.9779169\ttotal: 676ms\tremaining: 13.4s\n",
      "72:\tlearn: 0.9782537\ttotal: 686ms\tremaining: 13.4s\n",
      "73:\tlearn: 0.9792148\ttotal: 695ms\tremaining: 13.4s\n",
      "74:\tlearn: 0.9792148\ttotal: 704ms\tremaining: 13.4s\n",
      "75:\tlearn: 0.9795447\ttotal: 713ms\tremaining: 13.4s\n",
      "76:\tlearn: 0.9798879\ttotal: 722ms\tremaining: 13.3s\n",
      "77:\tlearn: 0.9802111\ttotal: 730ms\tremaining: 13.3s\n",
      "78:\tlearn: 0.9802176\ttotal: 740ms\tremaining: 13.3s\n",
      "79:\tlearn: 0.9805473\ttotal: 749ms\tremaining: 13.3s\n",
      "80:\tlearn: 0.9805601\ttotal: 758ms\tremaining: 13.3s\n",
      "81:\tlearn: 0.9808896\ttotal: 766ms\tremaining: 13.3s\n",
      "82:\tlearn: 0.9812191\ttotal: 775ms\tremaining: 13.2s\n",
      "83:\tlearn: 0.9809085\ttotal: 785ms\tremaining: 13.2s\n",
      "84:\tlearn: 0.9809085\ttotal: 794ms\tremaining: 13.2s\n",
      "85:\tlearn: 0.9818661\ttotal: 803ms\tremaining: 13.2s\n",
      "86:\tlearn: 0.9818661\ttotal: 812ms\tremaining: 13.2s\n",
      "87:\tlearn: 0.9821900\ttotal: 820ms\tremaining: 13.2s\n",
      "88:\tlearn: 0.9815364\ttotal: 829ms\tremaining: 13.1s\n",
      "89:\tlearn: 0.9844577\ttotal: 839ms\tremaining: 13.1s\n",
      "90:\tlearn: 0.9851240\ttotal: 847ms\tremaining: 13.1s\n",
      "91:\tlearn: 0.9854690\ttotal: 856ms\tremaining: 13.1s\n",
      "92:\tlearn: 0.9854690\ttotal: 864ms\tremaining: 13.1s\n",
      "93:\tlearn: 0.9857945\ttotal: 873ms\tremaining: 13.1s\n",
      "94:\tlearn: 0.9857992\ttotal: 882ms\tremaining: 13.1s\n",
      "95:\tlearn: 0.9861249\ttotal: 891ms\tremaining: 13s\n",
      "96:\tlearn: 0.9864552\ttotal: 900ms\tremaining: 13s\n",
      "97:\tlearn: 0.9861249\ttotal: 909ms\tremaining: 13s\n",
      "98:\tlearn: 0.9864597\ttotal: 920ms\tremaining: 13s\n",
      "99:\tlearn: 0.9864642\ttotal: 931ms\tremaining: 13s\n",
      "100:\tlearn: 0.9867900\ttotal: 941ms\tremaining: 13s\n",
      "101:\tlearn: 0.9871245\ttotal: 949ms\tremaining: 13s\n",
      "102:\tlearn: 0.9874505\ttotal: 958ms\tremaining: 13s\n",
      "103:\tlearn: 0.9877767\ttotal: 967ms\tremaining: 13s\n",
      "104:\tlearn: 0.9884374\ttotal: 976ms\tremaining: 13s\n",
      "105:\tlearn: 0.9877847\ttotal: 985ms\tremaining: 13s\n",
      "106:\tlearn: 0.9887640\ttotal: 994ms\tremaining: 12.9s\n",
      "107:\tlearn: 0.9887640\ttotal: 1s\tremaining: 12.9s\n",
      "108:\tlearn: 0.9887678\ttotal: 1.01s\tremaining: 12.9s\n",
      "109:\tlearn: 0.9890945\ttotal: 1.02s\tremaining: 12.9s\n",
      "110:\tlearn: 0.9894180\ttotal: 1.03s\tremaining: 12.9s\n",
      "111:\tlearn: 0.9894180\ttotal: 1.04s\tremaining: 12.8s\n",
      "112:\tlearn: 0.9894180\ttotal: 1.04s\tremaining: 12.8s\n",
      "113:\tlearn: 0.9894180\ttotal: 1.05s\tremaining: 12.8s\n",
      "114:\tlearn: 0.9894180\ttotal: 1.06s\tremaining: 12.8s\n",
      "115:\tlearn: 0.9894180\ttotal: 1.07s\tremaining: 12.8s\n",
      "116:\tlearn: 0.9897453\ttotal: 1.08s\tremaining: 12.8s\n",
      "117:\tlearn: 0.9897453\ttotal: 1.09s\tremaining: 12.8s\n",
      "118:\tlearn: 0.9900761\ttotal: 1.1s\tremaining: 12.8s\n",
      "119:\tlearn: 0.9904037\ttotal: 1.11s\tremaining: 12.7s\n",
      "120:\tlearn: 0.9904069\ttotal: 1.12s\tremaining: 12.7s\n",
      "121:\tlearn: 0.9904101\ttotal: 1.13s\tremaining: 12.7s\n",
      "122:\tlearn: 0.9904101\ttotal: 1.14s\tremaining: 12.7s\n",
      "123:\tlearn: 0.9907377\ttotal: 1.15s\tremaining: 12.7s\n",
      "124:\tlearn: 0.9907469\ttotal: 1.15s\tremaining: 12.7s\n",
      "125:\tlearn: 0.9907469\ttotal: 1.16s\tremaining: 12.7s\n",
      "126:\tlearn: 0.9910744\ttotal: 1.17s\tremaining: 12.7s\n",
      "127:\tlearn: 0.9914021\ttotal: 1.18s\tremaining: 12.7s\n",
      "128:\tlearn: 0.9914021\ttotal: 1.19s\tremaining: 12.7s\n",
      "129:\tlearn: 0.9914021\ttotal: 1.2s\tremaining: 12.7s\n",
      "130:\tlearn: 0.9914021\ttotal: 1.21s\tremaining: 12.7s\n",
      "131:\tlearn: 0.9920556\ttotal: 1.22s\tremaining: 12.6s\n",
      "132:\tlearn: 0.9920556\ttotal: 1.23s\tremaining: 12.6s\n",
      "133:\tlearn: 0.9923866\ttotal: 1.24s\tremaining: 12.6s\n",
      "134:\tlearn: 0.9927152\ttotal: 1.24s\tremaining: 12.6s\n",
      "135:\tlearn: 0.9930441\ttotal: 1.25s\tremaining: 12.6s\n",
      "136:\tlearn: 0.9930441\ttotal: 1.26s\tremaining: 12.6s\n",
      "137:\tlearn: 0.9930441\ttotal: 1.27s\tremaining: 12.5s\n",
      "138:\tlearn: 0.9930464\ttotal: 1.28s\tremaining: 12.5s\n",
      "139:\tlearn: 0.9930464\ttotal: 1.29s\tremaining: 12.5s\n",
      "140:\tlearn: 0.9930464\ttotal: 1.3s\tremaining: 12.5s\n",
      "141:\tlearn: 0.9937044\ttotal: 1.31s\tremaining: 12.5s\n",
      "142:\tlearn: 0.9937024\ttotal: 1.32s\tremaining: 12.5s\n",
      "143:\tlearn: 0.9937024\ttotal: 1.33s\tremaining: 12.5s\n",
      "144:\tlearn: 0.9943615\ttotal: 1.33s\tremaining: 12.5s\n",
      "145:\tlearn: 0.9946914\ttotal: 1.34s\tremaining: 12.5s\n",
      "146:\tlearn: 0.9946914\ttotal: 1.35s\tremaining: 12.5s\n",
      "147:\tlearn: 0.9937024\ttotal: 1.36s\tremaining: 12.4s\n",
      "148:\tlearn: 0.9937024\ttotal: 1.37s\tremaining: 12.4s\n",
      "149:\tlearn: 0.9937024\ttotal: 1.38s\tremaining: 12.4s\n",
      "150:\tlearn: 0.9937024\ttotal: 1.39s\tremaining: 12.4s\n",
      "151:\tlearn: 0.9937024\ttotal: 1.4s\tremaining: 12.4s\n",
      "152:\tlearn: 0.9937024\ttotal: 1.41s\tremaining: 12.4s\n",
      "153:\tlearn: 0.9933753\ttotal: 1.41s\tremaining: 12.4s\n",
      "154:\tlearn: 0.9933731\ttotal: 1.42s\tremaining: 12.3s\n",
      "155:\tlearn: 0.9933797\ttotal: 1.43s\tremaining: 12.3s\n",
      "156:\tlearn: 0.9933775\ttotal: 1.44s\tremaining: 12.3s\n",
      "157:\tlearn: 0.9933797\ttotal: 1.45s\tremaining: 12.3s\n",
      "158:\tlearn: 0.9937086\ttotal: 1.46s\tremaining: 12.3s\n",
      "159:\tlearn: 0.9937086\ttotal: 1.47s\tremaining: 12.3s\n",
      "160:\tlearn: 0.9937086\ttotal: 1.47s\tremaining: 12.3s\n",
      "161:\tlearn: 0.9943653\ttotal: 1.48s\tremaining: 12.2s\n",
      "162:\tlearn: 0.9943653\ttotal: 1.49s\tremaining: 12.2s\n",
      "163:\tlearn: 0.9953550\ttotal: 1.5s\tremaining: 12.2s\n",
      "164:\tlearn: 0.9953550\ttotal: 1.51s\tremaining: 12.2s\n",
      "165:\tlearn: 0.9953535\ttotal: 1.52s\tremaining: 12.2s\n",
      "166:\tlearn: 0.9950249\ttotal: 1.53s\tremaining: 12.2s\n",
      "167:\tlearn: 0.9950249\ttotal: 1.53s\tremaining: 12.2s\n",
      "168:\tlearn: 0.9950249\ttotal: 1.54s\tremaining: 12.2s\n",
      "169:\tlearn: 0.9950249\ttotal: 1.55s\tremaining: 12.2s\n",
      "170:\tlearn: 0.9956854\ttotal: 1.56s\tremaining: 12.2s\n",
      "171:\tlearn: 0.9960173\ttotal: 1.57s\tremaining: 12.1s\n",
      "172:\tlearn: 0.9960173\ttotal: 1.58s\tremaining: 12.1s\n",
      "173:\tlearn: 0.9960173\ttotal: 1.59s\tremaining: 12.1s\n",
      "174:\tlearn: 0.9960159\ttotal: 1.6s\tremaining: 12.1s\n",
      "175:\tlearn: 0.9960173\ttotal: 1.61s\tremaining: 12.1s\n",
      "176:\tlearn: 0.9963479\ttotal: 1.62s\tremaining: 12.1s\n",
      "177:\tlearn: 0.9966788\ttotal: 1.63s\tremaining: 12.1s\n",
      "178:\tlearn: 0.9970100\ttotal: 1.64s\tremaining: 12.1s\n",
      "179:\tlearn: 0.9970100\ttotal: 1.65s\tremaining: 12.1s\n",
      "180:\tlearn: 0.9970100\ttotal: 1.65s\tremaining: 12.1s\n",
      "181:\tlearn: 0.9970100\ttotal: 1.66s\tremaining: 12s\n",
      "182:\tlearn: 0.9970100\ttotal: 1.67s\tremaining: 12s\n",
      "183:\tlearn: 0.9970110\ttotal: 1.68s\tremaining: 12s\n",
      "184:\tlearn: 0.9970110\ttotal: 1.69s\tremaining: 12s\n",
      "185:\tlearn: 0.9970110\ttotal: 1.7s\tremaining: 12s\n",
      "186:\tlearn: 0.9970110\ttotal: 1.71s\tremaining: 12s\n",
      "187:\tlearn: 0.9970110\ttotal: 1.72s\tremaining: 12s\n",
      "188:\tlearn: 0.9970110\ttotal: 1.73s\tremaining: 12s\n",
      "189:\tlearn: 0.9970110\ttotal: 1.75s\tremaining: 12s\n",
      "190:\tlearn: 0.9973422\ttotal: 1.76s\tremaining: 12s\n",
      "191:\tlearn: 0.9973422\ttotal: 1.77s\tremaining: 12.1s\n",
      "192:\tlearn: 0.9973431\ttotal: 1.78s\tremaining: 12.1s\n",
      "193:\tlearn: 0.9980053\ttotal: 1.79s\tremaining: 12.1s\n",
      "194:\tlearn: 0.9980073\ttotal: 1.8s\tremaining: 12.1s\n",
      "195:\tlearn: 0.9980073\ttotal: 1.81s\tremaining: 12.1s\n",
      "196:\tlearn: 0.9980073\ttotal: 1.82s\tremaining: 12.1s\n",
      "197:\tlearn: 0.9983394\ttotal: 1.83s\tremaining: 12.1s\n",
      "198:\tlearn: 0.9983394\ttotal: 1.84s\tremaining: 12s\n",
      "199:\tlearn: 0.9983389\ttotal: 1.85s\tremaining: 12s\n",
      "200:\tlearn: 0.9983389\ttotal: 1.86s\tremaining: 12s\n",
      "201:\tlearn: 0.9983394\ttotal: 1.87s\tremaining: 12s\n",
      "202:\tlearn: 0.9983394\ttotal: 1.88s\tremaining: 12s\n",
      "203:\tlearn: 0.9986715\ttotal: 1.89s\tremaining: 12s\n",
      "204:\tlearn: 0.9986715\ttotal: 1.9s\tremaining: 12s\n",
      "205:\tlearn: 0.9986715\ttotal: 1.9s\tremaining: 12s\n",
      "206:\tlearn: 0.9986715\ttotal: 1.91s\tremaining: 12s\n",
      "207:\tlearn: 0.9986711\ttotal: 1.92s\tremaining: 12s\n",
      "208:\tlearn: 0.9986715\ttotal: 1.93s\tremaining: 11.9s\n",
      "209:\tlearn: 0.9986720\ttotal: 1.94s\tremaining: 11.9s\n",
      "210:\tlearn: 0.9986720\ttotal: 1.95s\tremaining: 11.9s\n",
      "211:\tlearn: 0.9986720\ttotal: 1.96s\tremaining: 11.9s\n",
      "212:\tlearn: 0.9986720\ttotal: 1.97s\tremaining: 11.9s\n",
      "213:\tlearn: 0.9986720\ttotal: 1.98s\tremaining: 11.9s\n",
      "214:\tlearn: 0.9986720\ttotal: 1.99s\tremaining: 11.9s\n",
      "215:\tlearn: 0.9986720\ttotal: 2s\tremaining: 11.9s\n",
      "216:\tlearn: 0.9986720\ttotal: 2.01s\tremaining: 11.9s\n",
      "217:\tlearn: 0.9990037\ttotal: 2.02s\tremaining: 11.9s\n",
      "218:\tlearn: 0.9990037\ttotal: 2.02s\tremaining: 11.8s\n",
      "219:\tlearn: 0.9990037\ttotal: 2.04s\tremaining: 11.8s\n",
      "220:\tlearn: 0.9990037\ttotal: 2.05s\tremaining: 11.9s\n",
      "221:\tlearn: 0.9990037\ttotal: 2.06s\tremaining: 11.8s\n",
      "222:\tlearn: 0.9990037\ttotal: 2.07s\tremaining: 11.8s\n",
      "223:\tlearn: 0.9990037\ttotal: 2.08s\tremaining: 11.8s\n",
      "224:\tlearn: 0.9990037\ttotal: 2.08s\tremaining: 11.8s\n",
      "225:\tlearn: 0.9990037\ttotal: 2.09s\tremaining: 11.8s\n",
      "226:\tlearn: 0.9990037\ttotal: 2.1s\tremaining: 11.8s\n",
      "227:\tlearn: 0.9990040\ttotal: 2.11s\tremaining: 11.8s\n",
      "228:\tlearn: 0.9990040\ttotal: 2.12s\tremaining: 11.7s\n",
      "229:\tlearn: 0.9990040\ttotal: 2.13s\tremaining: 11.7s\n",
      "230:\tlearn: 0.9990040\ttotal: 2.13s\tremaining: 11.7s\n",
      "231:\tlearn: 0.9990040\ttotal: 2.14s\tremaining: 11.7s\n",
      "232:\tlearn: 0.9990040\ttotal: 2.15s\tremaining: 11.7s\n",
      "233:\tlearn: 0.9990040\ttotal: 2.16s\tremaining: 11.7s\n",
      "234:\tlearn: 0.9990037\ttotal: 2.17s\tremaining: 11.7s\n",
      "235:\tlearn: 0.9990040\ttotal: 2.18s\tremaining: 11.7s\n",
      "236:\tlearn: 0.9990040\ttotal: 2.18s\tremaining: 11.6s\n",
      "237:\tlearn: 0.9990040\ttotal: 2.19s\tremaining: 11.6s\n",
      "238:\tlearn: 0.9990040\ttotal: 2.2s\tremaining: 11.6s\n",
      "239:\tlearn: 0.9990040\ttotal: 2.21s\tremaining: 11.6s\n",
      "240:\tlearn: 0.9990040\ttotal: 2.22s\tremaining: 11.6s\n",
      "241:\tlearn: 0.9990040\ttotal: 2.23s\tremaining: 11.6s\n",
      "242:\tlearn: 0.9990040\ttotal: 2.23s\tremaining: 11.6s\n",
      "243:\tlearn: 0.9990040\ttotal: 2.25s\tremaining: 11.6s\n",
      "244:\tlearn: 0.9990040\ttotal: 2.25s\tremaining: 11.6s\n",
      "245:\tlearn: 0.9990040\ttotal: 2.26s\tremaining: 11.5s\n",
      "246:\tlearn: 0.9990040\ttotal: 2.27s\tremaining: 11.5s\n",
      "247:\tlearn: 0.9990040\ttotal: 2.28s\tremaining: 11.5s\n",
      "248:\tlearn: 0.9990040\ttotal: 2.29s\tremaining: 11.5s\n",
      "249:\tlearn: 0.9990040\ttotal: 2.3s\tremaining: 11.5s\n",
      "250:\tlearn: 0.9990040\ttotal: 2.31s\tremaining: 11.5s\n",
      "251:\tlearn: 0.9990040\ttotal: 2.31s\tremaining: 11.5s\n",
      "252:\tlearn: 0.9990040\ttotal: 2.32s\tremaining: 11.4s\n",
      "253:\tlearn: 0.9990040\ttotal: 2.33s\tremaining: 11.4s\n",
      "254:\tlearn: 0.9990040\ttotal: 2.34s\tremaining: 11.4s\n",
      "255:\tlearn: 0.9990040\ttotal: 2.35s\tremaining: 11.4s\n",
      "256:\tlearn: 0.9990040\ttotal: 2.36s\tremaining: 11.4s\n",
      "257:\tlearn: 0.9990040\ttotal: 2.37s\tremaining: 11.4s\n",
      "258:\tlearn: 0.9990040\ttotal: 2.37s\tremaining: 11.4s\n",
      "259:\tlearn: 0.9993358\ttotal: 2.38s\tremaining: 11.4s\n",
      "260:\tlearn: 0.9993358\ttotal: 2.39s\tremaining: 11.4s\n",
      "261:\tlearn: 0.9993358\ttotal: 2.4s\tremaining: 11.4s\n",
      "262:\tlearn: 0.9996678\ttotal: 2.41s\tremaining: 11.3s\n",
      "263:\tlearn: 0.9996678\ttotal: 2.42s\tremaining: 11.3s\n",
      "264:\tlearn: 0.9996678\ttotal: 2.43s\tremaining: 11.3s\n",
      "265:\tlearn: 0.9996678\ttotal: 2.44s\tremaining: 11.3s\n",
      "266:\tlearn: 0.9996678\ttotal: 2.45s\tremaining: 11.3s\n",
      "267:\tlearn: 0.9996678\ttotal: 2.45s\tremaining: 11.3s\n",
      "268:\tlearn: 0.9996679\ttotal: 2.46s\tremaining: 11.3s\n",
      "269:\tlearn: 0.9996679\ttotal: 2.47s\tremaining: 11.3s\n",
      "270:\tlearn: 0.9996679\ttotal: 2.48s\tremaining: 11.3s\n",
      "271:\tlearn: 0.9996679\ttotal: 2.49s\tremaining: 11.2s\n",
      "272:\tlearn: 0.9996679\ttotal: 2.5s\tremaining: 11.2s\n",
      "273:\tlearn: 0.9996679\ttotal: 2.5s\tremaining: 11.2s\n",
      "274:\tlearn: 0.9996679\ttotal: 2.51s\tremaining: 11.2s\n",
      "275:\tlearn: 0.9993360\ttotal: 2.52s\tremaining: 11.2s\n",
      "276:\tlearn: 0.9993360\ttotal: 2.53s\tremaining: 11.2s\n",
      "277:\tlearn: 0.9993360\ttotal: 2.54s\tremaining: 11.2s\n",
      "278:\tlearn: 0.9996679\ttotal: 2.55s\tremaining: 11.1s\n",
      "279:\tlearn: 0.9993360\ttotal: 2.56s\tremaining: 11.1s\n",
      "280:\tlearn: 0.9996679\ttotal: 2.56s\tremaining: 11.1s\n",
      "281:\tlearn: 0.9996679\ttotal: 2.57s\tremaining: 11.1s\n",
      "282:\tlearn: 0.9996679\ttotal: 2.58s\tremaining: 11.1s\n",
      "283:\tlearn: 0.9996679\ttotal: 2.59s\tremaining: 11.1s\n",
      "284:\tlearn: 0.9996679\ttotal: 2.6s\tremaining: 11.1s\n",
      "285:\tlearn: 0.9996679\ttotal: 2.6s\tremaining: 11.1s\n",
      "286:\tlearn: 0.9996679\ttotal: 2.61s\tremaining: 11s\n",
      "287:\tlearn: 1.0000000\ttotal: 2.62s\tremaining: 11s\n",
      "288:\tlearn: 1.0000000\ttotal: 2.63s\tremaining: 11s\n",
      "289:\tlearn: 1.0000000\ttotal: 2.64s\tremaining: 11s\n",
      "290:\tlearn: 1.0000000\ttotal: 2.65s\tremaining: 11s\n",
      "291:\tlearn: 1.0000000\ttotal: 2.65s\tremaining: 11s\n",
      "292:\tlearn: 1.0000000\ttotal: 2.66s\tremaining: 11s\n",
      "293:\tlearn: 1.0000000\ttotal: 2.67s\tremaining: 11s\n",
      "294:\tlearn: 1.0000000\ttotal: 2.68s\tremaining: 10.9s\n",
      "295:\tlearn: 1.0000000\ttotal: 2.69s\tremaining: 10.9s\n",
      "296:\tlearn: 1.0000000\ttotal: 2.7s\tremaining: 11s\n",
      "297:\tlearn: 1.0000000\ttotal: 2.71s\tremaining: 10.9s\n",
      "298:\tlearn: 1.0000000\ttotal: 2.72s\tremaining: 10.9s\n",
      "299:\tlearn: 1.0000000\ttotal: 2.73s\tremaining: 10.9s\n",
      "300:\tlearn: 1.0000000\ttotal: 2.74s\tremaining: 10.9s\n",
      "301:\tlearn: 1.0000000\ttotal: 2.75s\tremaining: 10.9s\n",
      "302:\tlearn: 1.0000000\ttotal: 2.76s\tremaining: 10.9s\n",
      "303:\tlearn: 1.0000000\ttotal: 2.77s\tremaining: 10.9s\n",
      "304:\tlearn: 1.0000000\ttotal: 2.77s\tremaining: 10.9s\n",
      "305:\tlearn: 1.0000000\ttotal: 2.78s\tremaining: 10.9s\n",
      "306:\tlearn: 1.0000000\ttotal: 2.79s\tremaining: 10.8s\n",
      "307:\tlearn: 1.0000000\ttotal: 2.8s\tremaining: 10.8s\n",
      "308:\tlearn: 1.0000000\ttotal: 2.81s\tremaining: 10.8s\n",
      "309:\tlearn: 1.0000000\ttotal: 2.82s\tremaining: 10.8s\n",
      "310:\tlearn: 1.0000000\ttotal: 2.83s\tremaining: 10.8s\n",
      "311:\tlearn: 1.0000000\ttotal: 2.83s\tremaining: 10.8s\n",
      "312:\tlearn: 1.0000000\ttotal: 2.84s\tremaining: 10.8s\n",
      "313:\tlearn: 1.0000000\ttotal: 2.85s\tremaining: 10.8s\n",
      "314:\tlearn: 1.0000000\ttotal: 2.86s\tremaining: 10.8s\n",
      "315:\tlearn: 1.0000000\ttotal: 2.87s\tremaining: 10.7s\n",
      "316:\tlearn: 1.0000000\ttotal: 2.88s\tremaining: 10.7s\n",
      "317:\tlearn: 1.0000000\ttotal: 2.88s\tremaining: 10.7s\n",
      "318:\tlearn: 1.0000000\ttotal: 2.89s\tremaining: 10.7s\n",
      "319:\tlearn: 1.0000000\ttotal: 2.9s\tremaining: 10.7s\n",
      "320:\tlearn: 1.0000000\ttotal: 2.91s\tremaining: 10.7s\n",
      "321:\tlearn: 1.0000000\ttotal: 2.91s\tremaining: 10.7s\n",
      "322:\tlearn: 1.0000000\ttotal: 2.92s\tremaining: 10.6s\n",
      "323:\tlearn: 1.0000000\ttotal: 2.93s\tremaining: 10.6s\n",
      "324:\tlearn: 1.0000000\ttotal: 2.94s\tremaining: 10.6s\n",
      "325:\tlearn: 1.0000000\ttotal: 2.95s\tremaining: 10.6s\n",
      "326:\tlearn: 1.0000000\ttotal: 2.95s\tremaining: 10.6s\n",
      "327:\tlearn: 1.0000000\ttotal: 2.96s\tremaining: 10.6s\n",
      "328:\tlearn: 1.0000000\ttotal: 2.97s\tremaining: 10.6s\n",
      "329:\tlearn: 1.0000000\ttotal: 2.98s\tremaining: 10.6s\n",
      "330:\tlearn: 1.0000000\ttotal: 2.99s\tremaining: 10.6s\n",
      "331:\tlearn: 1.0000000\ttotal: 3s\tremaining: 10.5s\n",
      "332:\tlearn: 1.0000000\ttotal: 3s\tremaining: 10.5s\n",
      "333:\tlearn: 1.0000000\ttotal: 3.01s\tremaining: 10.5s\n",
      "334:\tlearn: 1.0000000\ttotal: 3.02s\tremaining: 10.5s\n",
      "335:\tlearn: 1.0000000\ttotal: 3.03s\tremaining: 10.5s\n",
      "336:\tlearn: 1.0000000\ttotal: 3.04s\tremaining: 10.5s\n",
      "337:\tlearn: 1.0000000\ttotal: 3.04s\tremaining: 10.5s\n",
      "338:\tlearn: 1.0000000\ttotal: 3.05s\tremaining: 10.5s\n",
      "339:\tlearn: 1.0000000\ttotal: 3.06s\tremaining: 10.4s\n",
      "340:\tlearn: 1.0000000\ttotal: 3.07s\tremaining: 10.4s\n",
      "341:\tlearn: 1.0000000\ttotal: 3.08s\tremaining: 10.4s\n",
      "342:\tlearn: 1.0000000\ttotal: 3.09s\tremaining: 10.4s\n",
      "343:\tlearn: 1.0000000\ttotal: 3.1s\tremaining: 10.4s\n",
      "344:\tlearn: 1.0000000\ttotal: 3.11s\tremaining: 10.4s\n",
      "345:\tlearn: 1.0000000\ttotal: 3.11s\tremaining: 10.4s\n",
      "346:\tlearn: 1.0000000\ttotal: 3.12s\tremaining: 10.4s\n",
      "347:\tlearn: 1.0000000\ttotal: 3.13s\tremaining: 10.4s\n",
      "348:\tlearn: 1.0000000\ttotal: 3.14s\tremaining: 10.3s\n",
      "349:\tlearn: 1.0000000\ttotal: 3.15s\tremaining: 10.3s\n",
      "350:\tlearn: 1.0000000\ttotal: 3.15s\tremaining: 10.3s\n",
      "351:\tlearn: 1.0000000\ttotal: 3.16s\tremaining: 10.3s\n",
      "352:\tlearn: 1.0000000\ttotal: 3.17s\tremaining: 10.3s\n",
      "353:\tlearn: 1.0000000\ttotal: 3.18s\tremaining: 10.3s\n",
      "354:\tlearn: 1.0000000\ttotal: 3.19s\tremaining: 10.3s\n",
      "355:\tlearn: 1.0000000\ttotal: 3.19s\tremaining: 10.3s\n",
      "356:\tlearn: 1.0000000\ttotal: 3.2s\tremaining: 10.3s\n",
      "357:\tlearn: 1.0000000\ttotal: 3.21s\tremaining: 10.2s\n",
      "358:\tlearn: 1.0000000\ttotal: 3.22s\tremaining: 10.2s\n",
      "359:\tlearn: 1.0000000\ttotal: 3.23s\tremaining: 10.2s\n",
      "360:\tlearn: 1.0000000\ttotal: 3.24s\tremaining: 10.2s\n",
      "361:\tlearn: 1.0000000\ttotal: 3.25s\tremaining: 10.2s\n",
      "362:\tlearn: 1.0000000\ttotal: 3.25s\tremaining: 10.2s\n",
      "363:\tlearn: 1.0000000\ttotal: 3.26s\tremaining: 10.2s\n",
      "364:\tlearn: 1.0000000\ttotal: 3.27s\tremaining: 10.2s\n",
      "365:\tlearn: 1.0000000\ttotal: 3.28s\tremaining: 10.2s\n",
      "366:\tlearn: 1.0000000\ttotal: 3.29s\tremaining: 10.1s\n",
      "367:\tlearn: 1.0000000\ttotal: 3.3s\tremaining: 10.1s\n",
      "368:\tlearn: 1.0000000\ttotal: 3.31s\tremaining: 10.1s\n",
      "369:\tlearn: 1.0000000\ttotal: 3.31s\tremaining: 10.1s\n",
      "370:\tlearn: 1.0000000\ttotal: 3.32s\tremaining: 10.1s\n",
      "371:\tlearn: 1.0000000\ttotal: 3.33s\tremaining: 10.1s\n",
      "372:\tlearn: 1.0000000\ttotal: 3.34s\tremaining: 10.1s\n",
      "373:\tlearn: 1.0000000\ttotal: 3.35s\tremaining: 10.1s\n",
      "374:\tlearn: 1.0000000\ttotal: 3.35s\tremaining: 10.1s\n",
      "375:\tlearn: 1.0000000\ttotal: 3.36s\tremaining: 10.1s\n",
      "376:\tlearn: 1.0000000\ttotal: 3.37s\tremaining: 10s\n",
      "377:\tlearn: 1.0000000\ttotal: 3.38s\tremaining: 10s\n",
      "378:\tlearn: 1.0000000\ttotal: 3.38s\tremaining: 10s\n",
      "379:\tlearn: 1.0000000\ttotal: 3.39s\tremaining: 10s\n",
      "380:\tlearn: 1.0000000\ttotal: 3.4s\tremaining: 9.98s\n",
      "381:\tlearn: 1.0000000\ttotal: 3.41s\tremaining: 9.97s\n",
      "382:\tlearn: 1.0000000\ttotal: 3.42s\tremaining: 9.96s\n",
      "383:\tlearn: 1.0000000\ttotal: 3.42s\tremaining: 9.95s\n",
      "384:\tlearn: 1.0000000\ttotal: 3.43s\tremaining: 9.94s\n",
      "385:\tlearn: 1.0000000\ttotal: 3.44s\tremaining: 9.94s\n",
      "386:\tlearn: 1.0000000\ttotal: 3.45s\tremaining: 9.93s\n",
      "387:\tlearn: 1.0000000\ttotal: 3.46s\tremaining: 9.92s\n",
      "388:\tlearn: 1.0000000\ttotal: 3.47s\tremaining: 9.91s\n",
      "389:\tlearn: 1.0000000\ttotal: 3.48s\tremaining: 9.9s\n",
      "390:\tlearn: 1.0000000\ttotal: 3.49s\tremaining: 9.89s\n",
      "391:\tlearn: 1.0000000\ttotal: 3.5s\tremaining: 9.88s\n",
      "392:\tlearn: 1.0000000\ttotal: 3.5s\tremaining: 9.87s\n",
      "393:\tlearn: 1.0000000\ttotal: 3.51s\tremaining: 9.86s\n",
      "394:\tlearn: 1.0000000\ttotal: 3.52s\tremaining: 9.85s\n",
      "395:\tlearn: 1.0000000\ttotal: 3.53s\tremaining: 9.84s\n",
      "396:\tlearn: 1.0000000\ttotal: 3.53s\tremaining: 9.82s\n",
      "397:\tlearn: 1.0000000\ttotal: 3.54s\tremaining: 9.81s\n",
      "398:\tlearn: 1.0000000\ttotal: 3.55s\tremaining: 9.8s\n",
      "399:\tlearn: 1.0000000\ttotal: 3.56s\tremaining: 9.79s\n",
      "400:\tlearn: 1.0000000\ttotal: 3.57s\tremaining: 9.78s\n",
      "401:\tlearn: 1.0000000\ttotal: 3.57s\tremaining: 9.76s\n",
      "402:\tlearn: 1.0000000\ttotal: 3.58s\tremaining: 9.75s\n",
      "403:\tlearn: 1.0000000\ttotal: 3.59s\tremaining: 9.74s\n",
      "404:\tlearn: 1.0000000\ttotal: 3.6s\tremaining: 9.73s\n",
      "405:\tlearn: 1.0000000\ttotal: 3.61s\tremaining: 9.72s\n",
      "406:\tlearn: 1.0000000\ttotal: 3.61s\tremaining: 9.71s\n",
      "407:\tlearn: 1.0000000\ttotal: 3.62s\tremaining: 9.7s\n",
      "408:\tlearn: 1.0000000\ttotal: 3.63s\tremaining: 9.69s\n",
      "409:\tlearn: 1.0000000\ttotal: 3.64s\tremaining: 9.69s\n",
      "410:\tlearn: 1.0000000\ttotal: 3.65s\tremaining: 9.68s\n",
      "411:\tlearn: 1.0000000\ttotal: 3.66s\tremaining: 9.67s\n",
      "412:\tlearn: 1.0000000\ttotal: 3.67s\tremaining: 9.66s\n",
      "413:\tlearn: 1.0000000\ttotal: 3.68s\tremaining: 9.65s\n",
      "414:\tlearn: 1.0000000\ttotal: 3.69s\tremaining: 9.64s\n",
      "415:\tlearn: 1.0000000\ttotal: 3.69s\tremaining: 9.63s\n",
      "416:\tlearn: 1.0000000\ttotal: 3.7s\tremaining: 9.62s\n",
      "417:\tlearn: 1.0000000\ttotal: 3.71s\tremaining: 9.61s\n",
      "418:\tlearn: 1.0000000\ttotal: 3.72s\tremaining: 9.6s\n",
      "419:\tlearn: 1.0000000\ttotal: 3.73s\tremaining: 9.59s\n",
      "420:\tlearn: 1.0000000\ttotal: 3.74s\tremaining: 9.58s\n",
      "421:\tlearn: 1.0000000\ttotal: 3.75s\tremaining: 9.57s\n",
      "422:\tlearn: 1.0000000\ttotal: 3.75s\tremaining: 9.56s\n",
      "423:\tlearn: 1.0000000\ttotal: 3.76s\tremaining: 9.55s\n",
      "424:\tlearn: 1.0000000\ttotal: 3.77s\tremaining: 9.53s\n",
      "425:\tlearn: 1.0000000\ttotal: 3.78s\tremaining: 9.52s\n",
      "426:\tlearn: 1.0000000\ttotal: 3.78s\tremaining: 9.51s\n",
      "427:\tlearn: 1.0000000\ttotal: 3.79s\tremaining: 9.5s\n",
      "428:\tlearn: 1.0000000\ttotal: 3.8s\tremaining: 9.49s\n",
      "429:\tlearn: 1.0000000\ttotal: 3.81s\tremaining: 9.48s\n",
      "430:\tlearn: 1.0000000\ttotal: 3.82s\tremaining: 9.47s\n",
      "431:\tlearn: 1.0000000\ttotal: 3.83s\tremaining: 9.46s\n",
      "432:\tlearn: 1.0000000\ttotal: 3.83s\tremaining: 9.45s\n",
      "433:\tlearn: 1.0000000\ttotal: 3.84s\tremaining: 9.44s\n",
      "434:\tlearn: 1.0000000\ttotal: 3.85s\tremaining: 9.44s\n",
      "435:\tlearn: 1.0000000\ttotal: 3.86s\tremaining: 9.43s\n",
      "436:\tlearn: 1.0000000\ttotal: 3.87s\tremaining: 9.42s\n",
      "437:\tlearn: 1.0000000\ttotal: 3.88s\tremaining: 9.41s\n",
      "438:\tlearn: 1.0000000\ttotal: 3.89s\tremaining: 9.4s\n",
      "439:\tlearn: 1.0000000\ttotal: 3.9s\tremaining: 9.38s\n",
      "440:\tlearn: 1.0000000\ttotal: 3.9s\tremaining: 9.37s\n",
      "441:\tlearn: 1.0000000\ttotal: 3.91s\tremaining: 9.36s\n",
      "442:\tlearn: 1.0000000\ttotal: 3.92s\tremaining: 9.35s\n",
      "443:\tlearn: 1.0000000\ttotal: 3.93s\tremaining: 9.34s\n",
      "444:\tlearn: 1.0000000\ttotal: 3.94s\tremaining: 9.33s\n",
      "445:\tlearn: 1.0000000\ttotal: 3.94s\tremaining: 9.32s\n",
      "446:\tlearn: 1.0000000\ttotal: 3.95s\tremaining: 9.31s\n",
      "447:\tlearn: 1.0000000\ttotal: 3.96s\tremaining: 9.29s\n",
      "448:\tlearn: 1.0000000\ttotal: 3.97s\tremaining: 9.28s\n",
      "449:\tlearn: 1.0000000\ttotal: 3.98s\tremaining: 9.28s\n",
      "450:\tlearn: 1.0000000\ttotal: 3.98s\tremaining: 9.27s\n",
      "451:\tlearn: 1.0000000\ttotal: 3.99s\tremaining: 9.26s\n",
      "452:\tlearn: 1.0000000\ttotal: 4s\tremaining: 9.24s\n",
      "453:\tlearn: 1.0000000\ttotal: 4.01s\tremaining: 9.23s\n",
      "454:\tlearn: 1.0000000\ttotal: 4.01s\tremaining: 9.22s\n",
      "455:\tlearn: 1.0000000\ttotal: 4.02s\tremaining: 9.21s\n",
      "456:\tlearn: 1.0000000\ttotal: 4.03s\tremaining: 9.2s\n",
      "457:\tlearn: 1.0000000\ttotal: 4.04s\tremaining: 9.19s\n",
      "458:\tlearn: 1.0000000\ttotal: 4.05s\tremaining: 9.19s\n",
      "459:\tlearn: 1.0000000\ttotal: 4.06s\tremaining: 9.18s\n",
      "460:\tlearn: 1.0000000\ttotal: 4.07s\tremaining: 9.16s\n",
      "461:\tlearn: 1.0000000\ttotal: 4.08s\tremaining: 9.16s\n",
      "462:\tlearn: 1.0000000\ttotal: 4.08s\tremaining: 9.15s\n",
      "463:\tlearn: 1.0000000\ttotal: 4.09s\tremaining: 9.14s\n",
      "464:\tlearn: 1.0000000\ttotal: 4.1s\tremaining: 9.13s\n",
      "465:\tlearn: 1.0000000\ttotal: 4.11s\tremaining: 9.12s\n",
      "466:\tlearn: 1.0000000\ttotal: 4.12s\tremaining: 9.11s\n",
      "467:\tlearn: 1.0000000\ttotal: 4.13s\tremaining: 9.1s\n",
      "468:\tlearn: 1.0000000\ttotal: 4.14s\tremaining: 9.09s\n",
      "469:\tlearn: 1.0000000\ttotal: 4.14s\tremaining: 9.08s\n",
      "470:\tlearn: 1.0000000\ttotal: 4.15s\tremaining: 9.07s\n",
      "471:\tlearn: 1.0000000\ttotal: 4.16s\tremaining: 9.06s\n",
      "472:\tlearn: 1.0000000\ttotal: 4.17s\tremaining: 9.05s\n",
      "473:\tlearn: 1.0000000\ttotal: 4.17s\tremaining: 9.04s\n",
      "474:\tlearn: 1.0000000\ttotal: 4.18s\tremaining: 9.03s\n",
      "475:\tlearn: 1.0000000\ttotal: 4.19s\tremaining: 9.02s\n",
      "476:\tlearn: 1.0000000\ttotal: 4.2s\tremaining: 9.01s\n",
      "477:\tlearn: 1.0000000\ttotal: 4.21s\tremaining: 9s\n",
      "478:\tlearn: 1.0000000\ttotal: 4.21s\tremaining: 8.98s\n",
      "479:\tlearn: 1.0000000\ttotal: 4.22s\tremaining: 8.97s\n",
      "480:\tlearn: 1.0000000\ttotal: 4.23s\tremaining: 8.96s\n",
      "481:\tlearn: 1.0000000\ttotal: 4.24s\tremaining: 8.96s\n",
      "482:\tlearn: 1.0000000\ttotal: 4.25s\tremaining: 8.95s\n",
      "483:\tlearn: 1.0000000\ttotal: 4.26s\tremaining: 8.94s\n",
      "484:\tlearn: 1.0000000\ttotal: 4.26s\tremaining: 8.93s\n",
      "485:\tlearn: 1.0000000\ttotal: 4.27s\tremaining: 8.92s\n",
      "486:\tlearn: 1.0000000\ttotal: 4.28s\tremaining: 8.91s\n",
      "487:\tlearn: 1.0000000\ttotal: 4.29s\tremaining: 8.9s\n",
      "488:\tlearn: 1.0000000\ttotal: 4.3s\tremaining: 8.89s\n",
      "489:\tlearn: 1.0000000\ttotal: 4.31s\tremaining: 8.88s\n",
      "490:\tlearn: 1.0000000\ttotal: 4.31s\tremaining: 8.87s\n",
      "491:\tlearn: 1.0000000\ttotal: 4.32s\tremaining: 8.86s\n",
      "492:\tlearn: 1.0000000\ttotal: 4.33s\tremaining: 8.85s\n",
      "493:\tlearn: 1.0000000\ttotal: 4.34s\tremaining: 8.84s\n",
      "494:\tlearn: 1.0000000\ttotal: 4.35s\tremaining: 8.83s\n",
      "495:\tlearn: 1.0000000\ttotal: 4.36s\tremaining: 8.82s\n",
      "496:\tlearn: 1.0000000\ttotal: 4.37s\tremaining: 8.81s\n",
      "497:\tlearn: 1.0000000\ttotal: 4.37s\tremaining: 8.8s\n",
      "498:\tlearn: 1.0000000\ttotal: 4.38s\tremaining: 8.79s\n",
      "499:\tlearn: 1.0000000\ttotal: 4.39s\tremaining: 8.78s\n",
      "500:\tlearn: 1.0000000\ttotal: 4.4s\tremaining: 8.77s\n",
      "501:\tlearn: 1.0000000\ttotal: 4.41s\tremaining: 8.76s\n",
      "502:\tlearn: 1.0000000\ttotal: 4.41s\tremaining: 8.75s\n",
      "503:\tlearn: 1.0000000\ttotal: 4.42s\tremaining: 8.74s\n",
      "504:\tlearn: 1.0000000\ttotal: 4.43s\tremaining: 8.73s\n",
      "505:\tlearn: 1.0000000\ttotal: 4.44s\tremaining: 8.72s\n",
      "506:\tlearn: 1.0000000\ttotal: 4.45s\tremaining: 8.71s\n",
      "507:\tlearn: 1.0000000\ttotal: 4.46s\tremaining: 8.7s\n",
      "508:\tlearn: 1.0000000\ttotal: 4.46s\tremaining: 8.69s\n",
      "509:\tlearn: 1.0000000\ttotal: 4.47s\tremaining: 8.68s\n",
      "510:\tlearn: 1.0000000\ttotal: 4.48s\tremaining: 8.67s\n",
      "511:\tlearn: 1.0000000\ttotal: 4.49s\tremaining: 8.66s\n",
      "512:\tlearn: 1.0000000\ttotal: 4.49s\tremaining: 8.65s\n",
      "513:\tlearn: 1.0000000\ttotal: 4.5s\tremaining: 8.64s\n",
      "514:\tlearn: 1.0000000\ttotal: 4.51s\tremaining: 8.63s\n",
      "515:\tlearn: 1.0000000\ttotal: 4.52s\tremaining: 8.62s\n",
      "516:\tlearn: 1.0000000\ttotal: 4.53s\tremaining: 8.61s\n",
      "517:\tlearn: 1.0000000\ttotal: 4.54s\tremaining: 8.6s\n",
      "518:\tlearn: 1.0000000\ttotal: 4.55s\tremaining: 8.59s\n",
      "519:\tlearn: 1.0000000\ttotal: 4.55s\tremaining: 8.58s\n",
      "520:\tlearn: 1.0000000\ttotal: 4.56s\tremaining: 8.58s\n",
      "521:\tlearn: 1.0000000\ttotal: 4.57s\tremaining: 8.57s\n",
      "522:\tlearn: 1.0000000\ttotal: 4.58s\tremaining: 8.55s\n",
      "523:\tlearn: 1.0000000\ttotal: 4.59s\tremaining: 8.54s\n",
      "524:\tlearn: 1.0000000\ttotal: 4.59s\tremaining: 8.53s\n",
      "525:\tlearn: 1.0000000\ttotal: 4.6s\tremaining: 8.52s\n",
      "526:\tlearn: 1.0000000\ttotal: 4.61s\tremaining: 8.51s\n",
      "527:\tlearn: 1.0000000\ttotal: 4.62s\tremaining: 8.5s\n",
      "528:\tlearn: 1.0000000\ttotal: 4.62s\tremaining: 8.48s\n",
      "529:\tlearn: 1.0000000\ttotal: 4.63s\tremaining: 8.48s\n",
      "530:\tlearn: 1.0000000\ttotal: 4.64s\tremaining: 8.47s\n",
      "531:\tlearn: 1.0000000\ttotal: 4.65s\tremaining: 8.46s\n",
      "532:\tlearn: 1.0000000\ttotal: 4.66s\tremaining: 8.45s\n",
      "533:\tlearn: 1.0000000\ttotal: 4.67s\tremaining: 8.45s\n",
      "534:\tlearn: 1.0000000\ttotal: 4.68s\tremaining: 8.44s\n",
      "535:\tlearn: 1.0000000\ttotal: 4.69s\tremaining: 8.43s\n",
      "536:\tlearn: 1.0000000\ttotal: 4.7s\tremaining: 8.42s\n",
      "537:\tlearn: 1.0000000\ttotal: 4.71s\tremaining: 8.41s\n",
      "538:\tlearn: 1.0000000\ttotal: 4.71s\tremaining: 8.4s\n",
      "539:\tlearn: 1.0000000\ttotal: 4.72s\tremaining: 8.39s\n",
      "540:\tlearn: 1.0000000\ttotal: 4.73s\tremaining: 8.38s\n",
      "541:\tlearn: 1.0000000\ttotal: 4.74s\tremaining: 8.38s\n",
      "542:\tlearn: 1.0000000\ttotal: 4.75s\tremaining: 8.37s\n",
      "543:\tlearn: 1.0000000\ttotal: 4.76s\tremaining: 8.36s\n",
      "544:\tlearn: 1.0000000\ttotal: 4.76s\tremaining: 8.35s\n",
      "545:\tlearn: 1.0000000\ttotal: 4.77s\tremaining: 8.34s\n",
      "546:\tlearn: 1.0000000\ttotal: 4.78s\tremaining: 8.33s\n",
      "547:\tlearn: 1.0000000\ttotal: 4.79s\tremaining: 8.32s\n",
      "548:\tlearn: 1.0000000\ttotal: 4.8s\tremaining: 8.31s\n",
      "549:\tlearn: 1.0000000\ttotal: 4.81s\tremaining: 8.3s\n",
      "550:\tlearn: 1.0000000\ttotal: 4.82s\tremaining: 8.29s\n",
      "551:\tlearn: 1.0000000\ttotal: 4.82s\tremaining: 8.28s\n",
      "552:\tlearn: 1.0000000\ttotal: 4.83s\tremaining: 8.27s\n",
      "553:\tlearn: 1.0000000\ttotal: 4.84s\tremaining: 8.26s\n",
      "554:\tlearn: 1.0000000\ttotal: 4.85s\tremaining: 8.25s\n",
      "555:\tlearn: 1.0000000\ttotal: 4.85s\tremaining: 8.24s\n",
      "556:\tlearn: 1.0000000\ttotal: 4.86s\tremaining: 8.23s\n",
      "557:\tlearn: 1.0000000\ttotal: 4.87s\tremaining: 8.22s\n",
      "558:\tlearn: 1.0000000\ttotal: 4.88s\tremaining: 8.21s\n",
      "559:\tlearn: 1.0000000\ttotal: 4.88s\tremaining: 8.2s\n",
      "560:\tlearn: 1.0000000\ttotal: 4.89s\tremaining: 8.19s\n",
      "561:\tlearn: 1.0000000\ttotal: 4.9s\tremaining: 8.18s\n",
      "562:\tlearn: 1.0000000\ttotal: 4.91s\tremaining: 8.17s\n",
      "563:\tlearn: 1.0000000\ttotal: 4.92s\tremaining: 8.16s\n",
      "564:\tlearn: 1.0000000\ttotal: 4.92s\tremaining: 8.15s\n",
      "565:\tlearn: 1.0000000\ttotal: 4.93s\tremaining: 8.14s\n",
      "566:\tlearn: 1.0000000\ttotal: 4.94s\tremaining: 8.13s\n",
      "567:\tlearn: 1.0000000\ttotal: 4.95s\tremaining: 8.12s\n",
      "568:\tlearn: 1.0000000\ttotal: 4.96s\tremaining: 8.11s\n",
      "569:\tlearn: 1.0000000\ttotal: 4.97s\tremaining: 8.1s\n",
      "570:\tlearn: 1.0000000\ttotal: 4.97s\tremaining: 8.1s\n",
      "571:\tlearn: 1.0000000\ttotal: 4.98s\tremaining: 8.09s\n",
      "572:\tlearn: 1.0000000\ttotal: 4.99s\tremaining: 8.08s\n",
      "573:\tlearn: 1.0000000\ttotal: 5s\tremaining: 8.07s\n",
      "574:\tlearn: 1.0000000\ttotal: 5.01s\tremaining: 8.06s\n",
      "575:\tlearn: 1.0000000\ttotal: 5.02s\tremaining: 8.05s\n",
      "576:\tlearn: 1.0000000\ttotal: 5.03s\tremaining: 8.04s\n",
      "577:\tlearn: 1.0000000\ttotal: 5.04s\tremaining: 8.03s\n",
      "578:\tlearn: 1.0000000\ttotal: 5.04s\tremaining: 8.02s\n",
      "579:\tlearn: 1.0000000\ttotal: 5.05s\tremaining: 8.01s\n",
      "580:\tlearn: 1.0000000\ttotal: 5.06s\tremaining: 8s\n",
      "581:\tlearn: 1.0000000\ttotal: 5.07s\tremaining: 8s\n",
      "582:\tlearn: 1.0000000\ttotal: 5.08s\tremaining: 7.99s\n",
      "583:\tlearn: 1.0000000\ttotal: 5.09s\tremaining: 7.98s\n",
      "584:\tlearn: 1.0000000\ttotal: 5.09s\tremaining: 7.97s\n",
      "585:\tlearn: 1.0000000\ttotal: 5.1s\tremaining: 7.96s\n",
      "586:\tlearn: 1.0000000\ttotal: 5.11s\tremaining: 7.95s\n",
      "587:\tlearn: 1.0000000\ttotal: 5.12s\tremaining: 7.94s\n",
      "588:\tlearn: 1.0000000\ttotal: 5.13s\tremaining: 7.93s\n",
      "589:\tlearn: 1.0000000\ttotal: 5.13s\tremaining: 7.92s\n",
      "590:\tlearn: 1.0000000\ttotal: 5.14s\tremaining: 7.91s\n",
      "591:\tlearn: 1.0000000\ttotal: 5.15s\tremaining: 7.9s\n",
      "592:\tlearn: 1.0000000\ttotal: 5.16s\tremaining: 7.89s\n",
      "593:\tlearn: 1.0000000\ttotal: 5.17s\tremaining: 7.88s\n",
      "594:\tlearn: 1.0000000\ttotal: 5.18s\tremaining: 7.87s\n",
      "595:\tlearn: 1.0000000\ttotal: 5.19s\tremaining: 7.87s\n",
      "596:\tlearn: 1.0000000\ttotal: 5.2s\tremaining: 7.86s\n",
      "597:\tlearn: 1.0000000\ttotal: 5.2s\tremaining: 7.85s\n",
      "598:\tlearn: 1.0000000\ttotal: 5.21s\tremaining: 7.84s\n",
      "599:\tlearn: 1.0000000\ttotal: 5.22s\tremaining: 7.83s\n",
      "600:\tlearn: 1.0000000\ttotal: 5.23s\tremaining: 7.82s\n",
      "601:\tlearn: 1.0000000\ttotal: 5.24s\tremaining: 7.81s\n",
      "602:\tlearn: 1.0000000\ttotal: 5.24s\tremaining: 7.8s\n",
      "603:\tlearn: 1.0000000\ttotal: 5.25s\tremaining: 7.79s\n",
      "604:\tlearn: 1.0000000\ttotal: 5.26s\tremaining: 7.78s\n",
      "605:\tlearn: 1.0000000\ttotal: 5.27s\tremaining: 7.77s\n",
      "606:\tlearn: 1.0000000\ttotal: 5.28s\tremaining: 7.77s\n",
      "607:\tlearn: 1.0000000\ttotal: 5.29s\tremaining: 7.76s\n",
      "608:\tlearn: 1.0000000\ttotal: 5.3s\tremaining: 7.75s\n",
      "609:\tlearn: 1.0000000\ttotal: 5.31s\tremaining: 7.74s\n",
      "610:\tlearn: 1.0000000\ttotal: 5.31s\tremaining: 7.73s\n",
      "611:\tlearn: 1.0000000\ttotal: 5.32s\tremaining: 7.72s\n",
      "612:\tlearn: 1.0000000\ttotal: 5.33s\tremaining: 7.71s\n",
      "613:\tlearn: 1.0000000\ttotal: 5.34s\tremaining: 7.7s\n",
      "614:\tlearn: 1.0000000\ttotal: 5.35s\tremaining: 7.69s\n",
      "615:\tlearn: 1.0000000\ttotal: 5.35s\tremaining: 7.68s\n",
      "616:\tlearn: 1.0000000\ttotal: 5.36s\tremaining: 7.68s\n",
      "617:\tlearn: 1.0000000\ttotal: 5.37s\tremaining: 7.67s\n",
      "618:\tlearn: 1.0000000\ttotal: 5.38s\tremaining: 7.66s\n",
      "619:\tlearn: 1.0000000\ttotal: 5.39s\tremaining: 7.65s\n",
      "620:\tlearn: 1.0000000\ttotal: 5.4s\tremaining: 7.64s\n",
      "621:\tlearn: 1.0000000\ttotal: 5.4s\tremaining: 7.63s\n",
      "622:\tlearn: 1.0000000\ttotal: 5.41s\tremaining: 7.62s\n",
      "623:\tlearn: 1.0000000\ttotal: 5.42s\tremaining: 7.61s\n",
      "624:\tlearn: 1.0000000\ttotal: 5.43s\tremaining: 7.6s\n",
      "625:\tlearn: 1.0000000\ttotal: 5.44s\tremaining: 7.59s\n",
      "626:\tlearn: 1.0000000\ttotal: 5.45s\tremaining: 7.58s\n",
      "627:\tlearn: 1.0000000\ttotal: 5.46s\tremaining: 7.57s\n",
      "628:\tlearn: 1.0000000\ttotal: 5.46s\tremaining: 7.56s\n",
      "629:\tlearn: 1.0000000\ttotal: 5.47s\tremaining: 7.55s\n",
      "630:\tlearn: 1.0000000\ttotal: 5.48s\tremaining: 7.54s\n",
      "631:\tlearn: 1.0000000\ttotal: 5.49s\tremaining: 7.54s\n",
      "632:\tlearn: 1.0000000\ttotal: 5.49s\tremaining: 7.52s\n",
      "633:\tlearn: 1.0000000\ttotal: 5.5s\tremaining: 7.51s\n",
      "634:\tlearn: 1.0000000\ttotal: 5.51s\tremaining: 7.51s\n",
      "635:\tlearn: 1.0000000\ttotal: 5.52s\tremaining: 7.5s\n",
      "636:\tlearn: 1.0000000\ttotal: 5.53s\tremaining: 7.49s\n",
      "637:\tlearn: 1.0000000\ttotal: 5.53s\tremaining: 7.48s\n",
      "638:\tlearn: 1.0000000\ttotal: 5.54s\tremaining: 7.46s\n",
      "639:\tlearn: 1.0000000\ttotal: 5.55s\tremaining: 7.46s\n",
      "640:\tlearn: 1.0000000\ttotal: 5.56s\tremaining: 7.45s\n",
      "641:\tlearn: 1.0000000\ttotal: 5.57s\tremaining: 7.44s\n",
      "642:\tlearn: 1.0000000\ttotal: 5.58s\tremaining: 7.43s\n",
      "643:\tlearn: 1.0000000\ttotal: 5.58s\tremaining: 7.42s\n",
      "644:\tlearn: 1.0000000\ttotal: 5.59s\tremaining: 7.41s\n",
      "645:\tlearn: 1.0000000\ttotal: 5.6s\tremaining: 7.4s\n",
      "646:\tlearn: 1.0000000\ttotal: 5.61s\tremaining: 7.39s\n",
      "647:\tlearn: 1.0000000\ttotal: 5.61s\tremaining: 7.38s\n",
      "648:\tlearn: 1.0000000\ttotal: 5.62s\tremaining: 7.37s\n",
      "649:\tlearn: 1.0000000\ttotal: 5.63s\tremaining: 7.36s\n",
      "650:\tlearn: 1.0000000\ttotal: 5.64s\tremaining: 7.35s\n",
      "651:\tlearn: 1.0000000\ttotal: 5.65s\tremaining: 7.34s\n",
      "652:\tlearn: 1.0000000\ttotal: 5.65s\tremaining: 7.33s\n",
      "653:\tlearn: 1.0000000\ttotal: 5.66s\tremaining: 7.33s\n",
      "654:\tlearn: 1.0000000\ttotal: 5.67s\tremaining: 7.31s\n",
      "655:\tlearn: 1.0000000\ttotal: 5.68s\tremaining: 7.3s\n",
      "656:\tlearn: 1.0000000\ttotal: 5.69s\tremaining: 7.29s\n",
      "657:\tlearn: 1.0000000\ttotal: 5.69s\tremaining: 7.29s\n",
      "658:\tlearn: 1.0000000\ttotal: 5.7s\tremaining: 7.28s\n",
      "659:\tlearn: 1.0000000\ttotal: 5.71s\tremaining: 7.27s\n",
      "660:\tlearn: 1.0000000\ttotal: 5.72s\tremaining: 7.26s\n",
      "661:\tlearn: 1.0000000\ttotal: 5.73s\tremaining: 7.25s\n",
      "662:\tlearn: 1.0000000\ttotal: 5.74s\tremaining: 7.24s\n",
      "663:\tlearn: 1.0000000\ttotal: 5.74s\tremaining: 7.23s\n",
      "664:\tlearn: 1.0000000\ttotal: 5.75s\tremaining: 7.22s\n",
      "665:\tlearn: 1.0000000\ttotal: 5.76s\tremaining: 7.21s\n",
      "666:\tlearn: 1.0000000\ttotal: 5.77s\tremaining: 7.2s\n",
      "667:\tlearn: 1.0000000\ttotal: 5.77s\tremaining: 7.19s\n",
      "668:\tlearn: 1.0000000\ttotal: 5.78s\tremaining: 7.18s\n",
      "669:\tlearn: 1.0000000\ttotal: 5.79s\tremaining: 7.17s\n",
      "670:\tlearn: 1.0000000\ttotal: 5.8s\tremaining: 7.16s\n",
      "671:\tlearn: 1.0000000\ttotal: 5.8s\tremaining: 7.15s\n",
      "672:\tlearn: 1.0000000\ttotal: 5.81s\tremaining: 7.14s\n",
      "673:\tlearn: 1.0000000\ttotal: 5.82s\tremaining: 7.13s\n",
      "674:\tlearn: 1.0000000\ttotal: 5.83s\tremaining: 7.12s\n",
      "675:\tlearn: 1.0000000\ttotal: 5.84s\tremaining: 7.12s\n",
      "676:\tlearn: 1.0000000\ttotal: 5.84s\tremaining: 7.11s\n",
      "677:\tlearn: 1.0000000\ttotal: 5.85s\tremaining: 7.1s\n",
      "678:\tlearn: 1.0000000\ttotal: 5.86s\tremaining: 7.09s\n",
      "679:\tlearn: 1.0000000\ttotal: 5.87s\tremaining: 7.08s\n",
      "680:\tlearn: 1.0000000\ttotal: 5.88s\tremaining: 7.07s\n",
      "681:\tlearn: 1.0000000\ttotal: 5.88s\tremaining: 7.06s\n",
      "682:\tlearn: 1.0000000\ttotal: 5.89s\tremaining: 7.05s\n",
      "683:\tlearn: 1.0000000\ttotal: 5.9s\tremaining: 7.04s\n",
      "684:\tlearn: 1.0000000\ttotal: 5.91s\tremaining: 7.03s\n",
      "685:\tlearn: 1.0000000\ttotal: 5.92s\tremaining: 7.02s\n",
      "686:\tlearn: 1.0000000\ttotal: 5.93s\tremaining: 7.01s\n",
      "687:\tlearn: 1.0000000\ttotal: 5.93s\tremaining: 7s\n",
      "688:\tlearn: 1.0000000\ttotal: 5.94s\tremaining: 6.99s\n",
      "689:\tlearn: 1.0000000\ttotal: 5.95s\tremaining: 6.98s\n",
      "690:\tlearn: 1.0000000\ttotal: 5.96s\tremaining: 6.97s\n",
      "691:\tlearn: 1.0000000\ttotal: 5.96s\tremaining: 6.96s\n",
      "692:\tlearn: 1.0000000\ttotal: 5.97s\tremaining: 6.95s\n",
      "693:\tlearn: 1.0000000\ttotal: 5.98s\tremaining: 6.94s\n",
      "694:\tlearn: 1.0000000\ttotal: 5.99s\tremaining: 6.93s\n",
      "695:\tlearn: 1.0000000\ttotal: 5.99s\tremaining: 6.92s\n",
      "696:\tlearn: 1.0000000\ttotal: 6s\tremaining: 6.91s\n",
      "697:\tlearn: 1.0000000\ttotal: 6.01s\tremaining: 6.9s\n",
      "698:\tlearn: 1.0000000\ttotal: 6.01s\tremaining: 6.89s\n",
      "699:\tlearn: 1.0000000\ttotal: 6.02s\tremaining: 6.88s\n",
      "700:\tlearn: 1.0000000\ttotal: 6.03s\tremaining: 6.87s\n",
      "701:\tlearn: 1.0000000\ttotal: 6.04s\tremaining: 6.86s\n",
      "702:\tlearn: 1.0000000\ttotal: 6.05s\tremaining: 6.85s\n",
      "703:\tlearn: 1.0000000\ttotal: 6.05s\tremaining: 6.84s\n",
      "704:\tlearn: 1.0000000\ttotal: 6.06s\tremaining: 6.84s\n",
      "705:\tlearn: 1.0000000\ttotal: 6.07s\tremaining: 6.83s\n",
      "706:\tlearn: 1.0000000\ttotal: 6.08s\tremaining: 6.82s\n",
      "707:\tlearn: 1.0000000\ttotal: 6.08s\tremaining: 6.81s\n",
      "708:\tlearn: 1.0000000\ttotal: 6.09s\tremaining: 6.8s\n",
      "709:\tlearn: 1.0000000\ttotal: 6.1s\tremaining: 6.79s\n",
      "710:\tlearn: 1.0000000\ttotal: 6.11s\tremaining: 6.78s\n",
      "711:\tlearn: 1.0000000\ttotal: 6.12s\tremaining: 6.77s\n",
      "712:\tlearn: 1.0000000\ttotal: 6.13s\tremaining: 6.76s\n",
      "713:\tlearn: 1.0000000\ttotal: 6.13s\tremaining: 6.75s\n",
      "714:\tlearn: 1.0000000\ttotal: 6.14s\tremaining: 6.74s\n",
      "715:\tlearn: 1.0000000\ttotal: 6.15s\tremaining: 6.74s\n",
      "716:\tlearn: 1.0000000\ttotal: 6.16s\tremaining: 6.72s\n",
      "717:\tlearn: 1.0000000\ttotal: 6.17s\tremaining: 6.72s\n",
      "718:\tlearn: 1.0000000\ttotal: 6.18s\tremaining: 6.71s\n",
      "719:\tlearn: 1.0000000\ttotal: 6.18s\tremaining: 6.7s\n",
      "720:\tlearn: 1.0000000\ttotal: 6.19s\tremaining: 6.69s\n",
      "721:\tlearn: 1.0000000\ttotal: 6.2s\tremaining: 6.68s\n",
      "722:\tlearn: 1.0000000\ttotal: 6.21s\tremaining: 6.67s\n",
      "723:\tlearn: 1.0000000\ttotal: 6.22s\tremaining: 6.66s\n",
      "724:\tlearn: 1.0000000\ttotal: 6.23s\tremaining: 6.66s\n",
      "725:\tlearn: 1.0000000\ttotal: 6.24s\tremaining: 6.65s\n",
      "726:\tlearn: 1.0000000\ttotal: 6.25s\tremaining: 6.64s\n",
      "727:\tlearn: 1.0000000\ttotal: 6.25s\tremaining: 6.63s\n",
      "728:\tlearn: 1.0000000\ttotal: 6.26s\tremaining: 6.62s\n",
      "729:\tlearn: 1.0000000\ttotal: 6.27s\tremaining: 6.61s\n",
      "730:\tlearn: 1.0000000\ttotal: 6.28s\tremaining: 6.6s\n",
      "731:\tlearn: 1.0000000\ttotal: 6.28s\tremaining: 6.59s\n",
      "732:\tlearn: 1.0000000\ttotal: 6.29s\tremaining: 6.58s\n",
      "733:\tlearn: 1.0000000\ttotal: 6.3s\tremaining: 6.57s\n",
      "734:\tlearn: 1.0000000\ttotal: 6.3s\tremaining: 6.56s\n",
      "735:\tlearn: 1.0000000\ttotal: 6.31s\tremaining: 6.55s\n",
      "736:\tlearn: 1.0000000\ttotal: 6.32s\tremaining: 6.54s\n",
      "737:\tlearn: 1.0000000\ttotal: 6.33s\tremaining: 6.54s\n",
      "738:\tlearn: 1.0000000\ttotal: 6.34s\tremaining: 6.53s\n",
      "739:\tlearn: 1.0000000\ttotal: 6.35s\tremaining: 6.52s\n",
      "740:\tlearn: 1.0000000\ttotal: 6.36s\tremaining: 6.51s\n",
      "741:\tlearn: 1.0000000\ttotal: 6.36s\tremaining: 6.5s\n",
      "742:\tlearn: 1.0000000\ttotal: 6.37s\tremaining: 6.49s\n",
      "743:\tlearn: 1.0000000\ttotal: 6.38s\tremaining: 6.48s\n",
      "744:\tlearn: 1.0000000\ttotal: 6.38s\tremaining: 6.47s\n",
      "745:\tlearn: 1.0000000\ttotal: 6.39s\tremaining: 6.46s\n",
      "746:\tlearn: 1.0000000\ttotal: 6.4s\tremaining: 6.45s\n",
      "747:\tlearn: 1.0000000\ttotal: 6.41s\tremaining: 6.44s\n",
      "748:\tlearn: 1.0000000\ttotal: 6.42s\tremaining: 6.43s\n",
      "749:\tlearn: 1.0000000\ttotal: 6.42s\tremaining: 6.42s\n",
      "750:\tlearn: 1.0000000\ttotal: 6.43s\tremaining: 6.41s\n",
      "751:\tlearn: 1.0000000\ttotal: 6.44s\tremaining: 6.41s\n",
      "752:\tlearn: 1.0000000\ttotal: 6.46s\tremaining: 6.41s\n",
      "753:\tlearn: 1.0000000\ttotal: 6.47s\tremaining: 6.4s\n",
      "754:\tlearn: 1.0000000\ttotal: 6.47s\tremaining: 6.39s\n",
      "755:\tlearn: 1.0000000\ttotal: 6.48s\tremaining: 6.38s\n",
      "756:\tlearn: 1.0000000\ttotal: 6.49s\tremaining: 6.37s\n",
      "757:\tlearn: 1.0000000\ttotal: 6.5s\tremaining: 6.36s\n",
      "758:\tlearn: 1.0000000\ttotal: 6.51s\tremaining: 6.35s\n",
      "759:\tlearn: 1.0000000\ttotal: 6.51s\tremaining: 6.34s\n",
      "760:\tlearn: 1.0000000\ttotal: 6.52s\tremaining: 6.33s\n",
      "761:\tlearn: 1.0000000\ttotal: 6.53s\tremaining: 6.33s\n",
      "762:\tlearn: 1.0000000\ttotal: 6.54s\tremaining: 6.32s\n",
      "763:\tlearn: 1.0000000\ttotal: 6.55s\tremaining: 6.31s\n",
      "764:\tlearn: 1.0000000\ttotal: 6.55s\tremaining: 6.3s\n",
      "765:\tlearn: 1.0000000\ttotal: 6.56s\tremaining: 6.29s\n",
      "766:\tlearn: 1.0000000\ttotal: 6.57s\tremaining: 6.28s\n",
      "767:\tlearn: 1.0000000\ttotal: 6.58s\tremaining: 6.27s\n",
      "768:\tlearn: 1.0000000\ttotal: 6.59s\tremaining: 6.26s\n",
      "769:\tlearn: 1.0000000\ttotal: 6.6s\tremaining: 6.26s\n",
      "770:\tlearn: 1.0000000\ttotal: 6.61s\tremaining: 6.25s\n",
      "771:\tlearn: 1.0000000\ttotal: 6.61s\tremaining: 6.24s\n",
      "772:\tlearn: 1.0000000\ttotal: 6.62s\tremaining: 6.23s\n",
      "773:\tlearn: 1.0000000\ttotal: 6.63s\tremaining: 6.22s\n",
      "774:\tlearn: 1.0000000\ttotal: 6.64s\tremaining: 6.21s\n",
      "775:\tlearn: 1.0000000\ttotal: 6.65s\tremaining: 6.2s\n",
      "776:\tlearn: 1.0000000\ttotal: 6.66s\tremaining: 6.19s\n",
      "777:\tlearn: 1.0000000\ttotal: 6.66s\tremaining: 6.18s\n",
      "778:\tlearn: 1.0000000\ttotal: 6.67s\tremaining: 6.17s\n",
      "779:\tlearn: 1.0000000\ttotal: 6.68s\tremaining: 6.17s\n",
      "780:\tlearn: 1.0000000\ttotal: 6.69s\tremaining: 6.16s\n",
      "781:\tlearn: 1.0000000\ttotal: 6.7s\tremaining: 6.15s\n",
      "782:\tlearn: 1.0000000\ttotal: 6.71s\tremaining: 6.14s\n",
      "783:\tlearn: 1.0000000\ttotal: 6.71s\tremaining: 6.13s\n",
      "784:\tlearn: 1.0000000\ttotal: 6.72s\tremaining: 6.12s\n",
      "785:\tlearn: 1.0000000\ttotal: 6.73s\tremaining: 6.11s\n",
      "786:\tlearn: 1.0000000\ttotal: 6.74s\tremaining: 6.1s\n",
      "787:\tlearn: 1.0000000\ttotal: 6.74s\tremaining: 6.09s\n",
      "788:\tlearn: 1.0000000\ttotal: 6.75s\tremaining: 6.08s\n",
      "789:\tlearn: 1.0000000\ttotal: 6.76s\tremaining: 6.07s\n",
      "790:\tlearn: 1.0000000\ttotal: 6.76s\tremaining: 6.06s\n",
      "791:\tlearn: 1.0000000\ttotal: 6.77s\tremaining: 6.05s\n",
      "792:\tlearn: 1.0000000\ttotal: 6.78s\tremaining: 6.05s\n",
      "793:\tlearn: 1.0000000\ttotal: 6.79s\tremaining: 6.04s\n",
      "794:\tlearn: 1.0000000\ttotal: 6.8s\tremaining: 6.03s\n",
      "795:\tlearn: 1.0000000\ttotal: 6.8s\tremaining: 6.02s\n",
      "796:\tlearn: 1.0000000\ttotal: 6.81s\tremaining: 6.01s\n",
      "797:\tlearn: 1.0000000\ttotal: 6.82s\tremaining: 6s\n",
      "798:\tlearn: 1.0000000\ttotal: 6.83s\tremaining: 5.99s\n",
      "799:\tlearn: 1.0000000\ttotal: 6.84s\tremaining: 5.98s\n",
      "800:\tlearn: 1.0000000\ttotal: 6.85s\tremaining: 5.97s\n",
      "801:\tlearn: 1.0000000\ttotal: 6.85s\tremaining: 5.96s\n",
      "802:\tlearn: 1.0000000\ttotal: 6.86s\tremaining: 5.96s\n",
      "803:\tlearn: 1.0000000\ttotal: 6.87s\tremaining: 5.95s\n",
      "804:\tlearn: 1.0000000\ttotal: 6.88s\tremaining: 5.94s\n",
      "805:\tlearn: 1.0000000\ttotal: 6.89s\tremaining: 5.93s\n",
      "806:\tlearn: 1.0000000\ttotal: 6.9s\tremaining: 5.92s\n",
      "807:\tlearn: 1.0000000\ttotal: 6.9s\tremaining: 5.91s\n",
      "808:\tlearn: 1.0000000\ttotal: 6.91s\tremaining: 5.9s\n",
      "809:\tlearn: 1.0000000\ttotal: 6.92s\tremaining: 5.89s\n",
      "810:\tlearn: 1.0000000\ttotal: 6.93s\tremaining: 5.89s\n",
      "811:\tlearn: 1.0000000\ttotal: 6.94s\tremaining: 5.88s\n",
      "812:\tlearn: 1.0000000\ttotal: 6.95s\tremaining: 5.87s\n",
      "813:\tlearn: 1.0000000\ttotal: 6.95s\tremaining: 5.86s\n",
      "814:\tlearn: 1.0000000\ttotal: 6.96s\tremaining: 5.85s\n",
      "815:\tlearn: 1.0000000\ttotal: 6.97s\tremaining: 5.84s\n",
      "816:\tlearn: 1.0000000\ttotal: 6.98s\tremaining: 5.83s\n",
      "817:\tlearn: 1.0000000\ttotal: 6.99s\tremaining: 5.83s\n",
      "818:\tlearn: 1.0000000\ttotal: 7s\tremaining: 5.82s\n",
      "819:\tlearn: 1.0000000\ttotal: 7s\tremaining: 5.81s\n",
      "820:\tlearn: 1.0000000\ttotal: 7.01s\tremaining: 5.8s\n",
      "821:\tlearn: 1.0000000\ttotal: 7.02s\tremaining: 5.79s\n",
      "822:\tlearn: 1.0000000\ttotal: 7.03s\tremaining: 5.78s\n",
      "823:\tlearn: 1.0000000\ttotal: 7.04s\tremaining: 5.77s\n",
      "824:\tlearn: 1.0000000\ttotal: 7.04s\tremaining: 5.76s\n",
      "825:\tlearn: 1.0000000\ttotal: 7.05s\tremaining: 5.75s\n",
      "826:\tlearn: 1.0000000\ttotal: 7.06s\tremaining: 5.75s\n",
      "827:\tlearn: 1.0000000\ttotal: 7.07s\tremaining: 5.74s\n",
      "828:\tlearn: 1.0000000\ttotal: 7.08s\tremaining: 5.73s\n",
      "829:\tlearn: 1.0000000\ttotal: 7.09s\tremaining: 5.72s\n",
      "830:\tlearn: 1.0000000\ttotal: 7.09s\tremaining: 5.71s\n",
      "831:\tlearn: 1.0000000\ttotal: 7.1s\tremaining: 5.7s\n",
      "832:\tlearn: 1.0000000\ttotal: 7.11s\tremaining: 5.69s\n",
      "833:\tlearn: 1.0000000\ttotal: 7.12s\tremaining: 5.68s\n",
      "834:\tlearn: 1.0000000\ttotal: 7.13s\tremaining: 5.68s\n",
      "835:\tlearn: 1.0000000\ttotal: 7.14s\tremaining: 5.67s\n",
      "836:\tlearn: 1.0000000\ttotal: 7.14s\tremaining: 5.66s\n",
      "837:\tlearn: 1.0000000\ttotal: 7.15s\tremaining: 5.65s\n",
      "838:\tlearn: 1.0000000\ttotal: 7.16s\tremaining: 5.64s\n",
      "839:\tlearn: 1.0000000\ttotal: 7.17s\tremaining: 5.63s\n",
      "840:\tlearn: 1.0000000\ttotal: 7.18s\tremaining: 5.62s\n",
      "841:\tlearn: 1.0000000\ttotal: 7.18s\tremaining: 5.62s\n",
      "842:\tlearn: 1.0000000\ttotal: 7.19s\tremaining: 5.61s\n",
      "843:\tlearn: 1.0000000\ttotal: 7.2s\tremaining: 5.6s\n",
      "844:\tlearn: 1.0000000\ttotal: 7.21s\tremaining: 5.59s\n",
      "845:\tlearn: 1.0000000\ttotal: 7.22s\tremaining: 5.58s\n",
      "846:\tlearn: 1.0000000\ttotal: 7.23s\tremaining: 5.57s\n",
      "847:\tlearn: 1.0000000\ttotal: 7.23s\tremaining: 5.56s\n",
      "848:\tlearn: 1.0000000\ttotal: 7.24s\tremaining: 5.55s\n",
      "849:\tlearn: 1.0000000\ttotal: 7.25s\tremaining: 5.54s\n",
      "850:\tlearn: 1.0000000\ttotal: 7.25s\tremaining: 5.53s\n",
      "851:\tlearn: 1.0000000\ttotal: 7.26s\tremaining: 5.52s\n",
      "852:\tlearn: 1.0000000\ttotal: 7.27s\tremaining: 5.51s\n",
      "853:\tlearn: 1.0000000\ttotal: 7.28s\tremaining: 5.51s\n",
      "854:\tlearn: 1.0000000\ttotal: 7.29s\tremaining: 5.5s\n",
      "855:\tlearn: 1.0000000\ttotal: 7.29s\tremaining: 5.49s\n",
      "856:\tlearn: 1.0000000\ttotal: 7.3s\tremaining: 5.48s\n",
      "857:\tlearn: 1.0000000\ttotal: 7.31s\tremaining: 5.47s\n",
      "858:\tlearn: 1.0000000\ttotal: 7.32s\tremaining: 5.46s\n",
      "859:\tlearn: 1.0000000\ttotal: 7.33s\tremaining: 5.45s\n",
      "860:\tlearn: 1.0000000\ttotal: 7.33s\tremaining: 5.44s\n",
      "861:\tlearn: 1.0000000\ttotal: 7.34s\tremaining: 5.43s\n",
      "862:\tlearn: 1.0000000\ttotal: 7.35s\tremaining: 5.43s\n",
      "863:\tlearn: 1.0000000\ttotal: 7.36s\tremaining: 5.42s\n",
      "864:\tlearn: 1.0000000\ttotal: 7.37s\tremaining: 5.41s\n",
      "865:\tlearn: 1.0000000\ttotal: 7.38s\tremaining: 5.4s\n",
      "866:\tlearn: 1.0000000\ttotal: 7.39s\tremaining: 5.39s\n",
      "867:\tlearn: 1.0000000\ttotal: 7.39s\tremaining: 5.38s\n",
      "868:\tlearn: 1.0000000\ttotal: 7.4s\tremaining: 5.37s\n",
      "869:\tlearn: 1.0000000\ttotal: 7.41s\tremaining: 5.37s\n",
      "870:\tlearn: 1.0000000\ttotal: 7.42s\tremaining: 5.36s\n",
      "871:\tlearn: 1.0000000\ttotal: 7.43s\tremaining: 5.35s\n",
      "872:\tlearn: 1.0000000\ttotal: 7.43s\tremaining: 5.34s\n",
      "873:\tlearn: 1.0000000\ttotal: 7.44s\tremaining: 5.33s\n",
      "874:\tlearn: 1.0000000\ttotal: 7.45s\tremaining: 5.32s\n",
      "875:\tlearn: 1.0000000\ttotal: 7.46s\tremaining: 5.31s\n",
      "876:\tlearn: 1.0000000\ttotal: 7.46s\tremaining: 5.3s\n",
      "877:\tlearn: 1.0000000\ttotal: 7.47s\tremaining: 5.29s\n",
      "878:\tlearn: 1.0000000\ttotal: 7.48s\tremaining: 5.29s\n",
      "879:\tlearn: 1.0000000\ttotal: 7.49s\tremaining: 5.28s\n",
      "880:\tlearn: 1.0000000\ttotal: 7.5s\tremaining: 5.27s\n",
      "881:\tlearn: 1.0000000\ttotal: 7.5s\tremaining: 5.26s\n",
      "882:\tlearn: 1.0000000\ttotal: 7.51s\tremaining: 5.25s\n",
      "883:\tlearn: 1.0000000\ttotal: 7.52s\tremaining: 5.24s\n",
      "884:\tlearn: 1.0000000\ttotal: 7.53s\tremaining: 5.23s\n",
      "885:\tlearn: 1.0000000\ttotal: 7.54s\tremaining: 5.22s\n",
      "886:\tlearn: 1.0000000\ttotal: 7.55s\tremaining: 5.21s\n",
      "887:\tlearn: 1.0000000\ttotal: 7.55s\tremaining: 5.21s\n",
      "888:\tlearn: 1.0000000\ttotal: 7.56s\tremaining: 5.2s\n",
      "889:\tlearn: 1.0000000\ttotal: 7.57s\tremaining: 5.19s\n",
      "890:\tlearn: 1.0000000\ttotal: 7.58s\tremaining: 5.18s\n",
      "891:\tlearn: 1.0000000\ttotal: 7.58s\tremaining: 5.17s\n",
      "892:\tlearn: 1.0000000\ttotal: 7.59s\tremaining: 5.16s\n",
      "893:\tlearn: 1.0000000\ttotal: 7.6s\tremaining: 5.15s\n",
      "894:\tlearn: 1.0000000\ttotal: 7.61s\tremaining: 5.14s\n",
      "895:\tlearn: 1.0000000\ttotal: 7.61s\tremaining: 5.13s\n",
      "896:\tlearn: 1.0000000\ttotal: 7.62s\tremaining: 5.13s\n",
      "897:\tlearn: 1.0000000\ttotal: 7.63s\tremaining: 5.12s\n",
      "898:\tlearn: 1.0000000\ttotal: 7.64s\tremaining: 5.11s\n",
      "899:\tlearn: 1.0000000\ttotal: 7.65s\tremaining: 5.1s\n",
      "900:\tlearn: 1.0000000\ttotal: 7.66s\tremaining: 5.09s\n",
      "901:\tlearn: 1.0000000\ttotal: 7.67s\tremaining: 5.09s\n",
      "902:\tlearn: 1.0000000\ttotal: 7.68s\tremaining: 5.08s\n",
      "903:\tlearn: 1.0000000\ttotal: 7.69s\tremaining: 5.07s\n",
      "904:\tlearn: 1.0000000\ttotal: 7.7s\tremaining: 5.06s\n",
      "905:\tlearn: 1.0000000\ttotal: 7.71s\tremaining: 5.05s\n",
      "906:\tlearn: 1.0000000\ttotal: 7.71s\tremaining: 5.04s\n",
      "907:\tlearn: 1.0000000\ttotal: 7.72s\tremaining: 5.04s\n",
      "908:\tlearn: 1.0000000\ttotal: 7.73s\tremaining: 5.03s\n",
      "909:\tlearn: 1.0000000\ttotal: 7.74s\tremaining: 5.02s\n",
      "910:\tlearn: 1.0000000\ttotal: 7.75s\tremaining: 5.01s\n",
      "911:\tlearn: 1.0000000\ttotal: 7.76s\tremaining: 5s\n",
      "912:\tlearn: 1.0000000\ttotal: 7.76s\tremaining: 4.99s\n",
      "913:\tlearn: 1.0000000\ttotal: 7.77s\tremaining: 4.98s\n",
      "914:\tlearn: 1.0000000\ttotal: 7.78s\tremaining: 4.97s\n",
      "915:\tlearn: 1.0000000\ttotal: 7.79s\tremaining: 4.96s\n",
      "916:\tlearn: 1.0000000\ttotal: 7.79s\tremaining: 4.96s\n",
      "917:\tlearn: 1.0000000\ttotal: 7.8s\tremaining: 4.95s\n",
      "918:\tlearn: 1.0000000\ttotal: 7.81s\tremaining: 4.94s\n",
      "919:\tlearn: 1.0000000\ttotal: 7.82s\tremaining: 4.93s\n",
      "920:\tlearn: 1.0000000\ttotal: 7.82s\tremaining: 4.92s\n",
      "921:\tlearn: 1.0000000\ttotal: 7.83s\tremaining: 4.91s\n",
      "922:\tlearn: 1.0000000\ttotal: 7.84s\tremaining: 4.9s\n",
      "923:\tlearn: 1.0000000\ttotal: 7.85s\tremaining: 4.89s\n",
      "924:\tlearn: 1.0000000\ttotal: 7.86s\tremaining: 4.88s\n",
      "925:\tlearn: 1.0000000\ttotal: 7.87s\tremaining: 4.88s\n",
      "926:\tlearn: 1.0000000\ttotal: 7.87s\tremaining: 4.87s\n",
      "927:\tlearn: 1.0000000\ttotal: 7.88s\tremaining: 4.86s\n",
      "928:\tlearn: 1.0000000\ttotal: 7.88s\tremaining: 4.85s\n",
      "929:\tlearn: 1.0000000\ttotal: 7.89s\tremaining: 4.84s\n",
      "930:\tlearn: 1.0000000\ttotal: 7.9s\tremaining: 4.83s\n",
      "931:\tlearn: 1.0000000\ttotal: 7.91s\tremaining: 4.82s\n",
      "932:\tlearn: 1.0000000\ttotal: 7.92s\tremaining: 4.81s\n",
      "933:\tlearn: 1.0000000\ttotal: 7.92s\tremaining: 4.8s\n",
      "934:\tlearn: 1.0000000\ttotal: 7.93s\tremaining: 4.79s\n",
      "935:\tlearn: 1.0000000\ttotal: 7.94s\tremaining: 4.78s\n",
      "936:\tlearn: 1.0000000\ttotal: 7.95s\tremaining: 4.78s\n",
      "937:\tlearn: 1.0000000\ttotal: 7.96s\tremaining: 4.77s\n",
      "938:\tlearn: 1.0000000\ttotal: 7.96s\tremaining: 4.76s\n",
      "939:\tlearn: 1.0000000\ttotal: 7.97s\tremaining: 4.75s\n",
      "940:\tlearn: 1.0000000\ttotal: 7.98s\tremaining: 4.74s\n",
      "941:\tlearn: 1.0000000\ttotal: 7.99s\tremaining: 4.73s\n",
      "942:\tlearn: 1.0000000\ttotal: 8s\tremaining: 4.72s\n",
      "943:\tlearn: 1.0000000\ttotal: 8.01s\tremaining: 4.71s\n",
      "944:\tlearn: 1.0000000\ttotal: 8.01s\tremaining: 4.71s\n",
      "945:\tlearn: 1.0000000\ttotal: 8.02s\tremaining: 4.7s\n",
      "946:\tlearn: 1.0000000\ttotal: 8.03s\tremaining: 4.69s\n",
      "947:\tlearn: 1.0000000\ttotal: 8.04s\tremaining: 4.68s\n",
      "948:\tlearn: 1.0000000\ttotal: 8.04s\tremaining: 4.67s\n",
      "949:\tlearn: 1.0000000\ttotal: 8.05s\tremaining: 4.66s\n",
      "950:\tlearn: 1.0000000\ttotal: 8.06s\tremaining: 4.65s\n",
      "951:\tlearn: 1.0000000\ttotal: 8.07s\tremaining: 4.64s\n",
      "952:\tlearn: 1.0000000\ttotal: 8.07s\tremaining: 4.63s\n",
      "953:\tlearn: 1.0000000\ttotal: 8.08s\tremaining: 4.63s\n",
      "954:\tlearn: 1.0000000\ttotal: 8.09s\tremaining: 4.62s\n",
      "955:\tlearn: 1.0000000\ttotal: 8.1s\tremaining: 4.61s\n",
      "956:\tlearn: 1.0000000\ttotal: 8.11s\tremaining: 4.6s\n",
      "957:\tlearn: 1.0000000\ttotal: 8.12s\tremaining: 4.59s\n",
      "958:\tlearn: 1.0000000\ttotal: 8.12s\tremaining: 4.58s\n",
      "959:\tlearn: 1.0000000\ttotal: 8.13s\tremaining: 4.57s\n",
      "960:\tlearn: 1.0000000\ttotal: 8.14s\tremaining: 4.56s\n",
      "961:\tlearn: 1.0000000\ttotal: 8.15s\tremaining: 4.55s\n",
      "962:\tlearn: 1.0000000\ttotal: 8.15s\tremaining: 4.55s\n",
      "963:\tlearn: 1.0000000\ttotal: 8.16s\tremaining: 4.54s\n",
      "964:\tlearn: 1.0000000\ttotal: 8.17s\tremaining: 4.53s\n",
      "965:\tlearn: 1.0000000\ttotal: 8.18s\tremaining: 4.52s\n",
      "966:\tlearn: 1.0000000\ttotal: 8.18s\tremaining: 4.51s\n",
      "967:\tlearn: 1.0000000\ttotal: 8.19s\tremaining: 4.5s\n",
      "968:\tlearn: 1.0000000\ttotal: 8.2s\tremaining: 4.49s\n",
      "969:\tlearn: 1.0000000\ttotal: 8.21s\tremaining: 4.48s\n",
      "970:\tlearn: 1.0000000\ttotal: 8.21s\tremaining: 4.47s\n",
      "971:\tlearn: 1.0000000\ttotal: 8.22s\tremaining: 4.47s\n",
      "972:\tlearn: 1.0000000\ttotal: 8.23s\tremaining: 4.46s\n",
      "973:\tlearn: 1.0000000\ttotal: 8.24s\tremaining: 4.45s\n",
      "974:\tlearn: 1.0000000\ttotal: 8.24s\tremaining: 4.44s\n",
      "975:\tlearn: 1.0000000\ttotal: 8.25s\tremaining: 4.43s\n",
      "976:\tlearn: 1.0000000\ttotal: 8.26s\tremaining: 4.42s\n",
      "977:\tlearn: 1.0000000\ttotal: 8.27s\tremaining: 4.41s\n",
      "978:\tlearn: 1.0000000\ttotal: 8.28s\tremaining: 4.41s\n",
      "979:\tlearn: 1.0000000\ttotal: 8.29s\tremaining: 4.4s\n",
      "980:\tlearn: 1.0000000\ttotal: 8.3s\tremaining: 4.39s\n",
      "981:\tlearn: 1.0000000\ttotal: 8.3s\tremaining: 4.38s\n",
      "982:\tlearn: 1.0000000\ttotal: 8.31s\tremaining: 4.37s\n",
      "983:\tlearn: 1.0000000\ttotal: 8.32s\tremaining: 4.36s\n",
      "984:\tlearn: 1.0000000\ttotal: 8.33s\tremaining: 4.36s\n",
      "985:\tlearn: 1.0000000\ttotal: 8.34s\tremaining: 4.35s\n",
      "986:\tlearn: 1.0000000\ttotal: 8.35s\tremaining: 4.34s\n",
      "987:\tlearn: 1.0000000\ttotal: 8.36s\tremaining: 4.33s\n",
      "988:\tlearn: 1.0000000\ttotal: 8.36s\tremaining: 4.32s\n",
      "989:\tlearn: 1.0000000\ttotal: 8.37s\tremaining: 4.31s\n",
      "990:\tlearn: 1.0000000\ttotal: 8.38s\tremaining: 4.3s\n",
      "991:\tlearn: 1.0000000\ttotal: 8.39s\tremaining: 4.29s\n",
      "992:\tlearn: 1.0000000\ttotal: 8.39s\tremaining: 4.29s\n",
      "993:\tlearn: 1.0000000\ttotal: 8.4s\tremaining: 4.28s\n",
      "994:\tlearn: 1.0000000\ttotal: 8.41s\tremaining: 4.27s\n",
      "995:\tlearn: 1.0000000\ttotal: 8.41s\tremaining: 4.26s\n",
      "996:\tlearn: 1.0000000\ttotal: 8.42s\tremaining: 4.25s\n",
      "997:\tlearn: 1.0000000\ttotal: 8.43s\tremaining: 4.24s\n",
      "998:\tlearn: 1.0000000\ttotal: 8.44s\tremaining: 4.23s\n",
      "999:\tlearn: 1.0000000\ttotal: 8.45s\tremaining: 4.22s\n",
      "1000:\tlearn: 1.0000000\ttotal: 8.46s\tremaining: 4.21s\n",
      "1001:\tlearn: 1.0000000\ttotal: 8.46s\tremaining: 4.21s\n",
      "1002:\tlearn: 1.0000000\ttotal: 8.47s\tremaining: 4.2s\n",
      "1003:\tlearn: 1.0000000\ttotal: 8.48s\tremaining: 4.19s\n",
      "1004:\tlearn: 1.0000000\ttotal: 8.49s\tremaining: 4.18s\n",
      "1005:\tlearn: 1.0000000\ttotal: 8.49s\tremaining: 4.17s\n",
      "1006:\tlearn: 1.0000000\ttotal: 8.5s\tremaining: 4.16s\n",
      "1007:\tlearn: 1.0000000\ttotal: 8.51s\tremaining: 4.15s\n",
      "1008:\tlearn: 1.0000000\ttotal: 8.52s\tremaining: 4.14s\n",
      "1009:\tlearn: 1.0000000\ttotal: 8.52s\tremaining: 4.13s\n",
      "1010:\tlearn: 1.0000000\ttotal: 8.53s\tremaining: 4.13s\n",
      "1011:\tlearn: 1.0000000\ttotal: 8.54s\tremaining: 4.12s\n",
      "1012:\tlearn: 1.0000000\ttotal: 8.54s\tremaining: 4.11s\n",
      "1013:\tlearn: 1.0000000\ttotal: 8.55s\tremaining: 4.1s\n",
      "1014:\tlearn: 1.0000000\ttotal: 8.56s\tremaining: 4.09s\n",
      "1015:\tlearn: 1.0000000\ttotal: 8.57s\tremaining: 4.08s\n",
      "1016:\tlearn: 1.0000000\ttotal: 8.57s\tremaining: 4.07s\n",
      "1017:\tlearn: 1.0000000\ttotal: 8.58s\tremaining: 4.06s\n",
      "1018:\tlearn: 1.0000000\ttotal: 8.59s\tremaining: 4.05s\n",
      "1019:\tlearn: 1.0000000\ttotal: 8.6s\tremaining: 4.05s\n",
      "1020:\tlearn: 1.0000000\ttotal: 8.61s\tremaining: 4.04s\n",
      "1021:\tlearn: 1.0000000\ttotal: 8.61s\tremaining: 4.03s\n",
      "1022:\tlearn: 1.0000000\ttotal: 8.62s\tremaining: 4.02s\n",
      "1023:\tlearn: 1.0000000\ttotal: 8.63s\tremaining: 4.01s\n",
      "1024:\tlearn: 1.0000000\ttotal: 8.64s\tremaining: 4s\n",
      "1025:\tlearn: 1.0000000\ttotal: 8.65s\tremaining: 4s\n",
      "1026:\tlearn: 1.0000000\ttotal: 8.66s\tremaining: 3.99s\n",
      "1027:\tlearn: 1.0000000\ttotal: 8.67s\tremaining: 3.98s\n",
      "1028:\tlearn: 1.0000000\ttotal: 8.68s\tremaining: 3.97s\n",
      "1029:\tlearn: 1.0000000\ttotal: 8.68s\tremaining: 3.96s\n",
      "1030:\tlearn: 1.0000000\ttotal: 8.69s\tremaining: 3.95s\n",
      "1031:\tlearn: 1.0000000\ttotal: 8.7s\tremaining: 3.94s\n",
      "1032:\tlearn: 1.0000000\ttotal: 8.71s\tremaining: 3.94s\n",
      "1033:\tlearn: 1.0000000\ttotal: 8.71s\tremaining: 3.93s\n",
      "1034:\tlearn: 1.0000000\ttotal: 8.72s\tremaining: 3.92s\n",
      "1035:\tlearn: 1.0000000\ttotal: 8.73s\tremaining: 3.91s\n",
      "1036:\tlearn: 1.0000000\ttotal: 8.74s\tremaining: 3.9s\n",
      "1037:\tlearn: 1.0000000\ttotal: 8.75s\tremaining: 3.89s\n",
      "1038:\tlearn: 1.0000000\ttotal: 8.76s\tremaining: 3.88s\n",
      "1039:\tlearn: 1.0000000\ttotal: 8.76s\tremaining: 3.88s\n",
      "1040:\tlearn: 1.0000000\ttotal: 8.77s\tremaining: 3.87s\n",
      "1041:\tlearn: 1.0000000\ttotal: 8.78s\tremaining: 3.86s\n",
      "1042:\tlearn: 1.0000000\ttotal: 8.79s\tremaining: 3.85s\n",
      "1043:\tlearn: 1.0000000\ttotal: 8.79s\tremaining: 3.84s\n",
      "1044:\tlearn: 1.0000000\ttotal: 8.8s\tremaining: 3.83s\n",
      "1045:\tlearn: 1.0000000\ttotal: 8.81s\tremaining: 3.82s\n",
      "1046:\tlearn: 1.0000000\ttotal: 8.82s\tremaining: 3.82s\n",
      "1047:\tlearn: 1.0000000\ttotal: 8.83s\tremaining: 3.81s\n",
      "1048:\tlearn: 1.0000000\ttotal: 8.84s\tremaining: 3.8s\n",
      "1049:\tlearn: 1.0000000\ttotal: 8.84s\tremaining: 3.79s\n",
      "1050:\tlearn: 1.0000000\ttotal: 8.85s\tremaining: 3.78s\n",
      "1051:\tlearn: 1.0000000\ttotal: 8.86s\tremaining: 3.77s\n",
      "1052:\tlearn: 1.0000000\ttotal: 8.87s\tremaining: 3.77s\n",
      "1053:\tlearn: 1.0000000\ttotal: 8.88s\tremaining: 3.76s\n",
      "1054:\tlearn: 1.0000000\ttotal: 8.89s\tremaining: 3.75s\n",
      "1055:\tlearn: 1.0000000\ttotal: 8.9s\tremaining: 3.74s\n",
      "1056:\tlearn: 1.0000000\ttotal: 8.91s\tremaining: 3.73s\n",
      "1057:\tlearn: 1.0000000\ttotal: 8.92s\tremaining: 3.72s\n",
      "1058:\tlearn: 1.0000000\ttotal: 8.92s\tremaining: 3.72s\n",
      "1059:\tlearn: 1.0000000\ttotal: 8.93s\tremaining: 3.71s\n",
      "1060:\tlearn: 1.0000000\ttotal: 8.94s\tremaining: 3.7s\n",
      "1061:\tlearn: 1.0000000\ttotal: 8.95s\tremaining: 3.69s\n",
      "1062:\tlearn: 1.0000000\ttotal: 8.96s\tremaining: 3.68s\n",
      "1063:\tlearn: 1.0000000\ttotal: 8.97s\tremaining: 3.67s\n",
      "1064:\tlearn: 1.0000000\ttotal: 8.97s\tremaining: 3.67s\n",
      "1065:\tlearn: 1.0000000\ttotal: 8.98s\tremaining: 3.66s\n",
      "1066:\tlearn: 1.0000000\ttotal: 8.99s\tremaining: 3.65s\n",
      "1067:\tlearn: 1.0000000\ttotal: 9s\tremaining: 3.64s\n",
      "1068:\tlearn: 1.0000000\ttotal: 9.01s\tremaining: 3.63s\n",
      "1069:\tlearn: 1.0000000\ttotal: 9.02s\tremaining: 3.62s\n",
      "1070:\tlearn: 1.0000000\ttotal: 9.03s\tremaining: 3.62s\n",
      "1071:\tlearn: 1.0000000\ttotal: 9.03s\tremaining: 3.61s\n",
      "1072:\tlearn: 1.0000000\ttotal: 9.04s\tremaining: 3.6s\n",
      "1073:\tlearn: 1.0000000\ttotal: 9.05s\tremaining: 3.59s\n",
      "1074:\tlearn: 1.0000000\ttotal: 9.06s\tremaining: 3.58s\n",
      "1075:\tlearn: 1.0000000\ttotal: 9.06s\tremaining: 3.57s\n",
      "1076:\tlearn: 1.0000000\ttotal: 9.07s\tremaining: 3.56s\n",
      "1077:\tlearn: 1.0000000\ttotal: 9.08s\tremaining: 3.55s\n",
      "1078:\tlearn: 1.0000000\ttotal: 9.09s\tremaining: 3.55s\n",
      "1079:\tlearn: 1.0000000\ttotal: 9.1s\tremaining: 3.54s\n",
      "1080:\tlearn: 1.0000000\ttotal: 9.11s\tremaining: 3.53s\n",
      "1081:\tlearn: 1.0000000\ttotal: 9.11s\tremaining: 3.52s\n",
      "1082:\tlearn: 1.0000000\ttotal: 9.12s\tremaining: 3.51s\n",
      "1083:\tlearn: 1.0000000\ttotal: 9.13s\tremaining: 3.5s\n",
      "1084:\tlearn: 1.0000000\ttotal: 9.14s\tremaining: 3.5s\n",
      "1085:\tlearn: 1.0000000\ttotal: 9.15s\tremaining: 3.49s\n",
      "1086:\tlearn: 1.0000000\ttotal: 9.16s\tremaining: 3.48s\n",
      "1087:\tlearn: 1.0000000\ttotal: 9.16s\tremaining: 3.47s\n",
      "1088:\tlearn: 1.0000000\ttotal: 9.17s\tremaining: 3.46s\n",
      "1089:\tlearn: 1.0000000\ttotal: 9.18s\tremaining: 3.45s\n",
      "1090:\tlearn: 1.0000000\ttotal: 9.19s\tremaining: 3.44s\n",
      "1091:\tlearn: 1.0000000\ttotal: 9.19s\tremaining: 3.44s\n",
      "1092:\tlearn: 1.0000000\ttotal: 9.2s\tremaining: 3.43s\n",
      "1093:\tlearn: 1.0000000\ttotal: 9.21s\tremaining: 3.42s\n",
      "1094:\tlearn: 1.0000000\ttotal: 9.22s\tremaining: 3.41s\n",
      "1095:\tlearn: 1.0000000\ttotal: 9.23s\tremaining: 3.4s\n",
      "1096:\tlearn: 1.0000000\ttotal: 9.23s\tremaining: 3.39s\n",
      "1097:\tlearn: 1.0000000\ttotal: 9.24s\tremaining: 3.38s\n",
      "1098:\tlearn: 1.0000000\ttotal: 9.25s\tremaining: 3.38s\n",
      "1099:\tlearn: 1.0000000\ttotal: 9.26s\tremaining: 3.37s\n",
      "1100:\tlearn: 1.0000000\ttotal: 9.27s\tremaining: 3.36s\n",
      "1101:\tlearn: 1.0000000\ttotal: 9.28s\tremaining: 3.35s\n",
      "1102:\tlearn: 1.0000000\ttotal: 9.28s\tremaining: 3.34s\n",
      "1103:\tlearn: 1.0000000\ttotal: 9.29s\tremaining: 3.33s\n",
      "1104:\tlearn: 1.0000000\ttotal: 9.3s\tremaining: 3.33s\n",
      "1105:\tlearn: 1.0000000\ttotal: 9.31s\tremaining: 3.32s\n",
      "1106:\tlearn: 1.0000000\ttotal: 9.32s\tremaining: 3.31s\n",
      "1107:\tlearn: 1.0000000\ttotal: 9.32s\tremaining: 3.3s\n",
      "1108:\tlearn: 1.0000000\ttotal: 9.33s\tremaining: 3.29s\n",
      "1109:\tlearn: 1.0000000\ttotal: 9.34s\tremaining: 3.28s\n",
      "1110:\tlearn: 1.0000000\ttotal: 9.35s\tremaining: 3.27s\n",
      "1111:\tlearn: 1.0000000\ttotal: 9.36s\tremaining: 3.26s\n",
      "1112:\tlearn: 1.0000000\ttotal: 9.36s\tremaining: 3.25s\n",
      "1113:\tlearn: 1.0000000\ttotal: 9.37s\tremaining: 3.25s\n",
      "1114:\tlearn: 1.0000000\ttotal: 9.38s\tremaining: 3.24s\n",
      "1115:\tlearn: 1.0000000\ttotal: 9.39s\tremaining: 3.23s\n",
      "1116:\tlearn: 1.0000000\ttotal: 9.39s\tremaining: 3.22s\n",
      "1117:\tlearn: 1.0000000\ttotal: 9.4s\tremaining: 3.21s\n",
      "1118:\tlearn: 1.0000000\ttotal: 9.41s\tremaining: 3.2s\n",
      "1119:\tlearn: 1.0000000\ttotal: 9.42s\tremaining: 3.2s\n",
      "1120:\tlearn: 1.0000000\ttotal: 9.43s\tremaining: 3.19s\n",
      "1121:\tlearn: 1.0000000\ttotal: 9.44s\tremaining: 3.18s\n",
      "1122:\tlearn: 1.0000000\ttotal: 9.44s\tremaining: 3.17s\n",
      "1123:\tlearn: 1.0000000\ttotal: 9.45s\tremaining: 3.16s\n",
      "1124:\tlearn: 1.0000000\ttotal: 9.46s\tremaining: 3.15s\n",
      "1125:\tlearn: 1.0000000\ttotal: 9.47s\tremaining: 3.14s\n",
      "1126:\tlearn: 1.0000000\ttotal: 9.48s\tremaining: 3.14s\n",
      "1127:\tlearn: 1.0000000\ttotal: 9.48s\tremaining: 3.13s\n",
      "1128:\tlearn: 1.0000000\ttotal: 9.49s\tremaining: 3.12s\n",
      "1129:\tlearn: 1.0000000\ttotal: 9.5s\tremaining: 3.11s\n",
      "1130:\tlearn: 1.0000000\ttotal: 9.51s\tremaining: 3.1s\n",
      "1131:\tlearn: 1.0000000\ttotal: 9.52s\tremaining: 3.09s\n",
      "1132:\tlearn: 1.0000000\ttotal: 9.53s\tremaining: 3.09s\n",
      "1133:\tlearn: 1.0000000\ttotal: 9.54s\tremaining: 3.08s\n",
      "1134:\tlearn: 1.0000000\ttotal: 9.54s\tremaining: 3.07s\n",
      "1135:\tlearn: 1.0000000\ttotal: 9.55s\tremaining: 3.06s\n",
      "1136:\tlearn: 1.0000000\ttotal: 9.56s\tremaining: 3.05s\n",
      "1137:\tlearn: 1.0000000\ttotal: 9.57s\tremaining: 3.04s\n",
      "1138:\tlearn: 1.0000000\ttotal: 9.57s\tremaining: 3.03s\n",
      "1139:\tlearn: 1.0000000\ttotal: 9.58s\tremaining: 3.02s\n",
      "1140:\tlearn: 1.0000000\ttotal: 9.59s\tremaining: 3.02s\n",
      "1141:\tlearn: 1.0000000\ttotal: 9.6s\tremaining: 3.01s\n",
      "1142:\tlearn: 1.0000000\ttotal: 9.61s\tremaining: 3s\n",
      "1143:\tlearn: 1.0000000\ttotal: 9.62s\tremaining: 2.99s\n",
      "1144:\tlearn: 1.0000000\ttotal: 9.62s\tremaining: 2.98s\n",
      "1145:\tlearn: 1.0000000\ttotal: 9.63s\tremaining: 2.98s\n",
      "1146:\tlearn: 1.0000000\ttotal: 9.64s\tremaining: 2.97s\n",
      "1147:\tlearn: 1.0000000\ttotal: 9.65s\tremaining: 2.96s\n",
      "1148:\tlearn: 1.0000000\ttotal: 9.66s\tremaining: 2.95s\n",
      "1149:\tlearn: 1.0000000\ttotal: 9.66s\tremaining: 2.94s\n",
      "1150:\tlearn: 1.0000000\ttotal: 9.67s\tremaining: 2.93s\n",
      "1151:\tlearn: 1.0000000\ttotal: 9.68s\tremaining: 2.92s\n",
      "1152:\tlearn: 1.0000000\ttotal: 9.69s\tremaining: 2.92s\n",
      "1153:\tlearn: 1.0000000\ttotal: 9.7s\tremaining: 2.91s\n",
      "1154:\tlearn: 1.0000000\ttotal: 9.71s\tremaining: 2.9s\n",
      "1155:\tlearn: 1.0000000\ttotal: 9.72s\tremaining: 2.89s\n",
      "1156:\tlearn: 1.0000000\ttotal: 9.72s\tremaining: 2.88s\n",
      "1157:\tlearn: 1.0000000\ttotal: 9.73s\tremaining: 2.87s\n",
      "1158:\tlearn: 1.0000000\ttotal: 9.74s\tremaining: 2.87s\n",
      "1159:\tlearn: 1.0000000\ttotal: 9.75s\tremaining: 2.86s\n",
      "1160:\tlearn: 1.0000000\ttotal: 9.75s\tremaining: 2.85s\n",
      "1161:\tlearn: 1.0000000\ttotal: 9.76s\tremaining: 2.84s\n",
      "1162:\tlearn: 1.0000000\ttotal: 9.77s\tremaining: 2.83s\n",
      "1163:\tlearn: 1.0000000\ttotal: 9.78s\tremaining: 2.82s\n",
      "1164:\tlearn: 1.0000000\ttotal: 9.78s\tremaining: 2.81s\n",
      "1165:\tlearn: 1.0000000\ttotal: 9.79s\tremaining: 2.81s\n",
      "1166:\tlearn: 1.0000000\ttotal: 9.8s\tremaining: 2.8s\n",
      "1167:\tlearn: 1.0000000\ttotal: 9.81s\tremaining: 2.79s\n",
      "1168:\tlearn: 1.0000000\ttotal: 9.82s\tremaining: 2.78s\n",
      "1169:\tlearn: 1.0000000\ttotal: 9.82s\tremaining: 2.77s\n",
      "1170:\tlearn: 1.0000000\ttotal: 9.83s\tremaining: 2.76s\n",
      "1171:\tlearn: 1.0000000\ttotal: 9.84s\tremaining: 2.75s\n",
      "1172:\tlearn: 1.0000000\ttotal: 9.85s\tremaining: 2.75s\n",
      "1173:\tlearn: 1.0000000\ttotal: 9.86s\tremaining: 2.74s\n",
      "1174:\tlearn: 1.0000000\ttotal: 9.86s\tremaining: 2.73s\n",
      "1175:\tlearn: 1.0000000\ttotal: 9.87s\tremaining: 2.72s\n",
      "1176:\tlearn: 1.0000000\ttotal: 9.88s\tremaining: 2.71s\n",
      "1177:\tlearn: 1.0000000\ttotal: 9.88s\tremaining: 2.7s\n",
      "1178:\tlearn: 1.0000000\ttotal: 9.89s\tremaining: 2.69s\n",
      "1179:\tlearn: 1.0000000\ttotal: 9.9s\tremaining: 2.69s\n",
      "1180:\tlearn: 1.0000000\ttotal: 9.91s\tremaining: 2.68s\n",
      "1181:\tlearn: 1.0000000\ttotal: 9.92s\tremaining: 2.67s\n",
      "1182:\tlearn: 1.0000000\ttotal: 9.93s\tremaining: 2.66s\n",
      "1183:\tlearn: 1.0000000\ttotal: 9.93s\tremaining: 2.65s\n",
      "1184:\tlearn: 1.0000000\ttotal: 9.94s\tremaining: 2.64s\n",
      "1185:\tlearn: 1.0000000\ttotal: 9.95s\tremaining: 2.63s\n",
      "1186:\tlearn: 1.0000000\ttotal: 9.96s\tremaining: 2.63s\n",
      "1187:\tlearn: 1.0000000\ttotal: 9.97s\tremaining: 2.62s\n",
      "1188:\tlearn: 1.0000000\ttotal: 9.97s\tremaining: 2.61s\n",
      "1189:\tlearn: 1.0000000\ttotal: 9.98s\tremaining: 2.6s\n",
      "1190:\tlearn: 1.0000000\ttotal: 9.99s\tremaining: 2.59s\n",
      "1191:\tlearn: 1.0000000\ttotal: 10s\tremaining: 2.58s\n",
      "1192:\tlearn: 1.0000000\ttotal: 10s\tremaining: 2.58s\n",
      "1193:\tlearn: 1.0000000\ttotal: 10s\tremaining: 2.57s\n",
      "1194:\tlearn: 1.0000000\ttotal: 10s\tremaining: 2.56s\n",
      "1195:\tlearn: 1.0000000\ttotal: 10s\tremaining: 2.55s\n",
      "1196:\tlearn: 1.0000000\ttotal: 10s\tremaining: 2.54s\n",
      "1197:\tlearn: 1.0000000\ttotal: 10.1s\tremaining: 2.53s\n",
      "1198:\tlearn: 1.0000000\ttotal: 10.1s\tremaining: 2.52s\n",
      "1199:\tlearn: 1.0000000\ttotal: 10.1s\tremaining: 2.52s\n",
      "1200:\tlearn: 1.0000000\ttotal: 10.1s\tremaining: 2.51s\n",
      "1201:\tlearn: 1.0000000\ttotal: 10.1s\tremaining: 2.5s\n",
      "1202:\tlearn: 1.0000000\ttotal: 10.1s\tremaining: 2.49s\n",
      "1203:\tlearn: 1.0000000\ttotal: 10.1s\tremaining: 2.48s\n",
      "1204:\tlearn: 1.0000000\ttotal: 10.1s\tremaining: 2.47s\n",
      "1205:\tlearn: 1.0000000\ttotal: 10.1s\tremaining: 2.47s\n",
      "1206:\tlearn: 1.0000000\ttotal: 10.1s\tremaining: 2.46s\n",
      "1207:\tlearn: 1.0000000\ttotal: 10.1s\tremaining: 2.45s\n",
      "1208:\tlearn: 1.0000000\ttotal: 10.1s\tremaining: 2.44s\n",
      "1209:\tlearn: 1.0000000\ttotal: 10.2s\tremaining: 2.43s\n",
      "1210:\tlearn: 1.0000000\ttotal: 10.2s\tremaining: 2.42s\n",
      "1211:\tlearn: 1.0000000\ttotal: 10.2s\tremaining: 2.42s\n",
      "1212:\tlearn: 1.0000000\ttotal: 10.2s\tremaining: 2.41s\n",
      "1213:\tlearn: 1.0000000\ttotal: 10.2s\tremaining: 2.4s\n",
      "1214:\tlearn: 1.0000000\ttotal: 10.2s\tremaining: 2.39s\n",
      "1215:\tlearn: 1.0000000\ttotal: 10.2s\tremaining: 2.38s\n",
      "1216:\tlearn: 1.0000000\ttotal: 10.2s\tremaining: 2.37s\n",
      "1217:\tlearn: 1.0000000\ttotal: 10.2s\tremaining: 2.37s\n",
      "1218:\tlearn: 1.0000000\ttotal: 10.2s\tremaining: 2.36s\n",
      "1219:\tlearn: 1.0000000\ttotal: 10.2s\tremaining: 2.35s\n",
      "1220:\tlearn: 1.0000000\ttotal: 10.2s\tremaining: 2.34s\n",
      "1221:\tlearn: 1.0000000\ttotal: 10.3s\tremaining: 2.33s\n",
      "1222:\tlearn: 1.0000000\ttotal: 10.3s\tremaining: 2.32s\n",
      "1223:\tlearn: 1.0000000\ttotal: 10.3s\tremaining: 2.31s\n",
      "1224:\tlearn: 1.0000000\ttotal: 10.3s\tremaining: 2.31s\n",
      "1225:\tlearn: 1.0000000\ttotal: 10.3s\tremaining: 2.3s\n",
      "1226:\tlearn: 1.0000000\ttotal: 10.3s\tremaining: 2.29s\n",
      "1227:\tlearn: 1.0000000\ttotal: 10.3s\tremaining: 2.28s\n",
      "1228:\tlearn: 1.0000000\ttotal: 10.3s\tremaining: 2.27s\n",
      "1229:\tlearn: 1.0000000\ttotal: 10.3s\tremaining: 2.27s\n",
      "1230:\tlearn: 1.0000000\ttotal: 10.3s\tremaining: 2.26s\n",
      "1231:\tlearn: 1.0000000\ttotal: 10.3s\tremaining: 2.25s\n",
      "1232:\tlearn: 1.0000000\ttotal: 10.3s\tremaining: 2.24s\n",
      "1233:\tlearn: 1.0000000\ttotal: 10.3s\tremaining: 2.23s\n",
      "1234:\tlearn: 1.0000000\ttotal: 10.4s\tremaining: 2.22s\n",
      "1235:\tlearn: 1.0000000\ttotal: 10.4s\tremaining: 2.21s\n",
      "1236:\tlearn: 1.0000000\ttotal: 10.4s\tremaining: 2.2s\n",
      "1237:\tlearn: 1.0000000\ttotal: 10.4s\tremaining: 2.2s\n",
      "1238:\tlearn: 1.0000000\ttotal: 10.4s\tremaining: 2.19s\n",
      "1239:\tlearn: 1.0000000\ttotal: 10.4s\tremaining: 2.18s\n",
      "1240:\tlearn: 1.0000000\ttotal: 10.4s\tremaining: 2.17s\n",
      "1241:\tlearn: 1.0000000\ttotal: 10.4s\tremaining: 2.16s\n",
      "1242:\tlearn: 1.0000000\ttotal: 10.4s\tremaining: 2.15s\n",
      "1243:\tlearn: 1.0000000\ttotal: 10.4s\tremaining: 2.14s\n",
      "1244:\tlearn: 1.0000000\ttotal: 10.4s\tremaining: 2.14s\n",
      "1245:\tlearn: 1.0000000\ttotal: 10.4s\tremaining: 2.13s\n",
      "1246:\tlearn: 1.0000000\ttotal: 10.4s\tremaining: 2.12s\n",
      "1247:\tlearn: 1.0000000\ttotal: 10.5s\tremaining: 2.11s\n",
      "1248:\tlearn: 1.0000000\ttotal: 10.5s\tremaining: 2.1s\n",
      "1249:\tlearn: 1.0000000\ttotal: 10.5s\tremaining: 2.09s\n",
      "1250:\tlearn: 1.0000000\ttotal: 10.5s\tremaining: 2.08s\n",
      "1251:\tlearn: 1.0000000\ttotal: 10.5s\tremaining: 2.08s\n",
      "1252:\tlearn: 1.0000000\ttotal: 10.5s\tremaining: 2.07s\n",
      "1253:\tlearn: 1.0000000\ttotal: 10.5s\tremaining: 2.06s\n",
      "1254:\tlearn: 1.0000000\ttotal: 10.5s\tremaining: 2.05s\n",
      "1255:\tlearn: 1.0000000\ttotal: 10.5s\tremaining: 2.04s\n",
      "1256:\tlearn: 1.0000000\ttotal: 10.5s\tremaining: 2.04s\n",
      "1257:\tlearn: 1.0000000\ttotal: 10.5s\tremaining: 2.03s\n",
      "1258:\tlearn: 1.0000000\ttotal: 10.5s\tremaining: 2.02s\n",
      "1259:\tlearn: 1.0000000\ttotal: 10.6s\tremaining: 2.01s\n",
      "1260:\tlearn: 1.0000000\ttotal: 10.6s\tremaining: 2s\n",
      "1261:\tlearn: 1.0000000\ttotal: 10.6s\tremaining: 1.99s\n",
      "1262:\tlearn: 1.0000000\ttotal: 10.6s\tremaining: 1.98s\n",
      "1263:\tlearn: 1.0000000\ttotal: 10.6s\tremaining: 1.98s\n",
      "1264:\tlearn: 1.0000000\ttotal: 10.6s\tremaining: 1.97s\n",
      "1265:\tlearn: 1.0000000\ttotal: 10.6s\tremaining: 1.96s\n",
      "1266:\tlearn: 1.0000000\ttotal: 10.6s\tremaining: 1.95s\n",
      "1267:\tlearn: 1.0000000\ttotal: 10.6s\tremaining: 1.94s\n",
      "1268:\tlearn: 1.0000000\ttotal: 10.6s\tremaining: 1.94s\n",
      "1269:\tlearn: 1.0000000\ttotal: 10.6s\tremaining: 1.93s\n",
      "1270:\tlearn: 1.0000000\ttotal: 10.7s\tremaining: 1.92s\n",
      "1271:\tlearn: 1.0000000\ttotal: 10.7s\tremaining: 1.91s\n",
      "1272:\tlearn: 1.0000000\ttotal: 10.7s\tremaining: 1.9s\n",
      "1273:\tlearn: 1.0000000\ttotal: 10.7s\tremaining: 1.89s\n",
      "1274:\tlearn: 1.0000000\ttotal: 10.7s\tremaining: 1.89s\n",
      "1275:\tlearn: 1.0000000\ttotal: 10.7s\tremaining: 1.88s\n",
      "1276:\tlearn: 1.0000000\ttotal: 10.7s\tremaining: 1.87s\n",
      "1277:\tlearn: 1.0000000\ttotal: 10.7s\tremaining: 1.86s\n",
      "1278:\tlearn: 1.0000000\ttotal: 10.7s\tremaining: 1.85s\n",
      "1279:\tlearn: 1.0000000\ttotal: 10.7s\tremaining: 1.84s\n",
      "1280:\tlearn: 1.0000000\ttotal: 10.7s\tremaining: 1.83s\n",
      "1281:\tlearn: 1.0000000\ttotal: 10.7s\tremaining: 1.83s\n",
      "1282:\tlearn: 1.0000000\ttotal: 10.7s\tremaining: 1.82s\n",
      "1283:\tlearn: 1.0000000\ttotal: 10.8s\tremaining: 1.81s\n",
      "1284:\tlearn: 1.0000000\ttotal: 10.8s\tremaining: 1.8s\n",
      "1285:\tlearn: 1.0000000\ttotal: 10.8s\tremaining: 1.79s\n",
      "1286:\tlearn: 1.0000000\ttotal: 10.8s\tremaining: 1.78s\n",
      "1287:\tlearn: 1.0000000\ttotal: 10.8s\tremaining: 1.77s\n",
      "1288:\tlearn: 1.0000000\ttotal: 10.8s\tremaining: 1.77s\n",
      "1289:\tlearn: 1.0000000\ttotal: 10.8s\tremaining: 1.76s\n",
      "1290:\tlearn: 1.0000000\ttotal: 10.8s\tremaining: 1.75s\n",
      "1291:\tlearn: 1.0000000\ttotal: 10.8s\tremaining: 1.74s\n",
      "1292:\tlearn: 1.0000000\ttotal: 10.8s\tremaining: 1.73s\n",
      "1293:\tlearn: 1.0000000\ttotal: 10.8s\tremaining: 1.72s\n",
      "1294:\tlearn: 1.0000000\ttotal: 10.8s\tremaining: 1.72s\n",
      "1295:\tlearn: 1.0000000\ttotal: 10.8s\tremaining: 1.71s\n",
      "1296:\tlearn: 1.0000000\ttotal: 10.9s\tremaining: 1.7s\n",
      "1297:\tlearn: 1.0000000\ttotal: 10.9s\tremaining: 1.69s\n",
      "1298:\tlearn: 1.0000000\ttotal: 10.9s\tremaining: 1.68s\n",
      "1299:\tlearn: 1.0000000\ttotal: 10.9s\tremaining: 1.67s\n",
      "1300:\tlearn: 1.0000000\ttotal: 10.9s\tremaining: 1.67s\n",
      "1301:\tlearn: 1.0000000\ttotal: 10.9s\tremaining: 1.66s\n",
      "1302:\tlearn: 1.0000000\ttotal: 10.9s\tremaining: 1.65s\n",
      "1303:\tlearn: 1.0000000\ttotal: 10.9s\tremaining: 1.64s\n",
      "1304:\tlearn: 1.0000000\ttotal: 10.9s\tremaining: 1.63s\n",
      "1305:\tlearn: 1.0000000\ttotal: 10.9s\tremaining: 1.62s\n",
      "1306:\tlearn: 1.0000000\ttotal: 10.9s\tremaining: 1.61s\n",
      "1307:\tlearn: 1.0000000\ttotal: 10.9s\tremaining: 1.6s\n",
      "1308:\tlearn: 1.0000000\ttotal: 10.9s\tremaining: 1.6s\n",
      "1309:\tlearn: 1.0000000\ttotal: 11s\tremaining: 1.59s\n",
      "1310:\tlearn: 1.0000000\ttotal: 11s\tremaining: 1.58s\n",
      "1311:\tlearn: 1.0000000\ttotal: 11s\tremaining: 1.57s\n",
      "1312:\tlearn: 1.0000000\ttotal: 11s\tremaining: 1.56s\n",
      "1313:\tlearn: 1.0000000\ttotal: 11s\tremaining: 1.55s\n",
      "1314:\tlearn: 1.0000000\ttotal: 11s\tremaining: 1.55s\n",
      "1315:\tlearn: 1.0000000\ttotal: 11s\tremaining: 1.54s\n",
      "1316:\tlearn: 1.0000000\ttotal: 11s\tremaining: 1.53s\n",
      "1317:\tlearn: 1.0000000\ttotal: 11s\tremaining: 1.52s\n",
      "1318:\tlearn: 1.0000000\ttotal: 11s\tremaining: 1.51s\n",
      "1319:\tlearn: 1.0000000\ttotal: 11s\tremaining: 1.5s\n",
      "1320:\tlearn: 1.0000000\ttotal: 11s\tremaining: 1.5s\n",
      "1321:\tlearn: 1.0000000\ttotal: 11.1s\tremaining: 1.49s\n",
      "1322:\tlearn: 1.0000000\ttotal: 11.1s\tremaining: 1.48s\n",
      "1323:\tlearn: 1.0000000\ttotal: 11.1s\tremaining: 1.47s\n",
      "1324:\tlearn: 1.0000000\ttotal: 11.1s\tremaining: 1.46s\n",
      "1325:\tlearn: 1.0000000\ttotal: 11.1s\tremaining: 1.45s\n",
      "1326:\tlearn: 1.0000000\ttotal: 11.1s\tremaining: 1.45s\n",
      "1327:\tlearn: 1.0000000\ttotal: 11.1s\tremaining: 1.44s\n",
      "1328:\tlearn: 1.0000000\ttotal: 11.1s\tremaining: 1.43s\n",
      "1329:\tlearn: 1.0000000\ttotal: 11.1s\tremaining: 1.42s\n",
      "1330:\tlearn: 1.0000000\ttotal: 11.1s\tremaining: 1.41s\n",
      "1331:\tlearn: 1.0000000\ttotal: 11.1s\tremaining: 1.4s\n",
      "1332:\tlearn: 1.0000000\ttotal: 11.1s\tremaining: 1.4s\n",
      "1333:\tlearn: 1.0000000\ttotal: 11.1s\tremaining: 1.39s\n",
      "1334:\tlearn: 1.0000000\ttotal: 11.2s\tremaining: 1.38s\n",
      "1335:\tlearn: 1.0000000\ttotal: 11.2s\tremaining: 1.37s\n",
      "1336:\tlearn: 1.0000000\ttotal: 11.2s\tremaining: 1.36s\n",
      "1337:\tlearn: 1.0000000\ttotal: 11.2s\tremaining: 1.35s\n",
      "1338:\tlearn: 1.0000000\ttotal: 11.2s\tremaining: 1.34s\n",
      "1339:\tlearn: 1.0000000\ttotal: 11.2s\tremaining: 1.34s\n",
      "1340:\tlearn: 1.0000000\ttotal: 11.2s\tremaining: 1.33s\n",
      "1341:\tlearn: 1.0000000\ttotal: 11.2s\tremaining: 1.32s\n",
      "1342:\tlearn: 1.0000000\ttotal: 11.2s\tremaining: 1.31s\n",
      "1343:\tlearn: 1.0000000\ttotal: 11.2s\tremaining: 1.3s\n",
      "1344:\tlearn: 1.0000000\ttotal: 11.2s\tremaining: 1.29s\n",
      "1345:\tlearn: 1.0000000\ttotal: 11.2s\tremaining: 1.28s\n",
      "1346:\tlearn: 1.0000000\ttotal: 11.2s\tremaining: 1.28s\n",
      "1347:\tlearn: 1.0000000\ttotal: 11.3s\tremaining: 1.27s\n",
      "1348:\tlearn: 1.0000000\ttotal: 11.3s\tremaining: 1.26s\n",
      "1349:\tlearn: 1.0000000\ttotal: 11.3s\tremaining: 1.25s\n",
      "1350:\tlearn: 1.0000000\ttotal: 11.3s\tremaining: 1.24s\n",
      "1351:\tlearn: 1.0000000\ttotal: 11.3s\tremaining: 1.24s\n",
      "1352:\tlearn: 1.0000000\ttotal: 11.3s\tremaining: 1.23s\n",
      "1353:\tlearn: 1.0000000\ttotal: 11.3s\tremaining: 1.22s\n",
      "1354:\tlearn: 1.0000000\ttotal: 11.3s\tremaining: 1.21s\n",
      "1355:\tlearn: 1.0000000\ttotal: 11.3s\tremaining: 1.2s\n",
      "1356:\tlearn: 1.0000000\ttotal: 11.3s\tremaining: 1.19s\n",
      "1357:\tlearn: 1.0000000\ttotal: 11.3s\tremaining: 1.19s\n",
      "1358:\tlearn: 1.0000000\ttotal: 11.3s\tremaining: 1.18s\n",
      "1359:\tlearn: 1.0000000\ttotal: 11.3s\tremaining: 1.17s\n",
      "1360:\tlearn: 1.0000000\ttotal: 11.4s\tremaining: 1.16s\n",
      "1361:\tlearn: 1.0000000\ttotal: 11.4s\tremaining: 1.15s\n",
      "1362:\tlearn: 1.0000000\ttotal: 11.4s\tremaining: 1.14s\n",
      "1363:\tlearn: 1.0000000\ttotal: 11.4s\tremaining: 1.13s\n",
      "1364:\tlearn: 1.0000000\ttotal: 11.4s\tremaining: 1.13s\n",
      "1365:\tlearn: 1.0000000\ttotal: 11.4s\tremaining: 1.12s\n",
      "1366:\tlearn: 1.0000000\ttotal: 11.4s\tremaining: 1.11s\n",
      "1367:\tlearn: 1.0000000\ttotal: 11.4s\tremaining: 1.1s\n",
      "1368:\tlearn: 1.0000000\ttotal: 11.4s\tremaining: 1.09s\n",
      "1369:\tlearn: 1.0000000\ttotal: 11.4s\tremaining: 1.08s\n",
      "1370:\tlearn: 1.0000000\ttotal: 11.4s\tremaining: 1.08s\n",
      "1371:\tlearn: 1.0000000\ttotal: 11.4s\tremaining: 1.07s\n",
      "1372:\tlearn: 1.0000000\ttotal: 11.5s\tremaining: 1.06s\n",
      "1373:\tlearn: 1.0000000\ttotal: 11.5s\tremaining: 1.05s\n",
      "1374:\tlearn: 1.0000000\ttotal: 11.5s\tremaining: 1.04s\n",
      "1375:\tlearn: 1.0000000\ttotal: 11.5s\tremaining: 1.03s\n",
      "1376:\tlearn: 1.0000000\ttotal: 11.5s\tremaining: 1.03s\n",
      "1377:\tlearn: 1.0000000\ttotal: 11.5s\tremaining: 1.02s\n",
      "1378:\tlearn: 1.0000000\ttotal: 11.5s\tremaining: 1.01s\n",
      "1379:\tlearn: 1.0000000\ttotal: 11.5s\tremaining: 1s\n",
      "1380:\tlearn: 1.0000000\ttotal: 11.5s\tremaining: 993ms\n",
      "1381:\tlearn: 1.0000000\ttotal: 11.5s\tremaining: 985ms\n",
      "1382:\tlearn: 1.0000000\ttotal: 11.5s\tremaining: 976ms\n",
      "1383:\tlearn: 1.0000000\ttotal: 11.5s\tremaining: 968ms\n",
      "1384:\tlearn: 1.0000000\ttotal: 11.6s\tremaining: 959ms\n",
      "1385:\tlearn: 1.0000000\ttotal: 11.6s\tremaining: 951ms\n",
      "1386:\tlearn: 1.0000000\ttotal: 11.6s\tremaining: 943ms\n",
      "1387:\tlearn: 1.0000000\ttotal: 11.6s\tremaining: 934ms\n",
      "1388:\tlearn: 1.0000000\ttotal: 11.6s\tremaining: 926ms\n",
      "1389:\tlearn: 1.0000000\ttotal: 11.6s\tremaining: 918ms\n",
      "1390:\tlearn: 1.0000000\ttotal: 11.6s\tremaining: 909ms\n",
      "1391:\tlearn: 1.0000000\ttotal: 11.6s\tremaining: 901ms\n",
      "1392:\tlearn: 1.0000000\ttotal: 11.6s\tremaining: 893ms\n",
      "1393:\tlearn: 1.0000000\ttotal: 11.6s\tremaining: 884ms\n",
      "1394:\tlearn: 1.0000000\ttotal: 11.6s\tremaining: 876ms\n",
      "1395:\tlearn: 1.0000000\ttotal: 11.6s\tremaining: 868ms\n",
      "1396:\tlearn: 1.0000000\ttotal: 11.7s\tremaining: 859ms\n",
      "1397:\tlearn: 1.0000000\ttotal: 11.7s\tremaining: 851ms\n",
      "1398:\tlearn: 1.0000000\ttotal: 11.7s\tremaining: 843ms\n",
      "1399:\tlearn: 1.0000000\ttotal: 11.7s\tremaining: 834ms\n",
      "1400:\tlearn: 1.0000000\ttotal: 11.7s\tremaining: 826ms\n",
      "1401:\tlearn: 1.0000000\ttotal: 11.7s\tremaining: 818ms\n",
      "1402:\tlearn: 1.0000000\ttotal: 11.7s\tremaining: 809ms\n",
      "1403:\tlearn: 1.0000000\ttotal: 11.7s\tremaining: 801ms\n",
      "1404:\tlearn: 1.0000000\ttotal: 11.7s\tremaining: 793ms\n",
      "1405:\tlearn: 1.0000000\ttotal: 11.7s\tremaining: 784ms\n",
      "1406:\tlearn: 1.0000000\ttotal: 11.7s\tremaining: 776ms\n",
      "1407:\tlearn: 1.0000000\ttotal: 11.7s\tremaining: 768ms\n",
      "1408:\tlearn: 1.0000000\ttotal: 11.8s\tremaining: 759ms\n",
      "1409:\tlearn: 1.0000000\ttotal: 11.8s\tremaining: 751ms\n",
      "1410:\tlearn: 1.0000000\ttotal: 11.8s\tremaining: 743ms\n",
      "1411:\tlearn: 1.0000000\ttotal: 11.8s\tremaining: 734ms\n",
      "1412:\tlearn: 1.0000000\ttotal: 11.8s\tremaining: 726ms\n",
      "1413:\tlearn: 1.0000000\ttotal: 11.8s\tremaining: 717ms\n",
      "1414:\tlearn: 1.0000000\ttotal: 11.8s\tremaining: 709ms\n",
      "1415:\tlearn: 1.0000000\ttotal: 11.8s\tremaining: 701ms\n",
      "1416:\tlearn: 1.0000000\ttotal: 11.8s\tremaining: 692ms\n",
      "1417:\tlearn: 1.0000000\ttotal: 11.8s\tremaining: 684ms\n",
      "1418:\tlearn: 1.0000000\ttotal: 11.8s\tremaining: 676ms\n",
      "1419:\tlearn: 1.0000000\ttotal: 11.8s\tremaining: 667ms\n",
      "1420:\tlearn: 1.0000000\ttotal: 11.9s\tremaining: 659ms\n",
      "1421:\tlearn: 1.0000000\ttotal: 11.9s\tremaining: 651ms\n",
      "1422:\tlearn: 1.0000000\ttotal: 11.9s\tremaining: 642ms\n",
      "1423:\tlearn: 1.0000000\ttotal: 11.9s\tremaining: 634ms\n",
      "1424:\tlearn: 1.0000000\ttotal: 11.9s\tremaining: 626ms\n",
      "1425:\tlearn: 1.0000000\ttotal: 11.9s\tremaining: 617ms\n",
      "1426:\tlearn: 1.0000000\ttotal: 11.9s\tremaining: 609ms\n",
      "1427:\tlearn: 1.0000000\ttotal: 11.9s\tremaining: 600ms\n",
      "1428:\tlearn: 1.0000000\ttotal: 11.9s\tremaining: 592ms\n",
      "1429:\tlearn: 1.0000000\ttotal: 11.9s\tremaining: 584ms\n",
      "1430:\tlearn: 1.0000000\ttotal: 11.9s\tremaining: 575ms\n",
      "1431:\tlearn: 1.0000000\ttotal: 11.9s\tremaining: 567ms\n",
      "1432:\tlearn: 1.0000000\ttotal: 11.9s\tremaining: 559ms\n",
      "1433:\tlearn: 1.0000000\ttotal: 12s\tremaining: 550ms\n",
      "1434:\tlearn: 1.0000000\ttotal: 12s\tremaining: 542ms\n",
      "1435:\tlearn: 1.0000000\ttotal: 12s\tremaining: 534ms\n",
      "1436:\tlearn: 1.0000000\ttotal: 12s\tremaining: 525ms\n",
      "1437:\tlearn: 1.0000000\ttotal: 12s\tremaining: 517ms\n",
      "1438:\tlearn: 1.0000000\ttotal: 12s\tremaining: 509ms\n",
      "1439:\tlearn: 1.0000000\ttotal: 12s\tremaining: 500ms\n",
      "1440:\tlearn: 1.0000000\ttotal: 12s\tremaining: 492ms\n",
      "1441:\tlearn: 1.0000000\ttotal: 12s\tremaining: 483ms\n",
      "1442:\tlearn: 1.0000000\ttotal: 12s\tremaining: 475ms\n",
      "1443:\tlearn: 1.0000000\ttotal: 12s\tremaining: 467ms\n",
      "1444:\tlearn: 1.0000000\ttotal: 12s\tremaining: 458ms\n",
      "1445:\tlearn: 1.0000000\ttotal: 12.1s\tremaining: 450ms\n",
      "1446:\tlearn: 1.0000000\ttotal: 12.1s\tremaining: 442ms\n",
      "1447:\tlearn: 1.0000000\ttotal: 12.1s\tremaining: 433ms\n",
      "1448:\tlearn: 1.0000000\ttotal: 12.1s\tremaining: 425ms\n",
      "1449:\tlearn: 1.0000000\ttotal: 12.1s\tremaining: 417ms\n",
      "1450:\tlearn: 1.0000000\ttotal: 12.1s\tremaining: 408ms\n",
      "1451:\tlearn: 1.0000000\ttotal: 12.1s\tremaining: 400ms\n",
      "1452:\tlearn: 1.0000000\ttotal: 12.1s\tremaining: 392ms\n",
      "1453:\tlearn: 1.0000000\ttotal: 12.1s\tremaining: 383ms\n",
      "1454:\tlearn: 1.0000000\ttotal: 12.1s\tremaining: 375ms\n",
      "1455:\tlearn: 1.0000000\ttotal: 12.1s\tremaining: 367ms\n",
      "1456:\tlearn: 1.0000000\ttotal: 12.1s\tremaining: 358ms\n",
      "1457:\tlearn: 1.0000000\ttotal: 12.2s\tremaining: 350ms\n",
      "1458:\tlearn: 1.0000000\ttotal: 12.2s\tremaining: 342ms\n",
      "1459:\tlearn: 1.0000000\ttotal: 12.2s\tremaining: 333ms\n",
      "1460:\tlearn: 1.0000000\ttotal: 12.2s\tremaining: 325ms\n",
      "1461:\tlearn: 1.0000000\ttotal: 12.2s\tremaining: 317ms\n",
      "1462:\tlearn: 1.0000000\ttotal: 12.2s\tremaining: 308ms\n",
      "1463:\tlearn: 1.0000000\ttotal: 12.2s\tremaining: 300ms\n",
      "1464:\tlearn: 1.0000000\ttotal: 12.2s\tremaining: 292ms\n",
      "1465:\tlearn: 1.0000000\ttotal: 12.2s\tremaining: 283ms\n",
      "1466:\tlearn: 1.0000000\ttotal: 12.2s\tremaining: 275ms\n",
      "1467:\tlearn: 1.0000000\ttotal: 12.2s\tremaining: 267ms\n",
      "1468:\tlearn: 1.0000000\ttotal: 12.2s\tremaining: 258ms\n",
      "1469:\tlearn: 1.0000000\ttotal: 12.3s\tremaining: 250ms\n",
      "1470:\tlearn: 1.0000000\ttotal: 12.3s\tremaining: 242ms\n",
      "1471:\tlearn: 1.0000000\ttotal: 12.3s\tremaining: 233ms\n",
      "1472:\tlearn: 1.0000000\ttotal: 12.3s\tremaining: 225ms\n",
      "1473:\tlearn: 1.0000000\ttotal: 12.3s\tremaining: 217ms\n",
      "1474:\tlearn: 1.0000000\ttotal: 12.3s\tremaining: 208ms\n",
      "1475:\tlearn: 1.0000000\ttotal: 12.3s\tremaining: 200ms\n",
      "1476:\tlearn: 1.0000000\ttotal: 12.3s\tremaining: 192ms\n",
      "1477:\tlearn: 1.0000000\ttotal: 12.3s\tremaining: 183ms\n",
      "1478:\tlearn: 1.0000000\ttotal: 12.3s\tremaining: 175ms\n",
      "1479:\tlearn: 1.0000000\ttotal: 12.3s\tremaining: 167ms\n",
      "1480:\tlearn: 1.0000000\ttotal: 12.3s\tremaining: 158ms\n",
      "1481:\tlearn: 1.0000000\ttotal: 12.4s\tremaining: 150ms\n",
      "1482:\tlearn: 1.0000000\ttotal: 12.4s\tremaining: 142ms\n",
      "1483:\tlearn: 1.0000000\ttotal: 12.4s\tremaining: 133ms\n",
      "1484:\tlearn: 1.0000000\ttotal: 12.4s\tremaining: 125ms\n",
      "1485:\tlearn: 1.0000000\ttotal: 12.4s\tremaining: 117ms\n",
      "1486:\tlearn: 1.0000000\ttotal: 12.4s\tremaining: 108ms\n",
      "1487:\tlearn: 1.0000000\ttotal: 12.4s\tremaining: 100ms\n",
      "1488:\tlearn: 1.0000000\ttotal: 12.4s\tremaining: 91.7ms\n",
      "1489:\tlearn: 1.0000000\ttotal: 12.4s\tremaining: 83.3ms\n",
      "1490:\tlearn: 1.0000000\ttotal: 12.4s\tremaining: 75ms\n",
      "1491:\tlearn: 1.0000000\ttotal: 12.4s\tremaining: 66.7ms\n",
      "1492:\tlearn: 1.0000000\ttotal: 12.4s\tremaining: 58.3ms\n",
      "1493:\tlearn: 1.0000000\ttotal: 12.4s\tremaining: 50ms\n",
      "1494:\tlearn: 1.0000000\ttotal: 12.5s\tremaining: 41.7ms\n",
      "1495:\tlearn: 1.0000000\ttotal: 12.5s\tremaining: 33.3ms\n",
      "1496:\tlearn: 1.0000000\ttotal: 12.5s\tremaining: 25ms\n",
      "1497:\tlearn: 1.0000000\ttotal: 12.5s\tremaining: 16.7ms\n",
      "1498:\tlearn: 1.0000000\ttotal: 12.5s\tremaining: 8.33ms\n",
      "1499:\tlearn: 1.0000000\ttotal: 12.5s\tremaining: 0us\n"
     ]
    },
    {
     "data": {
      "text/plain": [
       "<catboost.core.CatBoostClassifier at 0x75ee47490980>"
      ]
     },
     "execution_count": 14,
     "metadata": {},
     "output_type": "execute_result"
    }
   ],
   "source": [
    "from catboost import CatBoostClassifier\n",
    "\n",
    "model_for_features = CatBoostClassifier(\n",
    "    iterations=1500, learning_rate=0.2, depth=6, eval_metric=\"Precision\", random_seed=42\n",
    ")\n",
    "\n",
    "model_for_features.fit(\n",
    "    train.drop(columns=excluded_features),\n",
    "    train[\"def_45\"],\n",
    "    cat_features=columns_types.get(\"categorical\"),\n",
    ")"
   ]
  },
  {
   "cell_type": "code",
   "execution_count": 15,
   "id": "b756b51a",
   "metadata": {},
   "outputs": [],
   "source": [
    "features_importance_df = pd.DataFrame(\n",
    "    model_for_features.feature_importances_.flatten(),\n",
    "    columns=[\"features\"],\n",
    "    index=model_for_features.feature_names_,\n",
    ")"
   ]
  },
  {
   "cell_type": "code",
   "execution_count": 16,
   "id": "8b03427b",
   "metadata": {},
   "outputs": [
    {
     "data": {
      "text/html": [
       "<div>\n",
       "<style scoped>\n",
       "    .dataframe tbody tr th:only-of-type {\n",
       "        vertical-align: middle;\n",
       "    }\n",
       "\n",
       "    .dataframe tbody tr th {\n",
       "        vertical-align: top;\n",
       "    }\n",
       "\n",
       "    .dataframe thead th {\n",
       "        text-align: right;\n",
       "    }\n",
       "</style>\n",
       "<table border=\"1\" class=\"dataframe\">\n",
       "  <thead>\n",
       "    <tr style=\"text-align: right;\">\n",
       "      <th></th>\n",
       "      <th>features</th>\n",
       "    </tr>\n",
       "  </thead>\n",
       "  <tbody>\n",
       "    <tr>\n",
       "      <th>count</th>\n",
       "      <td>369.000000</td>\n",
       "    </tr>\n",
       "    <tr>\n",
       "      <th>mean</th>\n",
       "      <td>0.271003</td>\n",
       "    </tr>\n",
       "    <tr>\n",
       "      <th>std</th>\n",
       "      <td>2.136362</td>\n",
       "    </tr>\n",
       "    <tr>\n",
       "      <th>min</th>\n",
       "      <td>0.000000</td>\n",
       "    </tr>\n",
       "    <tr>\n",
       "      <th>25%</th>\n",
       "      <td>0.004944</td>\n",
       "    </tr>\n",
       "    <tr>\n",
       "      <th>50%</th>\n",
       "      <td>0.024111</td>\n",
       "    </tr>\n",
       "    <tr>\n",
       "      <th>75%</th>\n",
       "      <td>0.071713</td>\n",
       "    </tr>\n",
       "    <tr>\n",
       "      <th>max</th>\n",
       "      <td>29.516336</td>\n",
       "    </tr>\n",
       "  </tbody>\n",
       "</table>\n",
       "</div>"
      ],
      "text/plain": [
       "         features\n",
       "count  369.000000\n",
       "mean     0.271003\n",
       "std      2.136362\n",
       "min      0.000000\n",
       "25%      0.004944\n",
       "50%      0.024111\n",
       "75%      0.071713\n",
       "max     29.516336"
      ]
     },
     "execution_count": 16,
     "metadata": {},
     "output_type": "execute_result"
    }
   ],
   "source": [
    "features_importance_df.describe()"
   ]
  },
  {
   "cell_type": "code",
   "execution_count": 17,
   "id": "b3ac7ec3",
   "metadata": {},
   "outputs": [],
   "source": [
    "cutoff_features_importance = features_importance_df.describe().loc[\"75%\"].values[0]"
   ]
  },
  {
   "cell_type": "code",
   "execution_count": 18,
   "id": "5c8bd27f",
   "metadata": {},
   "outputs": [
    {
     "data": {
      "text/plain": [
       "276"
      ]
     },
     "execution_count": 18,
     "metadata": {},
     "output_type": "execute_result"
    }
   ],
   "source": [
    "drop_features = features_importance_df.loc[\n",
    "    features_importance_df[\"features\"] < cutoff_features_importance\n",
    "].index\n",
    "\n",
    "len(drop_features)"
   ]
  },
  {
   "cell_type": "code",
   "execution_count": 19,
   "id": "1bb427ad",
   "metadata": {},
   "outputs": [],
   "source": [
    "train.drop(columns=drop_features, inplace=True)\n",
    "test.drop(columns=drop_features, inplace=True)"
   ]
  },
  {
   "cell_type": "markdown",
   "id": "316f30f0",
   "metadata": {},
   "source": [
    "АГА, чтобы добраться до корелляции необходимо предобработать признаки "
   ]
  },
  {
   "cell_type": "code",
   "execution_count": 20,
   "id": "961c6bc1",
   "metadata": {},
   "outputs": [],
   "source": [
    "# corr_matrix = train.drop(columns=drop_columns).corr().abs()"
   ]
  },
  {
   "cell_type": "code",
   "execution_count": 21,
   "id": "8798c5c9",
   "metadata": {},
   "outputs": [],
   "source": [
    "def remove_duplicates(data: pd.DataFrame) -> pd.DataFrame:\n",
    "    dat = data.copy()\n",
    "    return dat.drop_duplicates().reset_index(drop=True)\n",
    "\n",
    "\n",
    "def fill_missing_values(\n",
    "    data: pd.DataFrame, num_cols: pd.Series | list[str], cat_cols: pd.Series | list[str]\n",
    ") -> pd.DataFrame:\n",
    "    data = data.copy()\n",
    "\n",
    "    for col in num_cols:\n",
    "        if data[col].isna().any():\n",
    "            data[col].fillna(data[col].mean(), inplace=True)\n",
    "\n",
    "    for col in cat_cols:\n",
    "        if data[col].isna().any():\n",
    "            mode_value = data[col].mode()\n",
    "            if not mode_value.empty:\n",
    "                data[col].fillna(mode_value.iloc[0], inplace=True)\n",
    "\n",
    "    return data\n",
    "\n",
    "\n",
    "def clean_and_prepare_data(\n",
    "    data: pd.DataFrame,\n",
    "    exclude_cols: list = [],\n",
    "    categorized_columns: dict[str : list[str]] = {},\n",
    ") -> pd.DataFrame:\n",
    "    num_cols = categorized_columns.get(\"numeric\")\n",
    "    cat_cols = categorized_columns.get(\"categorical\")\n",
    "    step_1 = remove_duplicates(data)\n",
    "    step_2 = fill_missing_values(step_1.drop(columns=exclude_cols), num_cols, cat_cols)\n",
    "    for col in exclude_cols:\n",
    "        step_2[col] = data[col]\n",
    "\n",
    "    return step_2"
   ]
  },
  {
   "cell_type": "code",
   "execution_count": 22,
   "id": "c8468531",
   "metadata": {},
   "outputs": [
    {
     "name": "stderr",
     "output_type": "stream",
     "text": [
      "/tmp/ipykernel_99692/1260584370.py:13: FutureWarning: A value is trying to be set on a copy of a DataFrame or Series through chained assignment using an inplace method.\n",
      "The behavior will change in pandas 3.0. This inplace method will never work because the intermediate object on which we are setting values always behaves as a copy.\n",
      "\n",
      "For example, when doing 'df[col].method(value, inplace=True)', try using 'df.method({col: value}, inplace=True)' or df[col] = df[col].method(value) instead, to perform the operation inplace on the original object.\n",
      "\n",
      "\n",
      "  data[col].fillna(data[col].mean(), inplace=True)\n"
     ]
    }
   ],
   "source": [
    "categorized_columns = categorize_columns(train.drop(columns=excluded_features))\n",
    "\n",
    "train = clean_and_prepare_data(train, excluded_features, categorized_columns)"
   ]
  },
  {
   "cell_type": "code",
   "execution_count": 23,
   "id": "182131e7",
   "metadata": {},
   "outputs": [],
   "source": [
    "from sklearn.compose import ColumnTransformer\n",
    "from sklearn.preprocessing import OrdinalEncoder, StandardScaler\n",
    "\n",
    "\n",
    "transformer_params = {\n",
    "    \"transformers\": [\n",
    "        (\"cats\", OrdinalEncoder(), categorized_columns.get(\"categorical\")),\n",
    "        (\"numscaler\", StandardScaler(), categorized_columns.get(\"numeric\")),\n",
    "    ],\n",
    "    \"remainder\": \"passthrough\",\n",
    "    \"verbose\": True,\n",
    "}"
   ]
  },
  {
   "cell_type": "code",
   "execution_count": 24,
   "id": "67b9c899",
   "metadata": {},
   "outputs": [],
   "source": [
    "train_transformer = ColumnTransformer(**transformer_params)"
   ]
  },
  {
   "cell_type": "code",
   "execution_count": 25,
   "id": "ab99ecba",
   "metadata": {},
   "outputs": [
    {
     "name": "stdout",
     "output_type": "stream",
     "text": [
      "[ColumnTransformer] ..... (1 of 2) Processing numscaler, total=   0.0s\n",
      "[ColumnTransformer] ..... (2 of 2) Processing remainder, total=   0.0s\n"
     ]
    }
   ],
   "source": [
    "train_transformer.fit(train)\n",
    "\n",
    "\n",
    "train_prep = train_transformer.transform(train)"
   ]
  },
  {
   "cell_type": "code",
   "execution_count": 26,
   "id": "d1dc8a00",
   "metadata": {},
   "outputs": [],
   "source": [
    "import re\n",
    "\n",
    "\n",
    "def remove_prefixes(columns: list[str]) -> list[str]:\n",
    "    \"\"\"Удаляет подстроки cats__.*, numscaler__.*, remainder__.*\"\"\"\n",
    "    pattern = r\"^(cats__|numscaler__|remainder__)\"\n",
    "    return [re.sub(pattern, \"\", col) for col in columns]\n",
    "\n",
    "\n",
    "feature_names = remove_prefixes(train_transformer.get_feature_names_out())"
   ]
  },
  {
   "cell_type": "code",
   "execution_count": 27,
   "id": "52deb71f",
   "metadata": {},
   "outputs": [],
   "source": [
    "train_prep = pd.DataFrame(data=train_prep, columns=feature_names)"
   ]
  },
  {
   "cell_type": "code",
   "execution_count": 28,
   "id": "29bbc724",
   "metadata": {},
   "outputs": [
    {
     "data": {
      "text/html": [
       "<div>\n",
       "<style scoped>\n",
       "    .dataframe tbody tr th:only-of-type {\n",
       "        vertical-align: middle;\n",
       "    }\n",
       "\n",
       "    .dataframe tbody tr th {\n",
       "        vertical-align: top;\n",
       "    }\n",
       "\n",
       "    .dataframe thead th {\n",
       "        text-align: right;\n",
       "    }\n",
       "</style>\n",
       "<table border=\"1\" class=\"dataframe\">\n",
       "  <thead>\n",
       "    <tr style=\"text-align: right;\">\n",
       "      <th></th>\n",
       "      <th>MTS_score</th>\n",
       "      <th>fraud_score</th>\n",
       "      <th>OKB_score</th>\n",
       "      <th>antibankrupt_score</th>\n",
       "      <th>Unnamed: 0</th>\n",
       "      <th>num_late_payments_last_24m</th>\n",
       "      <th>num_restructured_loans_5y</th>\n",
       "      <th>avg_loan_term_months</th>\n",
       "      <th>num_employer_changes_2y</th>\n",
       "      <th>max_num_simultaneous_loans</th>\n",
       "      <th>...</th>\n",
       "      <th>delta_noise_pin</th>\n",
       "      <th>polysync_emitter_vx</th>\n",
       "      <th>wrangle_bitport_8</th>\n",
       "      <th>trace_mux_qr</th>\n",
       "      <th>scramble_node_5</th>\n",
       "      <th>max_utilization_single_card_half</th>\n",
       "      <th>id_2804_foo</th>\n",
       "      <th>id_7966_baz</th>\n",
       "      <th>id_9625_foo</th>\n",
       "      <th>id_7438_quux</th>\n",
       "    </tr>\n",
       "  </thead>\n",
       "  <tbody>\n",
       "    <tr>\n",
       "      <th>count</th>\n",
       "      <td>93.000000</td>\n",
       "      <td>93.000000</td>\n",
       "      <td>93.000000</td>\n",
       "      <td>93.000000</td>\n",
       "      <td>93.000000</td>\n",
       "      <td>93.000000</td>\n",
       "      <td>93.000000</td>\n",
       "      <td>93.000000</td>\n",
       "      <td>93.000000</td>\n",
       "      <td>93.000000</td>\n",
       "      <td>...</td>\n",
       "      <td>93.000000</td>\n",
       "      <td>93.000000</td>\n",
       "      <td>93.000000</td>\n",
       "      <td>93.000000</td>\n",
       "      <td>93.000000</td>\n",
       "      <td>93.000000</td>\n",
       "      <td>93.000000</td>\n",
       "      <td>93.000000</td>\n",
       "      <td>93.000000</td>\n",
       "      <td>93.000000</td>\n",
       "    </tr>\n",
       "    <tr>\n",
       "      <th>mean</th>\n",
       "      <td>0.033761</td>\n",
       "      <td>0.028513</td>\n",
       "      <td>0.020490</td>\n",
       "      <td>0.018587</td>\n",
       "      <td>0.047425</td>\n",
       "      <td>0.146841</td>\n",
       "      <td>0.030953</td>\n",
       "      <td>0.130124</td>\n",
       "      <td>0.120705</td>\n",
       "      <td>0.140560</td>\n",
       "      <td>...</td>\n",
       "      <td>0.019078</td>\n",
       "      <td>0.019686</td>\n",
       "      <td>0.018494</td>\n",
       "      <td>0.017289</td>\n",
       "      <td>0.019547</td>\n",
       "      <td>0.028137</td>\n",
       "      <td>0.018881</td>\n",
       "      <td>0.018428</td>\n",
       "      <td>0.020423</td>\n",
       "      <td>0.019215</td>\n",
       "    </tr>\n",
       "    <tr>\n",
       "      <th>std</th>\n",
       "      <td>0.106382</td>\n",
       "      <td>0.103837</td>\n",
       "      <td>0.102914</td>\n",
       "      <td>0.103103</td>\n",
       "      <td>0.110061</td>\n",
       "      <td>0.229268</td>\n",
       "      <td>0.105145</td>\n",
       "      <td>0.220389</td>\n",
       "      <td>0.194649</td>\n",
       "      <td>0.234834</td>\n",
       "      <td>...</td>\n",
       "      <td>0.103025</td>\n",
       "      <td>0.103006</td>\n",
       "      <td>0.103106</td>\n",
       "      <td>0.103142</td>\n",
       "      <td>0.102959</td>\n",
       "      <td>0.102741</td>\n",
       "      <td>0.103073</td>\n",
       "      <td>0.103048</td>\n",
       "      <td>0.102915</td>\n",
       "      <td>0.102966</td>\n",
       "    </tr>\n",
       "    <tr>\n",
       "      <th>min</th>\n",
       "      <td>0.000233</td>\n",
       "      <td>0.000591</td>\n",
       "      <td>0.000412</td>\n",
       "      <td>0.000039</td>\n",
       "      <td>0.000037</td>\n",
       "      <td>0.000267</td>\n",
       "      <td>0.000481</td>\n",
       "      <td>0.000016</td>\n",
       "      <td>0.000694</td>\n",
       "      <td>0.000503</td>\n",
       "      <td>...</td>\n",
       "      <td>0.000063</td>\n",
       "      <td>0.000384</td>\n",
       "      <td>0.000117</td>\n",
       "      <td>0.000235</td>\n",
       "      <td>0.000306</td>\n",
       "      <td>0.000200</td>\n",
       "      <td>0.000118</td>\n",
       "      <td>0.000108</td>\n",
       "      <td>0.000098</td>\n",
       "      <td>0.000098</td>\n",
       "    </tr>\n",
       "    <tr>\n",
       "      <th>25%</th>\n",
       "      <td>0.006644</td>\n",
       "      <td>0.004183</td>\n",
       "      <td>0.003459</td>\n",
       "      <td>0.002894</td>\n",
       "      <td>0.008486</td>\n",
       "      <td>0.008679</td>\n",
       "      <td>0.004605</td>\n",
       "      <td>0.007024</td>\n",
       "      <td>0.006061</td>\n",
       "      <td>0.007606</td>\n",
       "      <td>...</td>\n",
       "      <td>0.003185</td>\n",
       "      <td>0.003803</td>\n",
       "      <td>0.003574</td>\n",
       "      <td>0.003308</td>\n",
       "      <td>0.003607</td>\n",
       "      <td>0.007114</td>\n",
       "      <td>0.003303</td>\n",
       "      <td>0.003188</td>\n",
       "      <td>0.003788</td>\n",
       "      <td>0.004120</td>\n",
       "    </tr>\n",
       "    <tr>\n",
       "      <th>50%</th>\n",
       "      <td>0.012214</td>\n",
       "      <td>0.011367</td>\n",
       "      <td>0.009250</td>\n",
       "      <td>0.005932</td>\n",
       "      <td>0.014821</td>\n",
       "      <td>0.026260</td>\n",
       "      <td>0.010576</td>\n",
       "      <td>0.024651</td>\n",
       "      <td>0.030307</td>\n",
       "      <td>0.023707</td>\n",
       "      <td>...</td>\n",
       "      <td>0.007055</td>\n",
       "      <td>0.007208</td>\n",
       "      <td>0.005933</td>\n",
       "      <td>0.005593</td>\n",
       "      <td>0.007870</td>\n",
       "      <td>0.015237</td>\n",
       "      <td>0.006752</td>\n",
       "      <td>0.006700</td>\n",
       "      <td>0.009521</td>\n",
       "      <td>0.007909</td>\n",
       "    </tr>\n",
       "    <tr>\n",
       "      <th>75%</th>\n",
       "      <td>0.027317</td>\n",
       "      <td>0.024013</td>\n",
       "      <td>0.014028</td>\n",
       "      <td>0.010426</td>\n",
       "      <td>0.059733</td>\n",
       "      <td>0.161980</td>\n",
       "      <td>0.024079</td>\n",
       "      <td>0.103523</td>\n",
       "      <td>0.152518</td>\n",
       "      <td>0.124594</td>\n",
       "      <td>...</td>\n",
       "      <td>0.012856</td>\n",
       "      <td>0.012694</td>\n",
       "      <td>0.010117</td>\n",
       "      <td>0.009746</td>\n",
       "      <td>0.013436</td>\n",
       "      <td>0.024340</td>\n",
       "      <td>0.011577</td>\n",
       "      <td>0.011065</td>\n",
       "      <td>0.014660</td>\n",
       "      <td>0.011438</td>\n",
       "    </tr>\n",
       "    <tr>\n",
       "      <th>max</th>\n",
       "      <td>1.000000</td>\n",
       "      <td>1.000000</td>\n",
       "      <td>1.000000</td>\n",
       "      <td>1.000000</td>\n",
       "      <td>1.000000</td>\n",
       "      <td>1.000000</td>\n",
       "      <td>1.000000</td>\n",
       "      <td>1.000000</td>\n",
       "      <td>1.000000</td>\n",
       "      <td>1.000000</td>\n",
       "      <td>...</td>\n",
       "      <td>1.000000</td>\n",
       "      <td>1.000000</td>\n",
       "      <td>1.000000</td>\n",
       "      <td>1.000000</td>\n",
       "      <td>1.000000</td>\n",
       "      <td>1.000000</td>\n",
       "      <td>1.000000</td>\n",
       "      <td>1.000000</td>\n",
       "      <td>1.000000</td>\n",
       "      <td>1.000000</td>\n",
       "    </tr>\n",
       "  </tbody>\n",
       "</table>\n",
       "<p>8 rows × 93 columns</p>\n",
       "</div>"
      ],
      "text/plain": [
       "       MTS_score  fraud_score  OKB_score  antibankrupt_score  Unnamed: 0  \\\n",
       "count  93.000000    93.000000  93.000000           93.000000   93.000000   \n",
       "mean    0.033761     0.028513   0.020490            0.018587    0.047425   \n",
       "std     0.106382     0.103837   0.102914            0.103103    0.110061   \n",
       "min     0.000233     0.000591   0.000412            0.000039    0.000037   \n",
       "25%     0.006644     0.004183   0.003459            0.002894    0.008486   \n",
       "50%     0.012214     0.011367   0.009250            0.005932    0.014821   \n",
       "75%     0.027317     0.024013   0.014028            0.010426    0.059733   \n",
       "max     1.000000     1.000000   1.000000            1.000000    1.000000   \n",
       "\n",
       "       num_late_payments_last_24m  num_restructured_loans_5y  \\\n",
       "count                   93.000000                  93.000000   \n",
       "mean                     0.146841                   0.030953   \n",
       "std                      0.229268                   0.105145   \n",
       "min                      0.000267                   0.000481   \n",
       "25%                      0.008679                   0.004605   \n",
       "50%                      0.026260                   0.010576   \n",
       "75%                      0.161980                   0.024079   \n",
       "max                      1.000000                   1.000000   \n",
       "\n",
       "       avg_loan_term_months  num_employer_changes_2y  \\\n",
       "count             93.000000                93.000000   \n",
       "mean               0.130124                 0.120705   \n",
       "std                0.220389                 0.194649   \n",
       "min                0.000016                 0.000694   \n",
       "25%                0.007024                 0.006061   \n",
       "50%                0.024651                 0.030307   \n",
       "75%                0.103523                 0.152518   \n",
       "max                1.000000                 1.000000   \n",
       "\n",
       "       max_num_simultaneous_loans  ...  delta_noise_pin  polysync_emitter_vx  \\\n",
       "count                   93.000000  ...        93.000000            93.000000   \n",
       "mean                     0.140560  ...         0.019078             0.019686   \n",
       "std                      0.234834  ...         0.103025             0.103006   \n",
       "min                      0.000503  ...         0.000063             0.000384   \n",
       "25%                      0.007606  ...         0.003185             0.003803   \n",
       "50%                      0.023707  ...         0.007055             0.007208   \n",
       "75%                      0.124594  ...         0.012856             0.012694   \n",
       "max                      1.000000  ...         1.000000             1.000000   \n",
       "\n",
       "       wrangle_bitport_8  trace_mux_qr  scramble_node_5  \\\n",
       "count          93.000000     93.000000        93.000000   \n",
       "mean            0.018494      0.017289         0.019547   \n",
       "std             0.103106      0.103142         0.102959   \n",
       "min             0.000117      0.000235         0.000306   \n",
       "25%             0.003574      0.003308         0.003607   \n",
       "50%             0.005933      0.005593         0.007870   \n",
       "75%             0.010117      0.009746         0.013436   \n",
       "max             1.000000      1.000000         1.000000   \n",
       "\n",
       "       max_utilization_single_card_half  id_2804_foo  id_7966_baz  \\\n",
       "count                         93.000000    93.000000    93.000000   \n",
       "mean                           0.028137     0.018881     0.018428   \n",
       "std                            0.102741     0.103073     0.103048   \n",
       "min                            0.000200     0.000118     0.000108   \n",
       "25%                            0.007114     0.003303     0.003188   \n",
       "50%                            0.015237     0.006752     0.006700   \n",
       "75%                            0.024340     0.011577     0.011065   \n",
       "max                            1.000000     1.000000     1.000000   \n",
       "\n",
       "       id_9625_foo  id_7438_quux  \n",
       "count    93.000000     93.000000  \n",
       "mean      0.020423      0.019215  \n",
       "std       0.102915      0.102966  \n",
       "min       0.000098      0.000098  \n",
       "25%       0.003788      0.004120  \n",
       "50%       0.009521      0.007909  \n",
       "75%       0.014660      0.011438  \n",
       "max       1.000000      1.000000  \n",
       "\n",
       "[8 rows x 93 columns]"
      ]
     },
     "execution_count": 28,
     "metadata": {},
     "output_type": "execute_result"
    }
   ],
   "source": [
    "corr_matrix = train_prep.drop(columns=excluded_features).corr().abs()\n",
    "\n",
    "corr_matrix.describe()"
   ]
  },
  {
   "cell_type": "code",
   "execution_count": 29,
   "id": "4ca05753",
   "metadata": {},
   "outputs": [],
   "source": [
    "features_to_drop = set()\n",
    "\n",
    "correlation_threshold = 0.7\n",
    "\n",
    "# Проходим по верхнему треугольнику матрицы корреляции\n",
    "for i in range(len(corr_matrix.columns)):\n",
    "    for j in range(i + 1, len(corr_matrix.columns)):\n",
    "        col_i = corr_matrix.columns[i]\n",
    "        col_j = corr_matrix.columns[j]\n",
    "        # Если корреляция выше порога\n",
    "        if corr_matrix.iloc[i, j] >= correlation_threshold:\n",
    "            # Получаем importance для обоих признаков\n",
    "            importance_i = features_importance_df.loc[col_i].values[0]\n",
    "            importance_j = features_importance_df.loc[col_j].values[0]\n",
    "            # Удаляем признак с меньшим importance\n",
    "            if importance_i < importance_j:\n",
    "                features_to_drop.add(col_i)\n",
    "            else:\n",
    "                features_to_drop.add(col_j)"
   ]
  },
  {
   "cell_type": "code",
   "execution_count": 30,
   "id": "0dbc1c59",
   "metadata": {},
   "outputs": [],
   "source": [
    "features_to_drop = list(features_to_drop)"
   ]
  },
  {
   "cell_type": "code",
   "execution_count": 31,
   "id": "c4179b61",
   "metadata": {},
   "outputs": [],
   "source": [
    "train_prep.drop(columns=features_to_drop, inplace=True)"
   ]
  },
  {
   "cell_type": "code",
   "execution_count": 32,
   "id": "262e8733",
   "metadata": {},
   "outputs": [],
   "source": [
    "train_prep.drop(train_prep.loc[train_prep[\"def_45\"].isna()].index, inplace=True)"
   ]
  },
  {
   "cell_type": "code",
   "execution_count": 33,
   "id": "89ddbacd",
   "metadata": {},
   "outputs": [
    {
     "name": "stderr",
     "output_type": "stream",
     "text": [
      "/home/yoh/project/credit_scoring/.venv/lib/python3.13/site-packages/tqdm/auto.py:21: TqdmWarning: IProgress not found. Please update jupyter and ipywidgets. See https://ipywidgets.readthedocs.io/en/stable/user_install.html\n",
      "  from .autonotebook import tqdm as notebook_tqdm\n",
      "[I 2025-10-13 22:33:47,807] A new study created in memory with name: no-name-edc5bc7e-a4fd-49b8-bd7c-9f441a05b314\n"
     ]
    },
    {
     "name": "stdout",
     "output_type": "stream",
     "text": [
      "X_train shape: (7134, 80)\n",
      "Y_train shape: (7134,)\n",
      "Количество фичей: 80\n"
     ]
    },
    {
     "name": "stderr",
     "output_type": "stream",
     "text": [
      "Best trial: 0. Best value: -0.0601034:   1%|          | 1/100 [00:01<02:09,  1.31s/it]"
     ]
    },
    {
     "name": "stdout",
     "output_type": "stream",
     "text": [
      "[I 2025-10-13 22:33:49,113] Trial 0 finished with value: -0.06010335996807197 and parameters: {'n_features': 69, 'max_depth': 7}. Best is trial 0 with value: -0.06010335996807197.\n"
     ]
    },
    {
     "name": "stderr",
     "output_type": "stream",
     "text": [
      "Best trial: 0. Best value: -0.0601034:   2%|▏         | 2/100 [00:02<01:48,  1.11s/it]"
     ]
    },
    {
     "name": "stdout",
     "output_type": "stream",
     "text": [
      "[I 2025-10-13 22:33:50,089] Trial 1 finished with value: -0.11564446974254704 and parameters: {'n_features': 50, 'max_depth': 9}. Best is trial 0 with value: -0.06010335996807197.\n"
     ]
    },
    {
     "name": "stderr",
     "output_type": "stream",
     "text": [
      "Best trial: 0. Best value: -0.0601034:   3%|▎         | 3/100 [00:03<01:40,  1.03s/it]"
     ]
    },
    {
     "name": "stdout",
     "output_type": "stream",
     "text": [
      "[I 2025-10-13 22:33:51,029] Trial 2 finished with value: -0.11740126066143212 and parameters: {'n_features': 53, 'max_depth': 5}. Best is trial 0 with value: -0.06010335996807197.\n"
     ]
    },
    {
     "name": "stderr",
     "output_type": "stream",
     "text": [
      "Best trial: 0. Best value: -0.0601034:   4%|▍         | 4/100 [00:04<01:33,  1.03it/s]"
     ]
    },
    {
     "name": "stdout",
     "output_type": "stream",
     "text": [
      "[I 2025-10-13 22:33:51,910] Trial 3 finished with value: -0.15701786537728868 and parameters: {'n_features': 49, 'max_depth': 4}. Best is trial 0 with value: -0.06010335996807197.\n"
     ]
    },
    {
     "name": "stderr",
     "output_type": "stream",
     "text": [
      "Best trial: 0. Best value: -0.0601034:   5%|▌         | 5/100 [00:04<01:29,  1.06it/s]"
     ]
    },
    {
     "name": "stdout",
     "output_type": "stream",
     "text": [
      "[I 2025-10-13 22:33:52,800] Trial 4 finished with value: -0.1057617684169674 and parameters: {'n_features': 35, 'max_depth': 7}. Best is trial 0 with value: -0.06010335996807197.\n"
     ]
    },
    {
     "name": "stderr",
     "output_type": "stream",
     "text": [
      "Best trial: 0. Best value: -0.0601034:   6%|▌         | 6/100 [00:05<01:21,  1.15it/s]"
     ]
    },
    {
     "name": "stdout",
     "output_type": "stream",
     "text": [
      "[I 2025-10-13 22:33:53,531] Trial 5 finished with value: -0.10180311232348749 and parameters: {'n_features': 42, 'max_depth': 4}. Best is trial 0 with value: -0.06010335996807197.\n"
     ]
    },
    {
     "name": "stderr",
     "output_type": "stream",
     "text": [
      "Best trial: 0. Best value: -0.0601034:   7%|▋         | 7/100 [00:05<01:00,  1.53it/s]"
     ]
    },
    {
     "name": "stdout",
     "output_type": "stream",
     "text": [
      "[I 2025-10-13 22:33:53,743] Trial 6 finished with value: -0.4372101273559988 and parameters: {'n_features': 30, 'max_depth': 4}. Best is trial 0 with value: -0.06010335996807197.\n"
     ]
    },
    {
     "name": "stderr",
     "output_type": "stream",
     "text": [
      "Best trial: 0. Best value: -0.0601034:   8%|▊         | 8/100 [00:06<00:51,  1.80it/s]"
     ]
    },
    {
     "name": "stdout",
     "output_type": "stream",
     "text": [
      "[I 2025-10-13 22:33:54,088] Trial 7 finished with value: -0.10034144000424688 and parameters: {'n_features': 33, 'max_depth': 10}. Best is trial 0 with value: -0.06010335996807197.\n"
     ]
    },
    {
     "name": "stderr",
     "output_type": "stream",
     "text": [
      "Best trial: 8. Best value: -0.0593878:   9%|▉         | 9/100 [00:06<00:52,  1.74it/s]"
     ]
    },
    {
     "name": "stdout",
     "output_type": "stream",
     "text": [
      "[I 2025-10-13 22:33:54,708] Trial 8 finished with value: -0.059387839229037516 and parameters: {'n_features': 64, 'max_depth': 9}. Best is trial 8 with value: -0.059387839229037516.\n"
     ]
    },
    {
     "name": "stderr",
     "output_type": "stream",
     "text": [
      "Best trial: 8. Best value: -0.0593878:  10%|█         | 10/100 [00:07<00:54,  1.65it/s]"
     ]
    },
    {
     "name": "stdout",
     "output_type": "stream",
     "text": [
      "[I 2025-10-13 22:33:55,383] Trial 9 finished with value: -0.06002506912978212 and parameters: {'n_features': 67, 'max_depth': 10}. Best is trial 8 with value: -0.059387839229037516.\n"
     ]
    },
    {
     "name": "stderr",
     "output_type": "stream",
     "text": [
      "Best trial: 8. Best value: -0.0593878:  11%|█         | 11/100 [00:07<00:43,  2.07it/s]"
     ]
    },
    {
     "name": "stdout",
     "output_type": "stream",
     "text": [
      "[I 2025-10-13 22:33:55,586] Trial 10 finished with value: -0.4643150039529577 and parameters: {'n_features': 14, 'max_depth': 9}. Best is trial 8 with value: -0.059387839229037516.\n"
     ]
    },
    {
     "name": "stderr",
     "output_type": "stream",
     "text": [
      "Best trial: 8. Best value: -0.0593878:  12%|█▏        | 12/100 [00:08<00:51,  1.72it/s]"
     ]
    },
    {
     "name": "stdout",
     "output_type": "stream",
     "text": [
      "[I 2025-10-13 22:33:56,397] Trial 11 finished with value: -0.05986013536211143 and parameters: {'n_features': 80, 'max_depth': 10}. Best is trial 8 with value: -0.059387839229037516.\n"
     ]
    },
    {
     "name": "stderr",
     "output_type": "stream",
     "text": [
      "Best trial: 8. Best value: -0.0593878:  13%|█▎        | 13/100 [00:09<00:55,  1.58it/s]"
     ]
    },
    {
     "name": "stdout",
     "output_type": "stream",
     "text": [
      "[I 2025-10-13 22:33:57,149] Trial 12 finished with value: -0.05983017291952473 and parameters: {'n_features': 80, 'max_depth': 8}. Best is trial 8 with value: -0.059387839229037516.\n"
     ]
    },
    {
     "name": "stderr",
     "output_type": "stream",
     "text": [
      "Best trial: 8. Best value: -0.0593878:  14%|█▍        | 14/100 [00:10<00:56,  1.52it/s]"
     ]
    },
    {
     "name": "stdout",
     "output_type": "stream",
     "text": [
      "[I 2025-10-13 22:33:57,861] Trial 13 finished with value: -0.05991182969737713 and parameters: {'n_features': 77, 'max_depth': 8}. Best is trial 8 with value: -0.059387839229037516.\n"
     ]
    },
    {
     "name": "stderr",
     "output_type": "stream",
     "text": [
      "Best trial: 8. Best value: -0.0593878:  15%|█▌        | 15/100 [00:10<00:52,  1.63it/s]"
     ]
    },
    {
     "name": "stdout",
     "output_type": "stream",
     "text": [
      "[I 2025-10-13 22:33:58,372] Trial 14 finished with value: -0.06092757128931065 and parameters: {'n_features': 64, 'max_depth': 6}. Best is trial 8 with value: -0.059387839229037516.\n"
     ]
    },
    {
     "name": "stderr",
     "output_type": "stream",
     "text": [
      "Best trial: 8. Best value: -0.0593878:  16%|█▌        | 16/100 [00:11<00:49,  1.69it/s]"
     ]
    },
    {
     "name": "stdout",
     "output_type": "stream",
     "text": [
      "[I 2025-10-13 22:33:58,912] Trial 15 finished with value: -0.06057725086627514 and parameters: {'n_features': 60, 'max_depth': 8}. Best is trial 8 with value: -0.059387839229037516.\n"
     ]
    },
    {
     "name": "stderr",
     "output_type": "stream",
     "text": [
      "Best trial: 8. Best value: -0.0593878:  17%|█▋        | 17/100 [00:11<00:50,  1.64it/s]"
     ]
    },
    {
     "name": "stdout",
     "output_type": "stream",
     "text": [
      "[I 2025-10-13 22:33:59,558] Trial 16 finished with value: -0.05955960316368223 and parameters: {'n_features': 74, 'max_depth': 8}. Best is trial 8 with value: -0.059387839229037516.\n"
     ]
    },
    {
     "name": "stderr",
     "output_type": "stream",
     "text": [
      "Best trial: 8. Best value: -0.0593878:  18%|█▊        | 18/100 [00:12<00:49,  1.64it/s]"
     ]
    },
    {
     "name": "stdout",
     "output_type": "stream",
     "text": [
      "[I 2025-10-13 22:34:00,167] Trial 17 finished with value: -0.06014833237396681 and parameters: {'n_features': 72, 'max_depth': 6}. Best is trial 8 with value: -0.059387839229037516.\n"
     ]
    },
    {
     "name": "stderr",
     "output_type": "stream",
     "text": [
      "Best trial: 8. Best value: -0.0593878:  20%|██        | 20/100 [00:13<00:37,  2.13it/s]"
     ]
    },
    {
     "name": "stdout",
     "output_type": "stream",
     "text": [
      "[I 2025-10-13 22:34:00,778] Trial 18 finished with value: -0.06553883296172223 and parameters: {'n_features': 57, 'max_depth': 9}. Best is trial 8 with value: -0.059387839229037516.\n",
      "[I 2025-10-13 22:34:00,922] Trial 19 finished with value: -0.4544888335526113 and parameters: {'n_features': 6, 'max_depth': 8}. Best is trial 8 with value: -0.059387839229037516.\n"
     ]
    },
    {
     "name": "stderr",
     "output_type": "stream",
     "text": [
      "Best trial: 8. Best value: -0.0593878:  21%|██        | 21/100 [00:13<00:35,  2.22it/s]"
     ]
    },
    {
     "name": "stdout",
     "output_type": "stream",
     "text": [
      "[I 2025-10-13 22:34:01,329] Trial 20 finished with value: -0.11512261225340653 and parameters: {'n_features': 72, 'max_depth': 3}. Best is trial 8 with value: -0.059387839229037516.\n"
     ]
    },
    {
     "name": "stderr",
     "output_type": "stream",
     "text": [
      "Best trial: 8. Best value: -0.0593878:  22%|██▏       | 22/100 [00:14<00:41,  1.86it/s]"
     ]
    },
    {
     "name": "stdout",
     "output_type": "stream",
     "text": [
      "[I 2025-10-13 22:34:02,068] Trial 21 finished with value: -0.06024025214609954 and parameters: {'n_features': 80, 'max_depth': 8}. Best is trial 8 with value: -0.059387839229037516.\n"
     ]
    },
    {
     "name": "stderr",
     "output_type": "stream",
     "text": [
      "Best trial: 8. Best value: -0.0593878:  23%|██▎       | 23/100 [00:14<00:44,  1.72it/s]"
     ]
    },
    {
     "name": "stdout",
     "output_type": "stream",
     "text": [
      "[I 2025-10-13 22:34:02,756] Trial 22 finished with value: -0.20738175887415214 and parameters: {'n_features': 63, 'max_depth': 7}. Best is trial 8 with value: -0.059387839229037516.\n"
     ]
    },
    {
     "name": "stderr",
     "output_type": "stream",
     "text": [
      "Best trial: 8. Best value: -0.0593878:  24%|██▍       | 24/100 [00:15<00:47,  1.59it/s]"
     ]
    },
    {
     "name": "stdout",
     "output_type": "stream",
     "text": [
      "[I 2025-10-13 22:34:03,491] Trial 23 finished with value: -0.0646042593236666 and parameters: {'n_features': 75, 'max_depth': 9}. Best is trial 8 with value: -0.059387839229037516.\n"
     ]
    },
    {
     "name": "stderr",
     "output_type": "stream",
     "text": [
      "Best trial: 8. Best value: -0.0593878:  25%|██▌       | 25/100 [00:16<00:47,  1.58it/s]"
     ]
    },
    {
     "name": "stdout",
     "output_type": "stream",
     "text": [
      "[I 2025-10-13 22:34:04,136] Trial 24 finished with value: -0.05999102046100501 and parameters: {'n_features': 69, 'max_depth': 8}. Best is trial 8 with value: -0.059387839229037516.\n"
     ]
    },
    {
     "name": "stderr",
     "output_type": "stream",
     "text": [
      "Best trial: 8. Best value: -0.0593878:  26%|██▌       | 26/100 [00:16<00:45,  1.64it/s]"
     ]
    },
    {
     "name": "stdout",
     "output_type": "stream",
     "text": [
      "[I 2025-10-13 22:34:04,697] Trial 25 finished with value: -0.06045470324806893 and parameters: {'n_features': 56, 'max_depth': 9}. Best is trial 8 with value: -0.059387839229037516.\n"
     ]
    },
    {
     "name": "stderr",
     "output_type": "stream",
     "text": [
      "Best trial: 8. Best value: -0.0593878:  27%|██▋       | 27/100 [00:17<00:38,  1.90it/s]"
     ]
    },
    {
     "name": "stdout",
     "output_type": "stream",
     "text": [
      "[I 2025-10-13 22:34:05,024] Trial 26 finished with value: -0.11365061660868532 and parameters: {'n_features': 43, 'max_depth': 7}. Best is trial 8 with value: -0.059387839229037516.\n"
     ]
    },
    {
     "name": "stderr",
     "output_type": "stream",
     "text": [
      "Best trial: 8. Best value: -0.0593878:  28%|██▊       | 28/100 [00:17<00:39,  1.81it/s]"
     ]
    },
    {
     "name": "stdout",
     "output_type": "stream",
     "text": [
      "[I 2025-10-13 22:34:05,639] Trial 27 finished with value: -0.0599381991891266 and parameters: {'n_features': 74, 'max_depth': 6}. Best is trial 8 with value: -0.059387839229037516.\n"
     ]
    },
    {
     "name": "stderr",
     "output_type": "stream",
     "text": [
      "Best trial: 28. Best value: -0.0592251:  29%|██▉       | 29/100 [00:18<00:40,  1.75it/s]"
     ]
    },
    {
     "name": "stdout",
     "output_type": "stream",
     "text": [
      "[I 2025-10-13 22:34:06,250] Trial 28 finished with value: -0.059225120069390604 and parameters: {'n_features': 63, 'max_depth': 8}. Best is trial 28 with value: -0.059225120069390604.\n"
     ]
    },
    {
     "name": "stderr",
     "output_type": "stream",
     "text": [
      "Best trial: 28. Best value: -0.0592251:  30%|███       | 30/100 [00:19<00:47,  1.49it/s]"
     ]
    },
    {
     "name": "stdout",
     "output_type": "stream",
     "text": [
      "[I 2025-10-13 22:34:07,161] Trial 29 finished with value: -0.11335272974998856 and parameters: {'n_features': 67, 'max_depth': 10}. Best is trial 28 with value: -0.059225120069390604.\n"
     ]
    },
    {
     "name": "stderr",
     "output_type": "stream",
     "text": [
      "Best trial: 28. Best value: -0.0592251:  31%|███       | 31/100 [00:19<00:43,  1.60it/s]"
     ]
    },
    {
     "name": "stdout",
     "output_type": "stream",
     "text": [
      "[I 2025-10-13 22:34:07,678] Trial 30 finished with value: -0.06550431276500253 and parameters: {'n_features': 60, 'max_depth': 7}. Best is trial 28 with value: -0.059225120069390604.\n"
     ]
    },
    {
     "name": "stderr",
     "output_type": "stream",
     "text": [
      "Best trial: 28. Best value: -0.0592251:  32%|███▏      | 32/100 [00:20<00:42,  1.59it/s]"
     ]
    },
    {
     "name": "stdout",
     "output_type": "stream",
     "text": [
      "[I 2025-10-13 22:34:08,312] Trial 31 finished with value: -0.05991127331446306 and parameters: {'n_features': 69, 'max_depth': 8}. Best is trial 28 with value: -0.059225120069390604.\n"
     ]
    },
    {
     "name": "stderr",
     "output_type": "stream",
     "text": [
      "Best trial: 28. Best value: -0.0592251:  33%|███▎      | 33/100 [00:21<00:43,  1.52it/s]"
     ]
    },
    {
     "name": "stdout",
     "output_type": "stream",
     "text": [
      "[I 2025-10-13 22:34:09,035] Trial 32 finished with value: -0.060352873717582585 and parameters: {'n_features': 77, 'max_depth': 9}. Best is trial 28 with value: -0.059225120069390604.\n"
     ]
    },
    {
     "name": "stderr",
     "output_type": "stream",
     "text": [
      "Best trial: 28. Best value: -0.0592251:  34%|███▍      | 34/100 [00:21<00:42,  1.55it/s]"
     ]
    },
    {
     "name": "stdout",
     "output_type": "stream",
     "text": [
      "[I 2025-10-13 22:34:09,648] Trial 33 finished with value: -0.0929900969327893 and parameters: {'n_features': 64, 'max_depth': 9}. Best is trial 28 with value: -0.059225120069390604.\n"
     ]
    },
    {
     "name": "stderr",
     "output_type": "stream",
     "text": [
      "Best trial: 28. Best value: -0.0592251:  35%|███▌      | 35/100 [00:22<00:37,  1.73it/s]"
     ]
    },
    {
     "name": "stdout",
     "output_type": "stream",
     "text": [
      "[I 2025-10-13 22:34:10,077] Trial 34 finished with value: -0.09189923296816542 and parameters: {'n_features': 49, 'max_depth': 8}. Best is trial 28 with value: -0.059225120069390604.\n"
     ]
    },
    {
     "name": "stderr",
     "output_type": "stream",
     "text": [
      "Best trial: 28. Best value: -0.0592251:  36%|███▌      | 36/100 [00:23<00:39,  1.60it/s]"
     ]
    },
    {
     "name": "stdout",
     "output_type": "stream",
     "text": [
      "[I 2025-10-13 22:34:10,808] Trial 35 finished with value: -0.11671269857469936 and parameters: {'n_features': 72, 'max_depth': 7}. Best is trial 28 with value: -0.059225120069390604.\n"
     ]
    },
    {
     "name": "stderr",
     "output_type": "stream",
     "text": [
      "Best trial: 28. Best value: -0.0592251:  37%|███▋      | 37/100 [00:23<00:36,  1.73it/s]"
     ]
    },
    {
     "name": "stdout",
     "output_type": "stream",
     "text": [
      "[I 2025-10-13 22:34:11,272] Trial 36 finished with value: -0.06535500274867473 and parameters: {'n_features': 53, 'max_depth': 7}. Best is trial 28 with value: -0.059225120069390604.\n"
     ]
    },
    {
     "name": "stderr",
     "output_type": "stream",
     "text": [
      "Best trial: 28. Best value: -0.0592251:  38%|███▊      | 38/100 [00:23<00:29,  2.09it/s]"
     ]
    },
    {
     "name": "stdout",
     "output_type": "stream",
     "text": [
      "[I 2025-10-13 22:34:11,524] Trial 37 finished with value: -0.3448205151794174 and parameters: {'n_features': 23, 'max_depth': 5}. Best is trial 28 with value: -0.059225120069390604.\n"
     ]
    },
    {
     "name": "stderr",
     "output_type": "stream",
     "text": [
      "Best trial: 28. Best value: -0.0592251:  39%|███▉      | 39/100 [00:24<00:31,  1.97it/s]"
     ]
    },
    {
     "name": "stdout",
     "output_type": "stream",
     "text": [
      "[I 2025-10-13 22:34:12,100] Trial 38 finished with value: -0.16743815738021298 and parameters: {'n_features': 44, 'max_depth': 9}. Best is trial 28 with value: -0.059225120069390604.\n"
     ]
    },
    {
     "name": "stderr",
     "output_type": "stream",
     "text": [
      "Best trial: 28. Best value: -0.0592251:  40%|████      | 40/100 [00:24<00:30,  1.97it/s]"
     ]
    },
    {
     "name": "stdout",
     "output_type": "stream",
     "text": [
      "[I 2025-10-13 22:34:12,609] Trial 39 finished with value: -0.11535379866741263 and parameters: {'n_features': 61, 'max_depth': 8}. Best is trial 28 with value: -0.059225120069390604.\n"
     ]
    },
    {
     "name": "stderr",
     "output_type": "stream",
     "text": [
      "Best trial: 28. Best value: -0.0592251:  41%|████      | 41/100 [00:25<00:31,  1.88it/s]"
     ]
    },
    {
     "name": "stdout",
     "output_type": "stream",
     "text": [
      "[I 2025-10-13 22:34:13,195] Trial 40 finished with value: -0.09545590212741441 and parameters: {'n_features': 68, 'max_depth': 10}. Best is trial 28 with value: -0.059225120069390604.\n"
     ]
    },
    {
     "name": "stderr",
     "output_type": "stream",
     "text": [
      "Best trial: 28. Best value: -0.0592251:  42%|████▏     | 42/100 [00:26<00:35,  1.65it/s]"
     ]
    },
    {
     "name": "stdout",
     "output_type": "stream",
     "text": [
      "[I 2025-10-13 22:34:13,971] Trial 41 finished with value: -0.05998065058506979 and parameters: {'n_features': 78, 'max_depth': 10}. Best is trial 28 with value: -0.059225120069390604.\n"
     ]
    },
    {
     "name": "stderr",
     "output_type": "stream",
     "text": [
      "Best trial: 28. Best value: -0.0592251:  43%|████▎     | 43/100 [00:26<00:37,  1.50it/s]"
     ]
    },
    {
     "name": "stdout",
     "output_type": "stream",
     "text": [
      "[I 2025-10-13 22:34:14,780] Trial 42 finished with value: -0.06030355269818952 and parameters: {'n_features': 80, 'max_depth': 10}. Best is trial 28 with value: -0.059225120069390604.\n"
     ]
    },
    {
     "name": "stderr",
     "output_type": "stream",
     "text": [
      "Best trial: 28. Best value: -0.0592251:  44%|████▍     | 44/100 [00:27<00:37,  1.49it/s]"
     ]
    },
    {
     "name": "stdout",
     "output_type": "stream",
     "text": [
      "[I 2025-10-13 22:34:15,457] Trial 43 finished with value: -0.06005920178193558 and parameters: {'n_features': 75, 'max_depth': 9}. Best is trial 28 with value: -0.059225120069390604.\n"
     ]
    },
    {
     "name": "stderr",
     "output_type": "stream",
     "text": [
      "Best trial: 44. Best value: -0.0590135:  45%|████▌     | 45/100 [00:28<00:36,  1.50it/s]"
     ]
    },
    {
     "name": "stdout",
     "output_type": "stream",
     "text": [
      "[I 2025-10-13 22:34:16,121] Trial 44 finished with value: -0.05901345609652605 and parameters: {'n_features': 72, 'max_depth': 9}. Best is trial 44 with value: -0.05901345609652605.\n"
     ]
    },
    {
     "name": "stderr",
     "output_type": "stream",
     "text": [
      "Best trial: 44. Best value: -0.0590135:  46%|████▌     | 46/100 [00:28<00:34,  1.56it/s]"
     ]
    },
    {
     "name": "stdout",
     "output_type": "stream",
     "text": [
      "[I 2025-10-13 22:34:16,701] Trial 45 finished with value: -0.093747775198027 and parameters: {'n_features': 65, 'max_depth': 8}. Best is trial 44 with value: -0.05901345609652605.\n"
     ]
    },
    {
     "name": "stderr",
     "output_type": "stream",
     "text": [
      "Best trial: 44. Best value: -0.0590135:  47%|████▋     | 47/100 [00:29<00:37,  1.41it/s]"
     ]
    },
    {
     "name": "stdout",
     "output_type": "stream",
     "text": [
      "[I 2025-10-13 22:34:17,571] Trial 46 finished with value: -0.11342102222733229 and parameters: {'n_features': 71, 'max_depth': 9}. Best is trial 44 with value: -0.05901345609652605.\n"
     ]
    },
    {
     "name": "stderr",
     "output_type": "stream",
     "text": [
      "Best trial: 44. Best value: -0.0590135:  48%|████▊     | 48/100 [00:30<00:34,  1.53it/s]"
     ]
    },
    {
     "name": "stdout",
     "output_type": "stream",
     "text": [
      "[I 2025-10-13 22:34:18,096] Trial 47 finished with value: -0.06402552946552789 and parameters: {'n_features': 57, 'max_depth': 8}. Best is trial 44 with value: -0.05901345609652605.\n"
     ]
    },
    {
     "name": "stderr",
     "output_type": "stream",
     "text": [
      "Best trial: 44. Best value: -0.0590135:  49%|████▉     | 49/100 [00:30<00:34,  1.49it/s]"
     ]
    },
    {
     "name": "stdout",
     "output_type": "stream",
     "text": [
      "[I 2025-10-13 22:34:18,804] Trial 48 finished with value: -0.0649703485381528 and parameters: {'n_features': 75, 'max_depth': 9}. Best is trial 44 with value: -0.05901345609652605.\n"
     ]
    },
    {
     "name": "stderr",
     "output_type": "stream",
     "text": [
      "Best trial: 44. Best value: -0.0590135:  50%|█████     | 50/100 [00:31<00:27,  1.79it/s]"
     ]
    },
    {
     "name": "stdout",
     "output_type": "stream",
     "text": [
      "[I 2025-10-13 22:34:19,105] Trial 49 finished with value: -0.28693254551574826 and parameters: {'n_features': 25, 'max_depth': 7}. Best is trial 44 with value: -0.05901345609652605.\n"
     ]
    },
    {
     "name": "stderr",
     "output_type": "stream",
     "text": [
      "Best trial: 44. Best value: -0.0590135:  51%|█████     | 51/100 [00:31<00:28,  1.71it/s]"
     ]
    },
    {
     "name": "stdout",
     "output_type": "stream",
     "text": [
      "[I 2025-10-13 22:34:19,754] Trial 50 finished with value: -0.06517182536531928 and parameters: {'n_features': 71, 'max_depth': 8}. Best is trial 44 with value: -0.05901345609652605.\n"
     ]
    },
    {
     "name": "stderr",
     "output_type": "stream",
     "text": [
      "Best trial: 44. Best value: -0.0590135:  52%|█████▏    | 52/100 [00:32<00:31,  1.53it/s]"
     ]
    },
    {
     "name": "stdout",
     "output_type": "stream",
     "text": [
      "[I 2025-10-13 22:34:20,571] Trial 51 finished with value: -0.059956581336134074 and parameters: {'n_features': 80, 'max_depth': 10}. Best is trial 44 with value: -0.05901345609652605.\n"
     ]
    },
    {
     "name": "stderr",
     "output_type": "stream",
     "text": [
      "Best trial: 44. Best value: -0.0590135:  53%|█████▎    | 53/100 [00:33<00:32,  1.43it/s]"
     ]
    },
    {
     "name": "stdout",
     "output_type": "stream",
     "text": [
      "[I 2025-10-13 22:34:21,365] Trial 52 finished with value: -0.0607119575529112 and parameters: {'n_features': 77, 'max_depth': 10}. Best is trial 44 with value: -0.05901345609652605.\n"
     ]
    },
    {
     "name": "stderr",
     "output_type": "stream",
     "text": [
      "Best trial: 44. Best value: -0.0590135:  54%|█████▍    | 54/100 [00:34<00:30,  1.50it/s]"
     ]
    },
    {
     "name": "stdout",
     "output_type": "stream",
     "text": [
      "[I 2025-10-13 22:34:21,959] Trial 53 finished with value: -0.1070359447130576 and parameters: {'n_features': 66, 'max_depth': 9}. Best is trial 44 with value: -0.05901345609652605.\n"
     ]
    },
    {
     "name": "stderr",
     "output_type": "stream",
     "text": [
      "Best trial: 44. Best value: -0.0590135:  55%|█████▌    | 55/100 [00:34<00:31,  1.45it/s]"
     ]
    },
    {
     "name": "stdout",
     "output_type": "stream",
     "text": [
      "[I 2025-10-13 22:34:22,704] Trial 54 finished with value: -0.06000108746838068 and parameters: {'n_features': 74, 'max_depth': 9}. Best is trial 44 with value: -0.05901345609652605.\n"
     ]
    },
    {
     "name": "stderr",
     "output_type": "stream",
     "text": [
      "Best trial: 44. Best value: -0.0590135:  56%|█████▌    | 56/100 [00:35<00:29,  1.48it/s]"
     ]
    },
    {
     "name": "stdout",
     "output_type": "stream",
     "text": [
      "[I 2025-10-13 22:34:23,347] Trial 55 finished with value: -0.09266286948165542 and parameters: {'n_features': 69, 'max_depth': 10}. Best is trial 44 with value: -0.05901345609652605.\n"
     ]
    },
    {
     "name": "stderr",
     "output_type": "stream",
     "text": [
      "Best trial: 44. Best value: -0.0590135:  57%|█████▋    | 57/100 [00:36<00:29,  1.44it/s]"
     ]
    },
    {
     "name": "stdout",
     "output_type": "stream",
     "text": [
      "[I 2025-10-13 22:34:24,079] Trial 56 finished with value: -0.06011086006616886 and parameters: {'n_features': 78, 'max_depth': 9}. Best is trial 44 with value: -0.05901345609652605.\n"
     ]
    },
    {
     "name": "stderr",
     "output_type": "stream",
     "text": [
      "Best trial: 44. Best value: -0.0590135:  58%|█████▊    | 58/100 [00:36<00:27,  1.53it/s]"
     ]
    },
    {
     "name": "stdout",
     "output_type": "stream",
     "text": [
      "[I 2025-10-13 22:34:24,638] Trial 57 finished with value: -0.09346196704566434 and parameters: {'n_features': 62, 'max_depth': 8}. Best is trial 44 with value: -0.05901345609652605.\n"
     ]
    },
    {
     "name": "stderr",
     "output_type": "stream",
     "text": [
      "Best trial: 44. Best value: -0.0590135:  59%|█████▉    | 59/100 [00:37<00:23,  1.72it/s]"
     ]
    },
    {
     "name": "stdout",
     "output_type": "stream",
     "text": [
      "[I 2025-10-13 22:34:25,052] Trial 58 finished with value: -0.08957291610082889 and parameters: {'n_features': 73, 'max_depth': 3}. Best is trial 44 with value: -0.05901345609652605.\n"
     ]
    },
    {
     "name": "stderr",
     "output_type": "stream",
     "text": [
      "Best trial: 44. Best value: -0.0590135:  60%|██████    | 60/100 [00:37<00:20,  1.97it/s]"
     ]
    },
    {
     "name": "stdout",
     "output_type": "stream",
     "text": [
      "[I 2025-10-13 22:34:25,388] Trial 59 finished with value: -0.06738722398447718 and parameters: {'n_features': 40, 'max_depth': 6}. Best is trial 44 with value: -0.05901345609652605.\n"
     ]
    },
    {
     "name": "stderr",
     "output_type": "stream",
     "text": [
      "Best trial: 44. Best value: -0.0590135:  61%|██████    | 61/100 [00:38<00:20,  1.91it/s]"
     ]
    },
    {
     "name": "stdout",
     "output_type": "stream",
     "text": [
      "[I 2025-10-13 22:34:25,948] Trial 60 finished with value: -0.06730980040341455 and parameters: {'n_features': 53, 'max_depth': 9}. Best is trial 44 with value: -0.05901345609652605.\n"
     ]
    },
    {
     "name": "stderr",
     "output_type": "stream",
     "text": [
      "Best trial: 44. Best value: -0.0590135:  62%|██████▏   | 62/100 [00:38<00:22,  1.67it/s]"
     ]
    },
    {
     "name": "stdout",
     "output_type": "stream",
     "text": [
      "[I 2025-10-13 22:34:26,717] Trial 61 finished with value: -0.12303496264133436 and parameters: {'n_features': 68, 'max_depth': 8}. Best is trial 44 with value: -0.05901345609652605.\n"
     ]
    },
    {
     "name": "stderr",
     "output_type": "stream",
     "text": [
      "Best trial: 44. Best value: -0.0590135:  63%|██████▎   | 63/100 [00:39<00:22,  1.64it/s]"
     ]
    },
    {
     "name": "stdout",
     "output_type": "stream",
     "text": [
      "[I 2025-10-13 22:34:27,351] Trial 62 finished with value: -0.06006292768574361 and parameters: {'n_features': 70, 'max_depth': 8}. Best is trial 44 with value: -0.05901345609652605.\n"
     ]
    },
    {
     "name": "stderr",
     "output_type": "stream",
     "text": [
      "Best trial: 44. Best value: -0.0590135:  64%|██████▍   | 64/100 [00:40<00:21,  1.68it/s]"
     ]
    },
    {
     "name": "stdout",
     "output_type": "stream",
     "text": [
      "[I 2025-10-13 22:34:27,921] Trial 63 finished with value: -0.06003060599988095 and parameters: {'n_features': 59, 'max_depth': 8}. Best is trial 44 with value: -0.05901345609652605.\n"
     ]
    },
    {
     "name": "stderr",
     "output_type": "stream",
     "text": [
      "Best trial: 44. Best value: -0.0590135:  65%|██████▌   | 65/100 [00:40<00:22,  1.59it/s]"
     ]
    },
    {
     "name": "stdout",
     "output_type": "stream",
     "text": [
      "[I 2025-10-13 22:34:28,625] Trial 64 finished with value: -0.060105226531455 and parameters: {'n_features': 77, 'max_depth': 8}. Best is trial 44 with value: -0.05901345609652605.\n"
     ]
    },
    {
     "name": "stderr",
     "output_type": "stream",
     "text": [
      "Best trial: 44. Best value: -0.0590135:  66%|██████▌   | 66/100 [00:41<00:20,  1.64it/s]"
     ]
    },
    {
     "name": "stdout",
     "output_type": "stream",
     "text": [
      "[I 2025-10-13 22:34:29,189] Trial 65 finished with value: -0.06624663801117069 and parameters: {'n_features': 65, 'max_depth': 7}. Best is trial 44 with value: -0.05901345609652605.\n"
     ]
    },
    {
     "name": "stderr",
     "output_type": "stream",
     "text": [
      "Best trial: 44. Best value: -0.0590135:  67%|██████▋   | 67/100 [00:42<00:20,  1.57it/s]"
     ]
    },
    {
     "name": "stdout",
     "output_type": "stream",
     "text": [
      "[I 2025-10-13 22:34:29,888] Trial 66 finished with value: -0.06029316675334425 and parameters: {'n_features': 73, 'max_depth': 9}. Best is trial 44 with value: -0.05901345609652605.\n"
     ]
    },
    {
     "name": "stderr",
     "output_type": "stream",
     "text": [
      "Best trial: 44. Best value: -0.0590135:  68%|██████▊   | 68/100 [00:42<00:21,  1.49it/s]"
     ]
    },
    {
     "name": "stdout",
     "output_type": "stream",
     "text": [
      "[I 2025-10-13 22:34:30,635] Trial 67 finished with value: -0.06039813579495713 and parameters: {'n_features': 80, 'max_depth': 8}. Best is trial 44 with value: -0.05901345609652605.\n"
     ]
    },
    {
     "name": "stderr",
     "output_type": "stream",
     "text": [
      "Best trial: 44. Best value: -0.0590135:  69%|██████▉   | 69/100 [00:43<00:21,  1.44it/s]"
     ]
    },
    {
     "name": "stdout",
     "output_type": "stream",
     "text": [
      "[I 2025-10-13 22:34:31,380] Trial 68 finished with value: -0.060456477565621454 and parameters: {'n_features': 76, 'max_depth': 10}. Best is trial 44 with value: -0.05901345609652605.\n"
     ]
    },
    {
     "name": "stderr",
     "output_type": "stream",
     "text": [
      "Best trial: 44. Best value: -0.0590135:  70%|███████   | 70/100 [00:44<00:19,  1.56it/s]"
     ]
    },
    {
     "name": "stdout",
     "output_type": "stream",
     "text": [
      "[I 2025-10-13 22:34:31,905] Trial 69 finished with value: -0.06253090093199441 and parameters: {'n_features': 70, 'max_depth': 5}. Best is trial 44 with value: -0.05901345609652605.\n"
     ]
    },
    {
     "name": "stderr",
     "output_type": "stream",
     "text": [
      "Best trial: 44. Best value: -0.0590135:  71%|███████   | 71/100 [00:44<00:16,  1.71it/s]"
     ]
    },
    {
     "name": "stdout",
     "output_type": "stream",
     "text": [
      "[I 2025-10-13 22:34:32,360] Trial 70 finished with value: -0.12587839907466888 and parameters: {'n_features': 46, 'max_depth': 7}. Best is trial 44 with value: -0.05901345609652605.\n"
     ]
    },
    {
     "name": "stderr",
     "output_type": "stream",
     "text": [
      "Best trial: 44. Best value: -0.0590135:  72%|███████▏  | 72/100 [00:45<00:17,  1.60it/s]"
     ]
    },
    {
     "name": "stdout",
     "output_type": "stream",
     "text": [
      "[I 2025-10-13 22:34:33,082] Trial 71 finished with value: -0.059980780666446715 and parameters: {'n_features': 78, 'max_depth': 8}. Best is trial 44 with value: -0.05901345609652605.\n"
     ]
    },
    {
     "name": "stderr",
     "output_type": "stream",
     "text": [
      "Best trial: 44. Best value: -0.0590135:  73%|███████▎  | 73/100 [00:45<00:17,  1.58it/s]"
     ]
    },
    {
     "name": "stdout",
     "output_type": "stream",
     "text": [
      "[I 2025-10-13 22:34:33,727] Trial 72 finished with value: -0.0611686133845098 and parameters: {'n_features': 73, 'max_depth': 7}. Best is trial 44 with value: -0.05901345609652605.\n"
     ]
    },
    {
     "name": "stderr",
     "output_type": "stream",
     "text": [
      "Best trial: 44. Best value: -0.0590135:  74%|███████▍  | 74/100 [00:46<00:16,  1.60it/s]"
     ]
    },
    {
     "name": "stdout",
     "output_type": "stream",
     "text": [
      "[I 2025-10-13 22:34:34,341] Trial 73 finished with value: -0.06524177525560591 and parameters: {'n_features': 66, 'max_depth': 8}. Best is trial 44 with value: -0.05901345609652605.\n"
     ]
    },
    {
     "name": "stderr",
     "output_type": "stream",
     "text": [
      "Best trial: 44. Best value: -0.0590135:  75%|███████▌  | 75/100 [00:47<00:16,  1.54it/s]"
     ]
    },
    {
     "name": "stdout",
     "output_type": "stream",
     "text": [
      "[I 2025-10-13 22:34:35,043] Trial 74 finished with value: -0.09338546126936705 and parameters: {'n_features': 76, 'max_depth': 9}. Best is trial 44 with value: -0.05901345609652605.\n"
     ]
    },
    {
     "name": "stderr",
     "output_type": "stream",
     "text": [
      "Best trial: 44. Best value: -0.0590135:  76%|███████▌  | 76/100 [00:47<00:14,  1.60it/s]"
     ]
    },
    {
     "name": "stdout",
     "output_type": "stream",
     "text": [
      "[I 2025-10-13 22:34:35,606] Trial 75 finished with value: -0.09364564704560734 and parameters: {'n_features': 63, 'max_depth': 8}. Best is trial 44 with value: -0.05901345609652605.\n"
     ]
    },
    {
     "name": "stderr",
     "output_type": "stream",
     "text": [
      "Best trial: 44. Best value: -0.0590135:  77%|███████▋  | 77/100 [00:48<00:14,  1.54it/s]"
     ]
    },
    {
     "name": "stdout",
     "output_type": "stream",
     "text": [
      "[I 2025-10-13 22:34:36,315] Trial 76 finished with value: -0.06002307349520402 and parameters: {'n_features': 80, 'max_depth': 7}. Best is trial 44 with value: -0.05901345609652605.\n"
     ]
    },
    {
     "name": "stderr",
     "output_type": "stream",
     "text": [
      "Best trial: 44. Best value: -0.0590135:  79%|███████▉  | 79/100 [00:49<00:10,  1.99it/s]"
     ]
    },
    {
     "name": "stdout",
     "output_type": "stream",
     "text": [
      "[I 2025-10-13 22:34:36,989] Trial 77 finished with value: -0.06535319013044028 and parameters: {'n_features': 68, 'max_depth': 9}. Best is trial 44 with value: -0.05901345609652605.\n",
      "[I 2025-10-13 22:34:37,136] Trial 78 finished with value: -0.16604061617731383 and parameters: {'n_features': 9, 'max_depth': 8}. Best is trial 44 with value: -0.05901345609652605.\n"
     ]
    },
    {
     "name": "stderr",
     "output_type": "stream",
     "text": [
      "Best trial: 44. Best value: -0.0590135:  80%|████████  | 80/100 [00:50<00:11,  1.77it/s]"
     ]
    },
    {
     "name": "stdout",
     "output_type": "stream",
     "text": [
      "[I 2025-10-13 22:34:37,840] Trial 79 finished with value: -0.05994039516298392 and parameters: {'n_features': 71, 'max_depth': 10}. Best is trial 44 with value: -0.05901345609652605.\n"
     ]
    },
    {
     "name": "stderr",
     "output_type": "stream",
     "text": [
      "Best trial: 44. Best value: -0.0590135:  81%|████████  | 81/100 [00:50<00:11,  1.62it/s]"
     ]
    },
    {
     "name": "stdout",
     "output_type": "stream",
     "text": [
      "[I 2025-10-13 22:34:38,582] Trial 80 finished with value: -0.060330067432724815 and parameters: {'n_features': 75, 'max_depth': 9}. Best is trial 44 with value: -0.05901345609652605.\n"
     ]
    },
    {
     "name": "stderr",
     "output_type": "stream",
     "text": [
      "Best trial: 44. Best value: -0.0590135:  82%|████████▏ | 82/100 [00:51<00:10,  1.64it/s]"
     ]
    },
    {
     "name": "stdout",
     "output_type": "stream",
     "text": [
      "[I 2025-10-13 22:34:39,174] Trial 81 finished with value: -0.06086543858451867 and parameters: {'n_features': 73, 'max_depth': 6}. Best is trial 44 with value: -0.05901345609652605.\n"
     ]
    },
    {
     "name": "stderr",
     "output_type": "stream",
     "text": [
      "Best trial: 44. Best value: -0.0590135:  83%|████████▎ | 83/100 [00:52<00:10,  1.62it/s]"
     ]
    },
    {
     "name": "stdout",
     "output_type": "stream",
     "text": [
      "[I 2025-10-13 22:34:39,810] Trial 82 finished with value: -0.060554638683970104 and parameters: {'n_features': 78, 'max_depth': 6}. Best is trial 44 with value: -0.05901345609652605.\n"
     ]
    },
    {
     "name": "stderr",
     "output_type": "stream",
     "text": [
      "Best trial: 44. Best value: -0.0590135:  84%|████████▍ | 84/100 [00:52<00:09,  1.73it/s]"
     ]
    },
    {
     "name": "stdout",
     "output_type": "stream",
     "text": [
      "[I 2025-10-13 22:34:40,295] Trial 83 finished with value: -0.06620986567901695 and parameters: {'n_features': 59, 'max_depth': 6}. Best is trial 44 with value: -0.05901345609652605.\n"
     ]
    },
    {
     "name": "stderr",
     "output_type": "stream",
     "text": [
      "Best trial: 44. Best value: -0.0590135:  85%|████████▌ | 85/100 [00:53<00:08,  1.77it/s]"
     ]
    },
    {
     "name": "stdout",
     "output_type": "stream",
     "text": [
      "[I 2025-10-13 22:34:40,834] Trial 84 finished with value: -0.09810611676962146 and parameters: {'n_features': 75, 'max_depth': 5}. Best is trial 44 with value: -0.05901345609652605.\n"
     ]
    },
    {
     "name": "stderr",
     "output_type": "stream",
     "text": [
      "Best trial: 44. Best value: -0.0590135:  86%|████████▌ | 86/100 [00:53<00:07,  1.79it/s]"
     ]
    },
    {
     "name": "stdout",
     "output_type": "stream",
     "text": [
      "[I 2025-10-13 22:34:41,376] Trial 85 finished with value: -0.10688601741149263 and parameters: {'n_features': 67, 'max_depth': 7}. Best is trial 44 with value: -0.05901345609652605.\n"
     ]
    },
    {
     "name": "stderr",
     "output_type": "stream",
     "text": [
      "Best trial: 44. Best value: -0.0590135:  87%|████████▋ | 87/100 [00:54<00:08,  1.53it/s]"
     ]
    },
    {
     "name": "stdout",
     "output_type": "stream",
     "text": [
      "[I 2025-10-13 22:34:42,255] Trial 86 finished with value: -0.1134600554106412 and parameters: {'n_features': 71, 'max_depth': 9}. Best is trial 44 with value: -0.05901345609652605.\n"
     ]
    },
    {
     "name": "stderr",
     "output_type": "stream",
     "text": [
      "Best trial: 44. Best value: -0.0590135:  88%|████████▊ | 88/100 [00:55<00:08,  1.46it/s]"
     ]
    },
    {
     "name": "stdout",
     "output_type": "stream",
     "text": [
      "[I 2025-10-13 22:34:43,003] Trial 87 finished with value: -0.059923151970579014 and parameters: {'n_features': 78, 'max_depth': 8}. Best is trial 44 with value: -0.05901345609652605.\n"
     ]
    },
    {
     "name": "stderr",
     "output_type": "stream",
     "text": [
      "Best trial: 44. Best value: -0.0590135:  89%|████████▉ | 89/100 [00:55<00:06,  1.59it/s]"
     ]
    },
    {
     "name": "stdout",
     "output_type": "stream",
     "text": [
      "[I 2025-10-13 22:34:43,510] Trial 88 finished with value: -0.09312897546082954 and parameters: {'n_features': 55, 'max_depth': 8}. Best is trial 44 with value: -0.05901345609652605.\n"
     ]
    },
    {
     "name": "stderr",
     "output_type": "stream",
     "text": [
      "Best trial: 44. Best value: -0.0590135:  90%|█████████ | 90/100 [00:56<00:06,  1.52it/s]"
     ]
    },
    {
     "name": "stdout",
     "output_type": "stream",
     "text": [
      "[I 2025-10-13 22:34:44,226] Trial 89 finished with value: -0.06012594387349172 and parameters: {'n_features': 79, 'max_depth': 8}. Best is trial 44 with value: -0.05901345609652605.\n"
     ]
    },
    {
     "name": "stderr",
     "output_type": "stream",
     "text": [
      "Best trial: 44. Best value: -0.0590135:  91%|█████████ | 91/100 [00:57<00:06,  1.50it/s]"
     ]
    },
    {
     "name": "stdout",
     "output_type": "stream",
     "text": [
      "[I 2025-10-13 22:34:44,920] Trial 90 finished with value: -0.05930899364078466 and parameters: {'n_features': 77, 'max_depth': 8}. Best is trial 44 with value: -0.05901345609652605.\n"
     ]
    },
    {
     "name": "stderr",
     "output_type": "stream",
     "text": [
      "Best trial: 44. Best value: -0.0590135:  92%|█████████▏| 92/100 [00:57<00:05,  1.47it/s]"
     ]
    },
    {
     "name": "stdout",
     "output_type": "stream",
     "text": [
      "[I 2025-10-13 22:34:45,633] Trial 91 finished with value: -0.060007309801592155 and parameters: {'n_features': 76, 'max_depth': 8}. Best is trial 44 with value: -0.05901345609652605.\n"
     ]
    },
    {
     "name": "stderr",
     "output_type": "stream",
     "text": [
      "Best trial: 44. Best value: -0.0590135:  93%|█████████▎| 93/100 [00:58<00:04,  1.44it/s]"
     ]
    },
    {
     "name": "stdout",
     "output_type": "stream",
     "text": [
      "[I 2025-10-13 22:34:46,361] Trial 92 finished with value: -0.06025897571992128 and parameters: {'n_features': 78, 'max_depth': 8}. Best is trial 44 with value: -0.05901345609652605.\n"
     ]
    },
    {
     "name": "stderr",
     "output_type": "stream",
     "text": [
      "Best trial: 44. Best value: -0.0590135:  94%|█████████▍| 94/100 [00:59<00:04,  1.44it/s]"
     ]
    },
    {
     "name": "stdout",
     "output_type": "stream",
     "text": [
      "[I 2025-10-13 22:34:47,056] Trial 93 finished with value: -0.05999459089412058 and parameters: {'n_features': 74, 'max_depth': 8}. Best is trial 44 with value: -0.05901345609652605.\n"
     ]
    },
    {
     "name": "stderr",
     "output_type": "stream",
     "text": [
      "Best trial: 44. Best value: -0.0590135:  95%|█████████▌| 95/100 [01:00<00:03,  1.39it/s]"
     ]
    },
    {
     "name": "stdout",
     "output_type": "stream",
     "text": [
      "[I 2025-10-13 22:34:47,832] Trial 94 finished with value: -0.059666752653130324 and parameters: {'n_features': 80, 'max_depth': 9}. Best is trial 44 with value: -0.05901345609652605.\n"
     ]
    },
    {
     "name": "stderr",
     "output_type": "stream",
     "text": [
      "Best trial: 44. Best value: -0.0590135:  96%|█████████▌| 96/100 [01:00<00:02,  1.62it/s]"
     ]
    },
    {
     "name": "stdout",
     "output_type": "stream",
     "text": [
      "[I 2025-10-13 22:34:48,213] Trial 95 finished with value: -0.06582171294049809 and parameters: {'n_features': 37, 'max_depth': 9}. Best is trial 44 with value: -0.05901345609652605.\n"
     ]
    },
    {
     "name": "stderr",
     "output_type": "stream",
     "text": [
      "Best trial: 44. Best value: -0.0590135:  97%|█████████▋| 97/100 [01:01<00:01,  1.51it/s]"
     ]
    },
    {
     "name": "stdout",
     "output_type": "stream",
     "text": [
      "[I 2025-10-13 22:34:48,983] Trial 96 finished with value: -0.06059186656983473 and parameters: {'n_features': 80, 'max_depth': 9}. Best is trial 44 with value: -0.05901345609652605.\n"
     ]
    },
    {
     "name": "stderr",
     "output_type": "stream",
     "text": [
      "Best trial: 44. Best value: -0.0590135:  98%|█████████▊| 98/100 [01:01<00:01,  1.50it/s]"
     ]
    },
    {
     "name": "stdout",
     "output_type": "stream",
     "text": [
      "[I 2025-10-13 22:34:49,657] Trial 97 finished with value: -0.0599062343092669 and parameters: {'n_features': 69, 'max_depth': 10}. Best is trial 44 with value: -0.05901345609652605.\n"
     ]
    },
    {
     "name": "stderr",
     "output_type": "stream",
     "text": [
      "Best trial: 44. Best value: -0.0590135:  99%|█████████▉| 99/100 [01:02<00:00,  1.48it/s]"
     ]
    },
    {
     "name": "stdout",
     "output_type": "stream",
     "text": [
      "[I 2025-10-13 22:34:50,347] Trial 98 finished with value: -0.059734726476634394 and parameters: {'n_features': 69, 'max_depth': 10}. Best is trial 44 with value: -0.05901345609652605.\n"
     ]
    },
    {
     "name": "stderr",
     "output_type": "stream",
     "text": [
      "Best trial: 44. Best value: -0.0590135: 100%|██████████| 100/100 [01:03<00:00,  1.58it/s]"
     ]
    },
    {
     "name": "stdout",
     "output_type": "stream",
     "text": [
      "[I 2025-10-13 22:34:51,049] Trial 99 finished with value: -0.061109748905535576 and parameters: {'n_features': 72, 'max_depth': 10}. Best is trial 44 with value: -0.05901345609652605.\n"
     ]
    },
    {
     "name": "stderr",
     "output_type": "stream",
     "text": [
      "\n"
     ]
    }
   ],
   "source": [
    "import optuna\n",
    "from sklearn.ensemble import RandomForestRegressor\n",
    "from sklearn.model_selection import cross_val_score\n",
    "import numpy as np\n",
    "\n",
    "X_train = train_prep.drop(columns=excluded_features).to_numpy()\n",
    "X_features_names = train_prep.drop(columns=excluded_features).columns.to_list()\n",
    "\n",
    "Y_train = train_prep[\"def_45\"].to_numpy()\n",
    "\n",
    "print(f\"X_train shape: {X_train.shape}\")\n",
    "print(f\"Y_train shape: {Y_train.shape}\")\n",
    "print(f\"Количество фичей: {len(X_features_names)}\")\n",
    "\n",
    "\n",
    "def objective_fast(trial, X, y, feature_names):\n",
    "    # Выбираем количество фичей\n",
    "    n_features = trial.suggest_int(\"n_features\", 5, len(feature_names))\n",
    "\n",
    "    # Случайный выбор фичей\n",
    "    selected_idx = np.random.choice(len(feature_names), size=n_features, replace=False)\n",
    "\n",
    "    X_selected = X[:, selected_idx]\n",
    "\n",
    "    model = RandomForestRegressor(  # ИЗМЕНЕНО\n",
    "        n_estimators=50,\n",
    "        max_depth=trial.suggest_int(\"max_depth\", 3, 10),\n",
    "        random_state=42,\n",
    "        n_jobs=-1,\n",
    "    )\n",
    "\n",
    "    score = cross_val_score(\n",
    "        model, X_selected, y, cv=3, scoring=\"neg_mean_squared_error\", n_jobs=-1\n",
    "    ).mean()\n",
    "\n",
    "    # Сохраняем выбранные фичи\n",
    "    trial.set_user_attr(\"selected_features\", selected_idx.tolist())\n",
    "    trial.set_user_attr(\"n_features\", n_features)\n",
    "\n",
    "    return score\n",
    "\n",
    "\n",
    "study = optuna.create_study(direction=\"maximize\")\n",
    "study.optimize(\n",
    "    lambda trial: objective_fast(\n",
    "        trial, X_train, Y_train, X_features_names\n",
    "    ),  # ИСПРАВЛЕНО\n",
    "    n_trials=100,\n",
    "    show_progress_bar=True,\n",
    ")"
   ]
  },
  {
   "cell_type": "code",
   "execution_count": 34,
   "id": "aa012fff",
   "metadata": {},
   "outputs": [],
   "source": [
    "best_selected_idx = study.best_trial.user_attrs[\"selected_features\"]\n",
    "best_features = [X_features_names[i] for i in best_selected_idx]"
   ]
  },
  {
   "cell_type": "code",
   "execution_count": 35,
   "id": "b0d03718",
   "metadata": {},
   "outputs": [
    {
     "data": {
      "text/plain": [
       "['avg_loan_term_months',\n",
       " 'credit_score_volatility_3y',\n",
       " 'OKB_score',\n",
       " 'antibankrupt_score',\n",
       " 'avg_time_since_account_open',\n",
       " 'num_loans_with_guarantor',\n",
       " 'total_interest_paid_5y',\n",
       " 'gamma_refactor_pod',\n",
       " 'proportion_salary_deposited',\n",
       " 'num_late_payments_last_24m_7',\n",
       " 'avg_loan_to_income_ratio',\n",
       " 'num_overdrafts_6m',\n",
       " 'credit_score_trend_12m_153',\n",
       " 'fraud_score',\n",
       " 'avg_account_age_years',\n",
       " 'num_authorized_users_on_accounts',\n",
       " 'MTS_score',\n",
       " 'avg_down_payment_percent',\n",
       " 'max_credit_limit',\n",
       " 'id_2804_foo',\n",
       " 'num_early_closures_penalized_loans',\n",
       " 'Rusinterfinance_vector',\n",
       " 'highest_account_balance',\n",
       " 'num_secured_loans',\n",
       " 'wrangle_bitport_8',\n",
       " 'num_payday_loans',\n",
       " 'id_7438_quux',\n",
       " 'num_closed_accounts_3y_14',\n",
       " 'num_auto_loans_201',\n",
       " 'min_loan_duration_months',\n",
       " 'quanta_latch_jx',\n",
       " 'application_datetime_0',\n",
       " 'num_dormant_credit_cards',\n",
       " 'MTS_score_1',\n",
       " 'num_accounts_judgment',\n",
       " 'num_family_members_as_coapplicants',\n",
       " 'num_auto_loans_131',\n",
       " 'credit_mix_diversification_score',\n",
       " 'min_credit_card_limit',\n",
       " 'num_mortgage_loans',\n",
       " 'OKB_score_3',\n",
       " 'delta_noise_pin',\n",
       " 'num_successful_early_repayments_106',\n",
       " 'avg_time_since_account_open_119',\n",
       " 'num_loans_with_guarantor_163',\n",
       " 'recent_loan_application_days',\n",
       " 'percent_payments_on_time_2y_156',\n",
       " 'total_debt_outstanding_167',\n",
       " 'num_auto_loans_61',\n",
       " 'checksum',\n",
       " 'num_unsecured_loans',\n",
       " 'ekapusta_vector_9',\n",
       " 'avg_credit_card_utilization_last_12m_half',\n",
       " 'id_9625_foo',\n",
       " 'percent_payments_on_time_2y_16',\n",
       " 'polysync_emitter_vx',\n",
       " 'avg_monthly_deposit_amount',\n",
       " 'num_payday_loans_133',\n",
       " 'median_days_between_inquiries',\n",
       " 'num_accounts_with_past_due_status',\n",
       " 'Unnamed: 0',\n",
       " 'frequency_credit_line_increase_requests',\n",
       " 'avg_credit_card_utilization_last_12m_146',\n",
       " 'avg_installment_loan_amount',\n",
       " 'avg_down_payment_percent_64',\n",
       " 'max_utilization_single_card_half',\n",
       " 'num_recent_credit_limit_reductions_126',\n",
       " 'num_recent_credit_limit_reductions',\n",
       " 'avg_percent_credit_line_used',\n",
       " 'monthly_payment_burden',\n",
       " 'num_settled_defaults_5y_194',\n",
       " 'frequency_of_balance_transfers_2y']"
      ]
     },
     "execution_count": 35,
     "metadata": {},
     "output_type": "execute_result"
    }
   ],
   "source": [
    "best_features"
   ]
  },
  {
   "cell_type": "code",
   "execution_count": 37,
   "id": "8184321e",
   "metadata": {},
   "outputs": [],
   "source": [
    "with open(\"features_list.txt\", \"w\") as f:\n",
    "    for item in best_features + excluded_features:\n",
    "        print(item, file=f)"
   ]
  }
 ],
 "metadata": {
  "kernelspec": {
   "display_name": "credit-scoring",
   "language": "python",
   "name": "python3"
  },
  "language_info": {
   "codemirror_mode": {
    "name": "ipython",
    "version": 3
   },
   "file_extension": ".py",
   "mimetype": "text/x-python",
   "name": "python",
   "nbconvert_exporter": "python",
   "pygments_lexer": "ipython3",
   "version": "3.13.5"
  }
 },
 "nbformat": 4,
 "nbformat_minor": 5
}
