{
 "cells": [
  {
   "cell_type": "code",
   "execution_count": 1,
   "id": "79ded851",
   "metadata": {},
   "outputs": [],
   "source": [
    "import pandas as pd\n",
    "import numpy as np\n",
    "from pathlib import Path\n",
    "\n",
    "data = pd.read_csv(\"data/dataset.csv\")\n",
    "\n",
    "\n",
    "feature_list = [\n",
    "    item for item in Path(\"features_list.txt\").read_text().split(\"\\n\") if item\n",
    "]"
   ]
  },
  {
   "cell_type": "code",
   "execution_count": 2,
   "id": "1f0510d5",
   "metadata": {},
   "outputs": [],
   "source": [
    "data.drop(data.loc[data[\"def_45\"].isna()].index, inplace=True)"
   ]
  },
  {
   "cell_type": "code",
   "execution_count": 3,
   "id": "e1cf3bda",
   "metadata": {},
   "outputs": [],
   "source": [
    "from sklearn.compose import ColumnTransformer\n",
    "from sklearn.preprocessing import OrdinalEncoder, StandardScaler\n",
    "import re\n",
    "\n",
    "\n",
    "class Preprocessor:\n",
    "    feature_list: list[str]\n",
    "    column_transformer: ColumnTransformer\n",
    "    exclude_cols: list[str]\n",
    "    categorized_columns: dict[str, list[str]]\n",
    "\n",
    "    def __init__(self, feature_list: list[str], exclude_cols: list[str]) -> None:\n",
    "        self.feature_list = feature_list\n",
    "        self.exclude_cols = exclude_cols\n",
    "\n",
    "    def _init_transformer_params(self) -> None:\n",
    "        self.transformer_params = {\n",
    "            \"transformers\": [\n",
    "                (\"cats\", OrdinalEncoder(), self.categorized_columns.get(\"categorical\")),\n",
    "                (\n",
    "                    \"numscaler\",\n",
    "                    StandardScaler(),\n",
    "                    self.categorized_columns.get(\"numeric\"),\n",
    "                ),\n",
    "            ],\n",
    "            \"remainder\": \"passthrough\",\n",
    "            \"verbose\": True,\n",
    "        }\n",
    "\n",
    "    def _train_transformer(self, data: pd.DataFrame) -> None:\n",
    "        self._init_transformer_params()\n",
    "        self.column_transformer = ColumnTransformer(**self.transformer_params)\n",
    "        self.column_transformer.fit(data)\n",
    "\n",
    "    def _categorize_columns(self, data: pd.DataFrame) -> None:\n",
    "        numeric_cols = []\n",
    "        boolean_cols = []\n",
    "        categorical_cols = []\n",
    "\n",
    "        for col in data.columns:\n",
    "            # Булевые (bool или содержат только 0/1, True/False)\n",
    "            if data[col].dtype == \"bool\":\n",
    "                boolean_cols.append(col)\n",
    "            # Числовые (int, float)\n",
    "            elif pd.api.types.is_numeric_dtype(data[col]):\n",
    "                # Проверяем, не является ли числовая колонка на самом деле булевой\n",
    "                unique_vals = data[col].dropna().unique()\n",
    "                if len(unique_vals) == 2 and set(unique_vals).issubset({0, 1}):\n",
    "                    boolean_cols.append(col)\n",
    "                else:\n",
    "                    numeric_cols.append(col)\n",
    "            # Категориальные (object, category, datetime)\n",
    "            else:\n",
    "                categorical_cols.append(col)\n",
    "\n",
    "        self.categorized_columns = {\n",
    "            \"numeric\": numeric_cols,\n",
    "            \"boolean\": boolean_cols,\n",
    "            \"categorical\": categorical_cols,\n",
    "        }\n",
    "\n",
    "    @staticmethod\n",
    "    def _remove_duplicates(data: pd.DataFrame) -> pd.DataFrame:\n",
    "        return data.drop_duplicates()\n",
    "\n",
    "    @staticmethod\n",
    "    def _fill_missing_values(\n",
    "        data: pd.DataFrame, num_cols: list[str], cat_cols: list[str]\n",
    "    ) -> pd.DataFrame:\n",
    "        data = data.copy()\n",
    "\n",
    "        for col in num_cols:\n",
    "            if data[col].isna().any():\n",
    "                data[col].fillna(data[col].mean(), inplace=True)\n",
    "\n",
    "        for col in cat_cols:\n",
    "            if data[col].isna().any():\n",
    "                mode_value = data[col].mode()\n",
    "                if not mode_value.empty:\n",
    "                    data[col].fillna(mode_value.iloc[0], inplace=True)\n",
    "\n",
    "        return data\n",
    "\n",
    "    @staticmethod\n",
    "    def _remove_prefixes(columns: list[str]) -> list[str]:\n",
    "        pattern = r\"^(cats__|numscaler__|remainder__)\"\n",
    "        return [re.sub(pattern, \"\", col) for col in columns]\n",
    "\n",
    "    def transform_data(self, data: pd.DataFrame) -> pd.DataFrame:\n",
    "        step_0 = data[self.feature_list].copy()\n",
    "\n",
    "        # Сохраняем excluded колонки ДО обработки\n",
    "        excluded_data = step_0[self.exclude_cols].copy()\n",
    "\n",
    "        self._categorize_columns(step_0.drop(columns=self.exclude_cols))\n",
    "\n",
    "        step_1 = self._remove_duplicates(step_0.drop(columns=self.exclude_cols))\n",
    "\n",
    "        # Сохраняем индексы после удаления дубликатов\n",
    "        valid_indices = step_1.index\n",
    "\n",
    "        step_2 = self._fill_missing_values(\n",
    "            step_1,\n",
    "            self.categorized_columns.get(\"numeric\"),\n",
    "            self.categorized_columns.get(\"categorical\"),\n",
    "        )\n",
    "\n",
    "        # Добавляем excluded колонки ТОЛЬКО для сохранившихся индексов\n",
    "        for col in self.exclude_cols:\n",
    "            step_2[col] = excluded_data.loc[valid_indices, col].values\n",
    "\n",
    "        self._train_transformer(step_2)\n",
    "\n",
    "        step_3_array = self.column_transformer.transform(step_2)\n",
    "        step_3 = pd.DataFrame(\n",
    "            step_3_array,\n",
    "            columns=self._remove_prefixes(\n",
    "                self.column_transformer.get_feature_names_out()\n",
    "            ),\n",
    "        )\n",
    "\n",
    "        return step_3"
   ]
  },
  {
   "cell_type": "code",
   "execution_count": 4,
   "id": "fe76ea53",
   "metadata": {},
   "outputs": [],
   "source": [
    "train_preprocessor = Preprocessor(\n",
    "    feature_list=feature_list, exclude_cols=[\"application_datetime\", \"def_45\"]\n",
    ")\n",
    "\n",
    "test_preprocessor = Preprocessor(\n",
    "    feature_list=feature_list, exclude_cols=[\"application_datetime\", \"def_45\"]\n",
    ")\n",
    "\n",
    "valid_preprocessor = Preprocessor(\n",
    "    feature_list=feature_list, exclude_cols=[\"application_datetime\", \"def_45\"]\n",
    ")"
   ]
  },
  {
   "cell_type": "code",
   "execution_count": 5,
   "id": "05cde1fc",
   "metadata": {},
   "outputs": [],
   "source": [
    "from utils import split_data\n",
    "\n",
    "\n",
    "train_valid, test = split_data(data, split_column=\"application_datetime\", ratio=0.8)\n",
    "\n",
    "\n",
    "train, valid = split_data(train_valid, split_column=\"application_datetime\", ratio=0.8)\n",
    "\n",
    "del train_valid"
   ]
  },
  {
   "cell_type": "code",
   "execution_count": 6,
   "id": "09b028b6",
   "metadata": {},
   "outputs": [
    {
     "name": "stdout",
     "output_type": "stream",
     "text": [
      "[ColumnTransformer] ..... (1 of 2) Processing numscaler, total=   0.0s\n",
      "[ColumnTransformer] ..... (2 of 2) Processing remainder, total=   0.0s\n",
      "[ColumnTransformer] ..... (1 of 2) Processing numscaler, total=   0.0s\n",
      "[ColumnTransformer] ..... (2 of 2) Processing remainder, total=   0.0s\n",
      "[ColumnTransformer] ..... (1 of 2) Processing numscaler, total=   0.0s\n",
      "[ColumnTransformer] ..... (2 of 2) Processing remainder, total=   0.0s\n"
     ]
    },
    {
     "name": "stderr",
     "output_type": "stream",
     "text": [
      "/tmp/ipykernel_143137/3575576222.py:77: FutureWarning: A value is trying to be set on a copy of a DataFrame or Series through chained assignment using an inplace method.\n",
      "The behavior will change in pandas 3.0. This inplace method will never work because the intermediate object on which we are setting values always behaves as a copy.\n",
      "\n",
      "For example, when doing 'df[col].method(value, inplace=True)', try using 'df.method({col: value}, inplace=True)' or df[col] = df[col].method(value) instead, to perform the operation inplace on the original object.\n",
      "\n",
      "\n",
      "  data[col].fillna(data[col].mean(), inplace=True)\n",
      "/tmp/ipykernel_143137/3575576222.py:77: FutureWarning: A value is trying to be set on a copy of a DataFrame or Series through chained assignment using an inplace method.\n",
      "The behavior will change in pandas 3.0. This inplace method will never work because the intermediate object on which we are setting values always behaves as a copy.\n",
      "\n",
      "For example, when doing 'df[col].method(value, inplace=True)', try using 'df.method({col: value}, inplace=True)' or df[col] = df[col].method(value) instead, to perform the operation inplace on the original object.\n",
      "\n",
      "\n",
      "  data[col].fillna(data[col].mean(), inplace=True)\n",
      "/tmp/ipykernel_143137/3575576222.py:77: FutureWarning: A value is trying to be set on a copy of a DataFrame or Series through chained assignment using an inplace method.\n",
      "The behavior will change in pandas 3.0. This inplace method will never work because the intermediate object on which we are setting values always behaves as a copy.\n",
      "\n",
      "For example, when doing 'df[col].method(value, inplace=True)', try using 'df.method({col: value}, inplace=True)' or df[col] = df[col].method(value) instead, to perform the operation inplace on the original object.\n",
      "\n",
      "\n",
      "  data[col].fillna(data[col].mean(), inplace=True)\n"
     ]
    }
   ],
   "source": [
    "train = train_preprocessor.transform_data(train)\n",
    "test = test_preprocessor.transform_data(test)\n",
    "valid = valid_preprocessor.transform_data(valid)"
   ]
  },
  {
   "cell_type": "code",
   "execution_count": 7,
   "id": "50bb5e80",
   "metadata": {},
   "outputs": [],
   "source": [
    "import numpy as np\n",
    "import pandas as pd\n",
    "from pathlib import Path\n",
    "from sklearn.metrics import get_scorer_names, roc_auc_score, roc_curve\n",
    "from catboost import CatBoostClassifier, Pool\n",
    "\n",
    "cat_features = train_preprocessor.categorized_columns.get(\"categorical\")\n",
    "train_target = train.pop(\"def_45\")\n",
    "valid_target = valid.pop(\"def_45\")\n",
    "test_target = test.pop(\"def_45\")\n",
    "\n",
    "\n",
    "train_pool = Pool(\n",
    "    train.drop(columns=[\"application_datetime\"]),\n",
    "    label=train_target,\n",
    "    cat_features=cat_features,\n",
    ")\n",
    "\n",
    "valid_pool = Pool(\n",
    "    valid.drop(columns=[\"application_datetime\"]),\n",
    "    label=valid_target,\n",
    "    cat_features=cat_features,\n",
    ")\n",
    "\n",
    "test_pool = Pool(\n",
    "    test.drop(columns=[\"application_datetime\"]),\n",
    "    label=test_target,\n",
    "    cat_features=cat_features,\n",
    ")"
   ]
  },
  {
   "cell_type": "code",
   "execution_count": 8,
   "id": "b066bf0b",
   "metadata": {},
   "outputs": [
    {
     "name": "stdout",
     "output_type": "stream",
     "text": [
      "0:\ttotal: 48.7ms\tremaining: 48.7s\n",
      "100:\ttotal: 200ms\tremaining: 1.78s\n",
      "200:\ttotal: 349ms\tremaining: 1.39s\n",
      "300:\ttotal: 495ms\tremaining: 1.15s\n",
      "400:\ttotal: 654ms\tremaining: 976ms\n",
      "500:\ttotal: 826ms\tremaining: 823ms\n",
      "600:\ttotal: 971ms\tremaining: 645ms\n",
      "700:\ttotal: 1.12s\tremaining: 478ms\n",
      "800:\ttotal: 1.28s\tremaining: 319ms\n",
      "900:\ttotal: 1.43s\tremaining: 157ms\n",
      "999:\ttotal: 1.57s\tremaining: 0us\n"
     ]
    },
    {
     "data": {
      "text/plain": [
       "<catboost.core.CatBoostClassifier at 0x786d7536cec0>"
      ]
     },
     "execution_count": 8,
     "metadata": {},
     "output_type": "execute_result"
    }
   ],
   "source": [
    "model = CatBoostClassifier(\n",
    "    iterations=1000,\n",
    "    learning_rate=0.03,\n",
    "    depth=6,\n",
    "    l2_leaf_reg=3,\n",
    "    random_seed=42,\n",
    "    auto_class_weights=\"Balanced\",\n",
    "    early_stopping_rounds=50,\n",
    "    eval_metric=\"AUC\",\n",
    "    verbose=100,\n",
    ")\n",
    "\n",
    "model.fit(train_pool)"
   ]
  },
  {
   "cell_type": "code",
   "execution_count": 9,
   "id": "dd9770a0",
   "metadata": {},
   "outputs": [
    {
     "name": "stdout",
     "output_type": "stream",
     "text": [
      "ROC AUC:  0.9818424137799893\n"
     ]
    }
   ],
   "source": [
    "p_v = model.predict(valid_pool)\n",
    "print(\"ROC AUC: \", roc_auc_score(valid_target.to_list(), p_v))"
   ]
  },
  {
   "cell_type": "code",
   "execution_count": 10,
   "id": "a2cc9d78",
   "metadata": {},
   "outputs": [
    {
     "name": "stdout",
     "output_type": "stream",
     "text": [
      "ROC AUC:  0.9900197628458498\n"
     ]
    }
   ],
   "source": [
    "p_t = model.predict(test_pool)\n",
    "print(\"ROC AUC: \", roc_auc_score(test_target.to_list(), p_t))"
   ]
  },
  {
   "cell_type": "code",
   "execution_count": 15,
   "id": "84e604b5",
   "metadata": {},
   "outputs": [
    {
     "data": {
      "image/png": "[encoded data removed]",
      "text/plain": [
       "<Figure size 640x480 with 1 Axes>"
      ]
     },
     "metadata": {},
     "output_type": "display_data"
    }
   ],
   "source": [
    "import matplotlib.pyplot as plt\n",
    "import seaborn as sns\n",
    "\n",
    "\n",
    "fig = plt.Figure()\n",
    "\n",
    "valid_curve = roc_curve(valid_target.to_list(), p_v)\n",
    "\n",
    "test_curve = roc_curve(test_target.to_list(), p_t)\n",
    "\n",
    "\n",
    "sns.lineplot(x=valid_curve[0], y=valid_curve[1])\n",
    "sns.lineplot(\n",
    "    x=test_curve[0],\n",
    "    y=test_curve[1],\n",
    ")\n",
    "sns.color_palette(\"pastel\")\n",
    "\n",
    "\n",
    "plt.tight_layout()\n",
    "plt.grid()"
   ]
  },
  {
   "cell_type": "code",
   "execution_count": null,
   "id": "a95fa18a",
   "metadata": {},
   "outputs": [
    {
     "data": {
      "image/png": "[encoded data removed]",
      "text/plain": [
       "<Figure size 800x600 with 1 Axes>"
      ]
     },
     "metadata": {},
     "output_type": "display_data"
    }
   ],
   "source": [
    "import matplotlib.pyplot as plt\n",
    "import seaborn as sns\n",
    "from sklearn.metrics import roc_curve, auc\n",
    "\n",
    "# Правильная инициализация фигуры\n",
    "fig, ax = plt.subplots(figsize=(8, 6))\n",
    "\n",
    "# Вычисляем ROC кривые\n",
    "valid_fpr, valid_tpr, _ = roc_curve(valid_target.to_list(), p_v)\n",
    "test_fpr, test_tpr, _ = roc_curve(test_target.to_list(), p_t)\n",
    "\n",
    "# Вычисляем AUC для отображения в легенде\n",
    "valid_auc = auc(valid_fpr, valid_tpr)\n",
    "test_auc = auc(test_fpr, test_tpr)\n",
    "\n",
    "# Устанавливаем палитру\n",
    "sns.set_palette(\"pastel\")\n",
    "\n",
    "sns.lineplot(\n",
    "    x=valid_fpr, y=valid_tpr, label=f\"Validation (AUC = {valid_auc:.3f})\", ax=ax\n",
    ")\n",
    "sns.lineplot(x=test_fpr, y=test_tpr, label=f\"Test (AUC = {test_auc:.3f})\", ax=ax)\n",
    "\n",
    "# Добавляем диагональную линию (случайный классификатор)\n",
    "ax.plot([0, 1], [0, 1], \"k--\", lw=1, label=\"Random (AUC = 0.5)\")\n",
    "\n",
    "# Настройки графика\n",
    "ax.set_xlabel(\"False Positive Rate\")\n",
    "ax.set_ylabel(\"True Positive Rate\")\n",
    "ax.set_title(\"ROC Curve\")\n",
    "ax.legend(loc=\"lower right\")\n",
    "ax.grid(True, alpha=0.3)\n",
    "\n",
    "plt.tight_layout()\n",
    "plt.show()"
   ]
  },
  {
   "cell_type": "markdown",
   "id": "679a4593",
   "metadata": {},
   "source": [
    "Обучение модели, валидация\n",
    "Как валидировать? Как тестировать? В чём отличие?)"
   ]
  },
  {
   "cell_type": "markdown",
   "id": "42f50f64",
   "metadata": {},
   "source": [
    "Ответ: Валидационная выборка нужна для того, чтобы отслеживать стабильность в обучении модели во время подбора гиперпараметров и тестирования. Тестовая выборка нужна для итоговой оценки качества модели на новых данных.\n",
    "\n",
    "Фукнции валидации:\n",
    "- Отслеживание переобучения\n",
    "- Выбор оптимальных гиперпараметров\n",
    "- Сравнение разных архитектур моделей\n",
    "\n",
    "Функции тестовой выборки:\n",
    "- Объективная оценка производительности на \"невиденных\" данных\n",
    "- Оценка способности модели к генерализации"
   ]
  }
 ],
 "metadata": {
  "kernelspec": {
   "display_name": "credit-scoring",
   "language": "python",
   "name": "python3"
  },
  "language_info": {
   "codemirror_mode": {
    "name": "ipython",
    "version": 3
   },
   "file_extension": ".py",
   "mimetype": "text/x-python",
   "name": "python",
   "nbconvert_exporter": "python",
   "pygments_lexer": "ipython3",
   "version": "3.13.5"
  }
 },
 "nbformat": 4,
 "nbformat_minor": 5
}
